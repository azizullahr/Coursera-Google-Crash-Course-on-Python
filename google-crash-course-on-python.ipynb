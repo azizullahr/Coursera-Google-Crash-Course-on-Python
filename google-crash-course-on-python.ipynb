{
 "cells": [
  {
   "cell_type": "markdown",
   "id": "510d1559",
   "metadata": {
    "papermill": {
     "duration": 0.049992,
     "end_time": "2022-09-13T10:01:52.595113",
     "exception": false,
     "start_time": "2022-09-13T10:01:52.545121",
     "status": "completed"
    },
    "tags": []
   },
   "source": [
    "<img src=\"https://th.bing.com/th/id/OIP.iJ1yjtCeJfD2khGqkui3CAHaB4?pid=ImgDet&rs=1\" alt=\"python logo\" width=\"1000px\"> \n",
    "<h1 align=\"center\">Coursera: Google Crash Course on Python</h1>\n",
    "\n",
    "## This repository contains solutions to coding exercises as notebooks prepared by me.\n",
    "\n",
    "# NOTE: \n",
    "- All the codes were tested and passed on coursera.\n",
    "- If you find any error or face any issue, let me know through issue section.\n",
    "- The questions are as presented exactly in the course without any modification.  \n",
    "- If you don't find any problem solution of practice quiz or module assessment, open an issue including the problem description along week number. :fire:\n",
    "\n",
    "\n",
    "**Crash Course on Python** part of the ***Google IT Automation with Python Professional Certificate***\n",
    "\n",
    "  - **Week 1: Introduction to Python** \n",
    "    - [x] Practice Quiz: Introduction to python\n",
    "    - [x] Practice Quiz: Hello World\n",
    "    - [x] Module 2 Graded Assessment\n",
    "  \n",
    "  - **Week 2: Basic Python Syntax**    \n",
    "    - [x] Practice Quiz: Expressions and Variables\n",
    "    - [x] Practice Quiz: Functions\n",
    "    - [x] Practice Quiz: Conditionals\n",
    "    - [x] Module 2 Graded Assessment\n",
    "\n",
    "  - **Week 3: Loops**\n",
    "    - [x] Practice Quiz: While Loops\n",
    "    - [x] Practice Quiz: For Loops\n",
    "    - [x] Practice Quiz: Recursion(Optional)\n",
    "    - [x] Module 3 Graded Assessment\n",
    "    \n",
    "  - **Week 4: Strings, Lists and Dictionaries**\n",
    "    - [x] Practice Quiz: Strings\n",
    "    - [x] Practice Quiz: Lists\n",
    "    - [x] Practice Quiz: Dictionaries\n",
    "    - [x] Module 4 Graded Assessment\n",
    "\n",
    "  - **Week 5: Object Oriented Programming (Optional)**\n",
    "    - [x] Basics of Object Oriented Programming\n",
    "    - [x] Methods and Classes (Optional)\n",
    "    - [x] Code Reuse (Optional)\n",
    "    - [x] Practice Notebook: Object Oriented Programming (Optional)\n",
    "\n",
    "  - **Week 6: Final Project**\n",
    "    - [x] Practice Notebook - Putting It All Together\n",
    "    - [x] Final Project: WordCloud"
   ]
  },
  {
   "cell_type": "markdown",
   "id": "ab34723b",
   "metadata": {
    "papermill": {
     "duration": 0.045173,
     "end_time": "2022-09-13T10:01:52.685836",
     "exception": false,
     "start_time": "2022-09-13T10:01:52.640663",
     "status": "completed"
    },
    "tags": []
   },
   "source": [
    "<h1 align= \"center\">WEEK ONE<h1>"
   ]
  },
  {
   "cell_type": "markdown",
   "id": "886f43a4",
   "metadata": {
    "papermill": {
     "duration": 0.047273,
     "end_time": "2022-09-13T10:01:52.779162",
     "exception": false,
     "start_time": "2022-09-13T10:01:52.731889",
     "status": "completed"
    },
    "tags": []
   },
   "source": [
    "## Practice Quiz: Introduction to python"
   ]
  },
  {
   "cell_type": "markdown",
   "id": "417b091b",
   "metadata": {
    "papermill": {
     "duration": 0.045357,
     "end_time": "2022-09-13T10:01:52.870715",
     "exception": false,
     "start_time": "2022-09-13T10:01:52.825358",
     "status": "completed"
    },
    "tags": []
   },
   "source": [
    "Question 1:\n",
    "Fill in the correct Python command to put “My first Python program” onto the screen."
   ]
  },
  {
   "cell_type": "code",
   "execution_count": 1,
   "id": "58cfeda9",
   "metadata": {
    "execution": {
     "iopub.execute_input": "2022-09-13T10:01:52.963814Z",
     "iopub.status.busy": "2022-09-13T10:01:52.963338Z",
     "iopub.status.idle": "2022-09-13T10:01:52.976625Z",
     "shell.execute_reply": "2022-09-13T10:01:52.975585Z"
    },
    "papermill": {
     "duration": 0.062881,
     "end_time": "2022-09-13T10:01:52.979658",
     "exception": false,
     "start_time": "2022-09-13T10:01:52.916777",
     "status": "completed"
    },
    "tags": []
   },
   "outputs": [
    {
     "name": "stdout",
     "output_type": "stream",
     "text": [
      "My first Python program\n"
     ]
    }
   ],
   "source": [
    "print(\"My first Python program\")"
   ]
  },
  {
   "cell_type": "markdown",
   "id": "d615114a",
   "metadata": {
    "papermill": {
     "duration": 0.045062,
     "end_time": "2022-09-13T10:01:53.071920",
     "exception": false,
     "start_time": "2022-09-13T10:01:53.026858",
     "status": "completed"
    },
    "tags": []
   },
   "source": [
    "Question 3: \n",
    "Convert this Bash command into Python:"
   ]
  },
  {
   "cell_type": "code",
   "execution_count": 2,
   "id": "df2635a7",
   "metadata": {
    "execution": {
     "iopub.execute_input": "2022-09-13T10:01:53.165443Z",
     "iopub.status.busy": "2022-09-13T10:01:53.164782Z",
     "iopub.status.idle": "2022-09-13T10:01:53.170364Z",
     "shell.execute_reply": "2022-09-13T10:01:53.169249Z"
    },
    "papermill": {
     "duration": 0.05506,
     "end_time": "2022-09-13T10:01:53.172549",
     "exception": false,
     "start_time": "2022-09-13T10:01:53.117489",
     "status": "completed"
    },
    "tags": []
   },
   "outputs": [
    {
     "name": "stdout",
     "output_type": "stream",
     "text": [
      "Have a nice day\n"
     ]
    }
   ],
   "source": [
    "print(\"Have a nice day\")"
   ]
  },
  {
   "cell_type": "markdown",
   "id": "648ce667",
   "metadata": {
    "papermill": {
     "duration": 0.044756,
     "end_time": "2022-09-13T10:01:53.262759",
     "exception": false,
     "start_time": "2022-09-13T10:01:53.218003",
     "status": "completed"
    },
    "tags": []
   },
   "source": [
    "Question 4:\n",
    "Fill in the correct Python commands to put “This is fun!” onto the screen 5 times"
   ]
  },
  {
   "cell_type": "code",
   "execution_count": 3,
   "id": "cd901422",
   "metadata": {
    "execution": {
     "iopub.execute_input": "2022-09-13T10:01:53.355884Z",
     "iopub.status.busy": "2022-09-13T10:01:53.355473Z",
     "iopub.status.idle": "2022-09-13T10:01:53.361431Z",
     "shell.execute_reply": "2022-09-13T10:01:53.360328Z"
    },
    "papermill": {
     "duration": 0.05596,
     "end_time": "2022-09-13T10:01:53.364007",
     "exception": false,
     "start_time": "2022-09-13T10:01:53.308047",
     "status": "completed"
    },
    "tags": []
   },
   "outputs": [
    {
     "name": "stdout",
     "output_type": "stream",
     "text": [
      "This is fun!\n",
      "This is fun!\n",
      "This is fun!\n",
      "This is fun!\n",
      "This is fun!\n"
     ]
    }
   ],
   "source": [
    "for i in range(5):\n",
    "  print(\"This is fun!\")"
   ]
  },
  {
   "cell_type": "markdown",
   "id": "78f9893a",
   "metadata": {
    "papermill": {
     "duration": 0.045169,
     "end_time": "2022-09-13T10:01:53.454768",
     "exception": false,
     "start_time": "2022-09-13T10:01:53.409599",
     "status": "completed"
    },
    "tags": []
   },
   "source": [
    "Select the Python code snippet that corresponds to the following Javascript snippet:"
   ]
  },
  {
   "cell_type": "code",
   "execution_count": 4,
   "id": "0479aa7a",
   "metadata": {
    "execution": {
     "iopub.execute_input": "2022-09-13T10:01:53.546539Z",
     "iopub.status.busy": "2022-09-13T10:01:53.546125Z",
     "iopub.status.idle": "2022-09-13T10:01:53.551628Z",
     "shell.execute_reply": "2022-09-13T10:01:53.550465Z"
    },
    "papermill": {
     "duration": 0.054142,
     "end_time": "2022-09-13T10:01:53.554036",
     "exception": false,
     "start_time": "2022-09-13T10:01:53.499894",
     "status": "completed"
    },
    "tags": []
   },
   "outputs": [
    {
     "name": "stdout",
     "output_type": "stream",
     "text": [
      "0\n",
      "1\n",
      "2\n",
      "3\n",
      "4\n",
      "5\n",
      "6\n",
      "7\n",
      "8\n",
      "9\n"
     ]
    }
   ],
   "source": [
    "for i in range(10):\n",
    "  print(i)"
   ]
  },
  {
   "cell_type": "markdown",
   "id": "e9385d45",
   "metadata": {
    "papermill": {
     "duration": 0.045188,
     "end_time": "2022-09-13T10:01:53.644466",
     "exception": false,
     "start_time": "2022-09-13T10:01:53.599278",
     "status": "completed"
    },
    "tags": []
   },
   "source": [
    "## Practice Quiz: Hello world"
   ]
  },
  {
   "cell_type": "markdown",
   "id": "32d1b028",
   "metadata": {
    "papermill": {
     "duration": 0.046131,
     "end_time": "2022-09-13T10:01:53.740672",
     "exception": false,
     "start_time": "2022-09-13T10:01:53.694541",
     "status": "completed"
    },
    "tags": []
   },
   "source": [
    "Question 4:\n",
    "Output a message that says \"Programming in Python is fun!\" to the screen."
   ]
  },
  {
   "cell_type": "code",
   "execution_count": 5,
   "id": "d9f61375",
   "metadata": {
    "execution": {
     "iopub.execute_input": "2022-09-13T10:01:53.833357Z",
     "iopub.status.busy": "2022-09-13T10:01:53.832936Z",
     "iopub.status.idle": "2022-09-13T10:01:53.838696Z",
     "shell.execute_reply": "2022-09-13T10:01:53.837294Z"
    },
    "papermill": {
     "duration": 0.055506,
     "end_time": "2022-09-13T10:01:53.841596",
     "exception": false,
     "start_time": "2022-09-13T10:01:53.786090",
     "status": "completed"
    },
    "tags": []
   },
   "outputs": [
    {
     "name": "stdout",
     "output_type": "stream",
     "text": [
      "Programming in Python is fun!\n"
     ]
    }
   ],
   "source": [
    "print(\"Programming in Python is fun!\")"
   ]
  },
  {
   "cell_type": "markdown",
   "id": "c136c325",
   "metadata": {
    "papermill": {
     "duration": 0.045353,
     "end_time": "2022-09-13T10:01:53.932368",
     "exception": false,
     "start_time": "2022-09-13T10:01:53.887015",
     "status": "completed"
    },
    "tags": []
   },
   "source": [
    "Replace the ___ placeholder and calculate the Golden ratio:  \\frac{1+\\sqrt{5}}{2} \n",
    "2\n",
    "1+ \n",
    "5\n",
    "​\n",
    " \n",
    "​\n",
    " .\n",
    "\n",
    "Tip: to calculate the square root of a number xx, you can use x**(1/2)."
   ]
  },
  {
   "cell_type": "code",
   "execution_count": 6,
   "id": "e9a1abd6",
   "metadata": {
    "execution": {
     "iopub.execute_input": "2022-09-13T10:01:54.024485Z",
     "iopub.status.busy": "2022-09-13T10:01:54.024058Z",
     "iopub.status.idle": "2022-09-13T10:01:54.029961Z",
     "shell.execute_reply": "2022-09-13T10:01:54.028564Z"
    },
    "papermill": {
     "duration": 0.054901,
     "end_time": "2022-09-13T10:01:54.032594",
     "exception": false,
     "start_time": "2022-09-13T10:01:53.977693",
     "status": "completed"
    },
    "tags": []
   },
   "outputs": [
    {
     "name": "stdout",
     "output_type": "stream",
     "text": [
      "1.618033988749895\n"
     ]
    }
   ],
   "source": [
    "ratio = (1+5**(1/2))/2\n",
    "print(ratio)"
   ]
  },
  {
   "cell_type": "markdown",
   "id": "d4c80ae3",
   "metadata": {
    "papermill": {
     "duration": 0.045997,
     "end_time": "2022-09-13T10:01:54.124637",
     "exception": false,
     "start_time": "2022-09-13T10:01:54.078640",
     "status": "completed"
    },
    "tags": []
   },
   "source": [
    "## Graded Assessment"
   ]
  },
  {
   "cell_type": "markdown",
   "id": "de2ee891",
   "metadata": {
    "papermill": {
     "duration": 0.044925,
     "end_time": "2022-09-13T10:01:54.214641",
     "exception": false,
     "start_time": "2022-09-13T10:01:54.169716",
     "status": "completed"
    },
    "tags": []
   },
   "source": [
    "Question 6: \n",
    "Write a Python script that outputs \"Automating with Python is fun!\" to the screen"
   ]
  },
  {
   "cell_type": "code",
   "execution_count": 7,
   "id": "886c3e55",
   "metadata": {
    "execution": {
     "iopub.execute_input": "2022-09-13T10:01:54.308034Z",
     "iopub.status.busy": "2022-09-13T10:01:54.307605Z",
     "iopub.status.idle": "2022-09-13T10:01:54.313591Z",
     "shell.execute_reply": "2022-09-13T10:01:54.312044Z"
    },
    "papermill": {
     "duration": 0.056158,
     "end_time": "2022-09-13T10:01:54.316167",
     "exception": false,
     "start_time": "2022-09-13T10:01:54.260009",
     "status": "completed"
    },
    "tags": []
   },
   "outputs": [
    {
     "name": "stdout",
     "output_type": "stream",
     "text": [
      "Automating with Python is fun!\n"
     ]
    }
   ],
   "source": [
    "print(\"Automating with Python is fun!\")"
   ]
  },
  {
   "cell_type": "markdown",
   "id": "20ac04b8",
   "metadata": {
    "papermill": {
     "duration": 0.045958,
     "end_time": "2022-09-13T10:01:54.407643",
     "exception": false,
     "start_time": "2022-09-13T10:01:54.361685",
     "status": "completed"
    },
    "tags": []
   },
   "source": [
    "Question 7: \n",
    "Fill in the blanks so that the code prints \"Yellow is the color of sunshine\"."
   ]
  },
  {
   "cell_type": "code",
   "execution_count": 8,
   "id": "b3d1cf50",
   "metadata": {
    "execution": {
     "iopub.execute_input": "2022-09-13T10:01:54.501425Z",
     "iopub.status.busy": "2022-09-13T10:01:54.500980Z",
     "iopub.status.idle": "2022-09-13T10:01:54.506725Z",
     "shell.execute_reply": "2022-09-13T10:01:54.505470Z"
    },
    "papermill": {
     "duration": 0.055778,
     "end_time": "2022-09-13T10:01:54.509085",
     "exception": false,
     "start_time": "2022-09-13T10:01:54.453307",
     "status": "completed"
    },
    "tags": []
   },
   "outputs": [
    {
     "name": "stdout",
     "output_type": "stream",
     "text": [
      "Yellow is the color of sunshine\n"
     ]
    }
   ],
   "source": [
    "print (\"Yellow is the color of sunshine\")"
   ]
  },
  {
   "cell_type": "markdown",
   "id": "43fdb160",
   "metadata": {
    "papermill": {
     "duration": 0.045265,
     "end_time": "2022-09-13T10:01:54.600280",
     "exception": false,
     "start_time": "2022-09-13T10:01:54.555015",
     "status": "completed"
    },
    "tags": []
   },
   "source": [
    "Question 8:\n",
    "Keeping in mind there are 86400 seconds per day, write a program that calculates how many seconds there are in a week, if a week is 7 days.  Print the result on the screen.\n",
    "\n",
    "Note: Your result should be in the format of just a number, not a sentence."
   ]
  },
  {
   "cell_type": "code",
   "execution_count": 9,
   "id": "0a92cf61",
   "metadata": {
    "execution": {
     "iopub.execute_input": "2022-09-13T10:01:54.694764Z",
     "iopub.status.busy": "2022-09-13T10:01:54.693996Z",
     "iopub.status.idle": "2022-09-13T10:01:54.699446Z",
     "shell.execute_reply": "2022-09-13T10:01:54.698575Z"
    },
    "papermill": {
     "duration": 0.055956,
     "end_time": "2022-09-13T10:01:54.701940",
     "exception": false,
     "start_time": "2022-09-13T10:01:54.645984",
     "status": "completed"
    },
    "tags": []
   },
   "outputs": [
    {
     "name": "stdout",
     "output_type": "stream",
     "text": [
      "604800\n"
     ]
    }
   ],
   "source": [
    "x = 86400*7\n",
    "print(x)"
   ]
  },
  {
   "cell_type": "markdown",
   "id": "7356fe49",
   "metadata": {
    "papermill": {
     "duration": 0.045509,
     "end_time": "2022-09-13T10:01:54.792972",
     "exception": false,
     "start_time": "2022-09-13T10:01:54.747463",
     "status": "completed"
    },
    "tags": []
   },
   "source": [
    "Question 9: \n",
    "Use Python to calculate how many different passwords can be formed with 6 lower case English letters.  For a 1 letter password, there would be 26 possibilities.  For a 2 letter password, each letter is independent of the other, so there would be 26 times 26 possibilities.  Using this information, print the amount of possible passwords that can be formed with 6 letters."
   ]
  },
  {
   "cell_type": "code",
   "execution_count": 10,
   "id": "691e18d5",
   "metadata": {
    "execution": {
     "iopub.execute_input": "2022-09-13T10:01:54.888320Z",
     "iopub.status.busy": "2022-09-13T10:01:54.887886Z",
     "iopub.status.idle": "2022-09-13T10:01:54.893764Z",
     "shell.execute_reply": "2022-09-13T10:01:54.892359Z"
    },
    "papermill": {
     "duration": 0.058238,
     "end_time": "2022-09-13T10:01:54.897738",
     "exception": false,
     "start_time": "2022-09-13T10:01:54.839500",
     "status": "completed"
    },
    "tags": []
   },
   "outputs": [
    {
     "name": "stdout",
     "output_type": "stream",
     "text": [
      "308915776\n"
     ]
    }
   ],
   "source": [
    "x = 26**6\n",
    "print(x)"
   ]
  },
  {
   "cell_type": "markdown",
   "id": "d5d8f134",
   "metadata": {
    "papermill": {
     "duration": 0.045226,
     "end_time": "2022-09-13T10:01:54.989342",
     "exception": false,
     "start_time": "2022-09-13T10:01:54.944116",
     "status": "completed"
    },
    "tags": []
   },
   "source": [
    "Question 10: \n",
    "Most hard drives are divided into sectors of 512 bytes each.  Our disk has a size of 16 GB. Fill in the blank to calculate how many sectors the disk has.\n",
    "\n",
    "Note: Your result should be in the format of just a number, not a sentence."
   ]
  },
  {
   "cell_type": "code",
   "execution_count": 11,
   "id": "5c6ec997",
   "metadata": {
    "execution": {
     "iopub.execute_input": "2022-09-13T10:01:55.082864Z",
     "iopub.status.busy": "2022-09-13T10:01:55.082441Z",
     "iopub.status.idle": "2022-09-13T10:01:55.088433Z",
     "shell.execute_reply": "2022-09-13T10:01:55.087224Z"
    },
    "papermill": {
     "duration": 0.056177,
     "end_time": "2022-09-13T10:01:55.090990",
     "exception": false,
     "start_time": "2022-09-13T10:01:55.034813",
     "status": "completed"
    },
    "tags": []
   },
   "outputs": [
    {
     "name": "stdout",
     "output_type": "stream",
     "text": [
      "33554432\n"
     ]
    }
   ],
   "source": [
    "disk_size = 16*1024**3\n",
    "sector_size = 512\n",
    "sector_amount = disk_size // sector_size\n",
    "\n",
    "print(sector_amount)"
   ]
  },
  {
   "cell_type": "markdown",
   "id": "2ea132de",
   "metadata": {
    "papermill": {
     "duration": 0.045248,
     "end_time": "2022-09-13T10:01:55.182031",
     "exception": false,
     "start_time": "2022-09-13T10:01:55.136783",
     "status": "completed"
    },
    "tags": []
   },
   "source": [
    "<h1 align= \"center\">WEEK TWO<h1>"
   ]
  },
  {
   "cell_type": "markdown",
   "id": "ca563144",
   "metadata": {
    "papermill": {
     "duration": 0.044947,
     "end_time": "2022-09-13T10:01:55.272313",
     "exception": false,
     "start_time": "2022-09-13T10:01:55.227366",
     "status": "completed"
    },
    "tags": []
   },
   "source": [
    "## Practice Quiz: Expressions and Variables"
   ]
  },
  {
   "cell_type": "markdown",
   "id": "2b677357",
   "metadata": {
    "papermill": {
     "duration": 0.045246,
     "end_time": "2022-09-13T10:01:55.363328",
     "exception": false,
     "start_time": "2022-09-13T10:01:55.318082",
     "status": "completed"
    },
    "tags": []
   },
   "source": [
    "Question 1: \n",
    "In this scenario, two friends are eating dinner at a restaurant. The bill comes in the amount of 47.28 dollars. The friends decide to split the bill evenly between them, after adding 15% tip for the service. Calculate the tip, the total amount to pay, and each friend's share, then output a message saying \"Each person needs to pay: \" followed by the resulting number"
   ]
  },
  {
   "cell_type": "code",
   "execution_count": 12,
   "id": "73e52624",
   "metadata": {
    "execution": {
     "iopub.execute_input": "2022-09-13T10:01:55.456406Z",
     "iopub.status.busy": "2022-09-13T10:01:55.456021Z",
     "iopub.status.idle": "2022-09-13T10:01:55.460964Z",
     "shell.execute_reply": "2022-09-13T10:01:55.460212Z"
    },
    "papermill": {
     "duration": 0.054523,
     "end_time": "2022-09-13T10:01:55.463467",
     "exception": false,
     "start_time": "2022-09-13T10:01:55.408944",
     "status": "completed"
    },
    "tags": []
   },
   "outputs": [
    {
     "name": "stdout",
     "output_type": "stream",
     "text": [
      "Each person needs to pay: 27.186\n"
     ]
    }
   ],
   "source": [
    "bill = 47.28\n",
    "tip = bill*0.15\n",
    "total_bill = bill + tip\n",
    "price_for_each = total_bill/2\n",
    "print(f\"Each person needs to pay: {price_for_each}\")\n"
   ]
  },
  {
   "cell_type": "markdown",
   "id": "4bc0fdf6",
   "metadata": {
    "papermill": {
     "duration": 0.044902,
     "end_time": "2022-09-13T10:01:55.553620",
     "exception": false,
     "start_time": "2022-09-13T10:01:55.508718",
     "status": "completed"
    },
    "tags": []
   },
   "source": [
    "Question 2: \n",
    "This code is supposed to take two numbers, divide one by another so that the result is equal to 1, and display the result on the screen. Unfortunately, there is an error in the code. Find the error and fix it, so that the output is correct."
   ]
  },
  {
   "cell_type": "code",
   "execution_count": 13,
   "id": "77e4f1e4",
   "metadata": {
    "execution": {
     "iopub.execute_input": "2022-09-13T10:01:55.646276Z",
     "iopub.status.busy": "2022-09-13T10:01:55.645486Z",
     "iopub.status.idle": "2022-09-13T10:01:55.651023Z",
     "shell.execute_reply": "2022-09-13T10:01:55.650219Z"
    },
    "papermill": {
     "duration": 0.054332,
     "end_time": "2022-09-13T10:01:55.653352",
     "exception": false,
     "start_time": "2022-09-13T10:01:55.599020",
     "status": "completed"
    },
    "tags": []
   },
   "outputs": [
    {
     "name": "stdout",
     "output_type": "stream",
     "text": [
      "1\n"
     ]
    }
   ],
   "source": [
    "numerator = 10\n",
    "denominator = numerator\n",
    "result = numerator / denominator\n",
    "print(int(result))"
   ]
  },
  {
   "cell_type": "markdown",
   "id": "04058275",
   "metadata": {
    "papermill": {
     "duration": 0.045442,
     "end_time": "2022-09-13T10:01:55.744827",
     "exception": false,
     "start_time": "2022-09-13T10:01:55.699385",
     "status": "completed"
    },
    "tags": []
   },
   "source": [
    "Question 3: \n",
    "Combine the variables to display the sentence \"How do you like Python so far?\""
   ]
  },
  {
   "cell_type": "code",
   "execution_count": 14,
   "id": "a92fefa8",
   "metadata": {
    "execution": {
     "iopub.execute_input": "2022-09-13T10:01:55.902129Z",
     "iopub.status.busy": "2022-09-13T10:01:55.901379Z",
     "iopub.status.idle": "2022-09-13T10:01:55.907361Z",
     "shell.execute_reply": "2022-09-13T10:01:55.906248Z"
    },
    "papermill": {
     "duration": 0.054464,
     "end_time": "2022-09-13T10:01:55.909313",
     "exception": false,
     "start_time": "2022-09-13T10:01:55.854849",
     "status": "completed"
    },
    "tags": []
   },
   "outputs": [
    {
     "name": "stdout",
     "output_type": "stream",
     "text": [
      "How do you like Python so far?\n"
     ]
    }
   ],
   "source": [
    "word1 = \"How\"\n",
    "word2 = \"do\"\n",
    "word3 = \"you\"\n",
    "word4 = \"like\"\n",
    "word5 = \"Python\"\n",
    "word6 = \"so\"\n",
    "word7 = \"far?\"\n",
    "print(f\"{word1} {word2} {word3} {word4} {word5} {word6} {word7}\")"
   ]
  },
  {
   "cell_type": "markdown",
   "id": "60f1caf0",
   "metadata": {
    "papermill": {
     "duration": 0.045149,
     "end_time": "2022-09-13T10:01:55.999703",
     "exception": false,
     "start_time": "2022-09-13T10:01:55.954554",
     "status": "completed"
    },
    "tags": []
   },
   "source": [
    "Question 4: \n",
    "This code is supposed to display \"2 + 2 = 4\" on the screen, but there is an error. Find the error in the code and fix it, so that the output is correct."
   ]
  },
  {
   "cell_type": "code",
   "execution_count": 15,
   "id": "eb47d234",
   "metadata": {
    "execution": {
     "iopub.execute_input": "2022-09-13T10:01:56.092978Z",
     "iopub.status.busy": "2022-09-13T10:01:56.092246Z",
     "iopub.status.idle": "2022-09-13T10:01:56.097958Z",
     "shell.execute_reply": "2022-09-13T10:01:56.096398Z"
    },
    "papermill": {
     "duration": 0.056083,
     "end_time": "2022-09-13T10:01:56.101248",
     "exception": false,
     "start_time": "2022-09-13T10:01:56.045165",
     "status": "completed"
    },
    "tags": []
   },
   "outputs": [
    {
     "name": "stdout",
     "output_type": "stream",
     "text": [
      "2 + 2 = 4\n"
     ]
    }
   ],
   "source": [
    "print(\"2 + 2 = \" + str(2 + 2))"
   ]
  },
  {
   "cell_type": "markdown",
   "id": "c89d8882",
   "metadata": {
    "papermill": {
     "duration": 0.045435,
     "end_time": "2022-09-13T10:01:56.193491",
     "exception": false,
     "start_time": "2022-09-13T10:01:56.148056",
     "status": "completed"
    },
    "tags": []
   },
   "source": [
    "## Practice Quiz: Functions"
   ]
  },
  {
   "cell_type": "markdown",
   "id": "d046480a",
   "metadata": {
    "papermill": {
     "duration": 0.046344,
     "end_time": "2022-09-13T10:01:56.285668",
     "exception": false,
     "start_time": "2022-09-13T10:01:56.239324",
     "status": "completed"
    },
    "tags": []
   },
   "source": [
    "Question 1: \n",
    "This function converts miles to kilometers (km).\n",
    "\n",
    "1. Complete the function to return the result of the conversion\n",
    "\n",
    "2. Call the function to convert the trip distance from miles to kilometers\n",
    "\n",
    "3. Fill in the blank to print the result of the conversion\n",
    "\n",
    "4. Calculate the round-trip in kilometers by doubling the result, and fill in the blank to print the resul"
   ]
  },
  {
   "cell_type": "code",
   "execution_count": 16,
   "id": "5acd541f",
   "metadata": {
    "execution": {
     "iopub.execute_input": "2022-09-13T10:01:56.379911Z",
     "iopub.status.busy": "2022-09-13T10:01:56.379526Z",
     "iopub.status.idle": "2022-09-13T10:01:56.386673Z",
     "shell.execute_reply": "2022-09-13T10:01:56.385611Z"
    },
    "papermill": {
     "duration": 0.056821,
     "end_time": "2022-09-13T10:01:56.388978",
     "exception": false,
     "start_time": "2022-09-13T10:01:56.332157",
     "status": "completed"
    },
    "tags": []
   },
   "outputs": [
    {
     "name": "stdout",
     "output_type": "stream",
     "text": [
      "The distance in kilometers is 88.0\n",
      "The round-trip in kilometers is 176.0\n"
     ]
    }
   ],
   "source": [
    "# 1) Complete the function to return the result of the conversion\n",
    "def convert_distance(miles):\n",
    "\tkm = miles * 1.6  # approximately 1.6 km in 1 mile\n",
    "\treturn km\n",
    "\n",
    "my_trip_miles = 55\n",
    "\n",
    "# 2) Convert my_trip_miles to kilometers by calling the function above\n",
    "my_trip_km = convert_distance(55)\n",
    "\n",
    "# 3) Fill in the blank to print the result of the conversion\n",
    "print(\"The distance in kilometers is \" + str(my_trip_km))\n",
    "\n",
    "# 4) Calculate the round-trip in kilometers by doubling the result,\n",
    "#    and fill in the blank to print the result\n",
    "print(\"The round-trip in kilometers is \" + str((2*my_trip_km)))"
   ]
  },
  {
   "cell_type": "markdown",
   "id": "0c6ffab0",
   "metadata": {
    "papermill": {
     "duration": 0.045309,
     "end_time": "2022-09-13T10:01:56.480177",
     "exception": false,
     "start_time": "2022-09-13T10:01:56.434868",
     "status": "completed"
    },
    "tags": []
   },
   "source": [
    "Question 2: \n",
    "This function compares two numbers and returns them in increasing order.\n",
    "\n",
    "1. Fill in the blanks, so the print statement displays the result of the function call in order.\n",
    "\n",
    "Hint: if a function returns multiple values, don't forget to store these values in multiple variables"
   ]
  },
  {
   "cell_type": "code",
   "execution_count": 17,
   "id": "dfca7bbc",
   "metadata": {
    "execution": {
     "iopub.execute_input": "2022-09-13T10:01:56.573308Z",
     "iopub.status.busy": "2022-09-13T10:01:56.572911Z",
     "iopub.status.idle": "2022-09-13T10:01:56.579382Z",
     "shell.execute_reply": "2022-09-13T10:01:56.578159Z"
    },
    "papermill": {
     "duration": 0.056021,
     "end_time": "2022-09-13T10:01:56.581869",
     "exception": false,
     "start_time": "2022-09-13T10:01:56.525848",
     "status": "completed"
    },
    "tags": []
   },
   "outputs": [
    {
     "name": "stdout",
     "output_type": "stream",
     "text": [
      "99 100\n"
     ]
    }
   ],
   "source": [
    "# This function compares two numbers and returns them\n",
    "# in increasing order.\n",
    "def order_numbers(number1, number2):\n",
    "\tif number2 > number1:\n",
    "\t\treturn number1, number2\n",
    "\telse:\n",
    "\t\treturn number2, number1\n",
    "\n",
    "# 1) Fill in the blanks so the print statement displays the result\n",
    "#    of the function call\n",
    "smaller, bigger = order_numbers(100, 99)\n",
    "print(smaller, bigger)"
   ]
  },
  {
   "cell_type": "markdown",
   "id": "6bbcd737",
   "metadata": {
    "papermill": {
     "duration": 0.045733,
     "end_time": "2022-09-13T10:01:56.673726",
     "exception": false,
     "start_time": "2022-09-13T10:01:56.627993",
     "status": "completed"
    },
    "tags": []
   },
   "source": [
    "Question 4: \n",
    "Let's revisit our lucky_number function. We want to change it, so that instead of printing the message, it returns the message. This way, the calling line can print the message, or do something else with it if needed. Fill in the blanks to complete the code to make it work"
   ]
  },
  {
   "cell_type": "code",
   "execution_count": 18,
   "id": "55acb0e5",
   "metadata": {
    "execution": {
     "iopub.execute_input": "2022-09-13T10:01:56.768177Z",
     "iopub.status.busy": "2022-09-13T10:01:56.767168Z",
     "iopub.status.idle": "2022-09-13T10:01:56.774152Z",
     "shell.execute_reply": "2022-09-13T10:01:56.773029Z"
    },
    "papermill": {
     "duration": 0.056478,
     "end_time": "2022-09-13T10:01:56.776594",
     "exception": false,
     "start_time": "2022-09-13T10:01:56.720116",
     "status": "completed"
    },
    "tags": []
   },
   "outputs": [
    {
     "name": "stdout",
     "output_type": "stream",
     "text": [
      "Hello Kay. Your lucky number is 27\n",
      "Hello Cameron. Your lucky number is 63\n"
     ]
    }
   ],
   "source": [
    "def lucky_number(name):\n",
    "  number = len(name) * 9\n",
    "  message = \"Hello \" + name + \". Your lucky number is \" + str(number)\n",
    "  return message\n",
    "\t    \n",
    "print(lucky_number(\"Kay\"))\n",
    "print(lucky_number(\"Cameron\"))"
   ]
  },
  {
   "cell_type": "markdown",
   "id": "df8e5f8f",
   "metadata": {
    "papermill": {
     "duration": 0.045734,
     "end_time": "2022-09-13T10:01:56.868849",
     "exception": false,
     "start_time": "2022-09-13T10:01:56.823115",
     "status": "completed"
    },
    "tags": []
   },
   "source": [
    "## Practice Quiz: Conditionals"
   ]
  },
  {
   "cell_type": "markdown",
   "id": "f41ba56f",
   "metadata": {
    "papermill": {
     "duration": 0.046641,
     "end_time": "2022-09-13T10:01:56.961377",
     "exception": false,
     "start_time": "2022-09-13T10:01:56.914736",
     "status": "completed"
    },
    "tags": []
   },
   "source": [
    "Question 2: \n",
    "Complete the script by filling in the missing parts. The function receives a name, then returns a greeting based on whether or not that name is \"Taylor\""
   ]
  },
  {
   "cell_type": "code",
   "execution_count": 19,
   "id": "2d07fd9e",
   "metadata": {
    "execution": {
     "iopub.execute_input": "2022-09-13T10:01:57.055599Z",
     "iopub.status.busy": "2022-09-13T10:01:57.055169Z",
     "iopub.status.idle": "2022-09-13T10:01:57.061702Z",
     "shell.execute_reply": "2022-09-13T10:01:57.060599Z"
    },
    "papermill": {
     "duration": 0.056632,
     "end_time": "2022-09-13T10:01:57.064154",
     "exception": false,
     "start_time": "2022-09-13T10:01:57.007522",
     "status": "completed"
    },
    "tags": []
   },
   "outputs": [
    {
     "name": "stdout",
     "output_type": "stream",
     "text": [
      "Welcome back Taylor!\n",
      "Hello there, John\n"
     ]
    }
   ],
   "source": [
    "def greeting(name):\n",
    "  if name == \"Taylor\":\n",
    "    return \"Welcome back Taylor!\"\n",
    "  else:\n",
    "    return \"Hello there, \" + name\n",
    "\n",
    "print(greeting(\"Taylor\"))\n",
    "print(greeting(\"John\"))"
   ]
  },
  {
   "cell_type": "markdown",
   "id": "525b7f06",
   "metadata": {
    "papermill": {
     "duration": 0.045674,
     "end_time": "2022-09-13T10:01:57.156320",
     "exception": false,
     "start_time": "2022-09-13T10:01:57.110646",
     "status": "completed"
    },
    "tags": []
   },
   "source": [
    "Question 3: \n",
    "What’s the output of this code if number equals 10?"
   ]
  },
  {
   "cell_type": "code",
   "execution_count": 20,
   "id": "8f05ac37",
   "metadata": {
    "execution": {
     "iopub.execute_input": "2022-09-13T10:01:57.250454Z",
     "iopub.status.busy": "2022-09-13T10:01:57.249776Z",
     "iopub.status.idle": "2022-09-13T10:01:57.256176Z",
     "shell.execute_reply": "2022-09-13T10:01:57.255159Z"
    },
    "papermill": {
     "duration": 0.05604,
     "end_time": "2022-09-13T10:01:57.258712",
     "exception": false,
     "start_time": "2022-09-13T10:01:57.202672",
     "status": "completed"
    },
    "tags": []
   },
   "outputs": [
    {
     "name": "stdout",
     "output_type": "stream",
     "text": [
      "1\n"
     ]
    }
   ],
   "source": [
    "number = 4 # you can change the number here\n",
    "if number > 11: \n",
    "  print(0)\n",
    "elif number != 10:\n",
    "  print(1)\n",
    "elif number >= 20 or number < 12:\n",
    "  print(2)\n",
    "else:\n",
    "  print(3)"
   ]
  },
  {
   "cell_type": "markdown",
   "id": "934ef0b8",
   "metadata": {
    "papermill": {
     "duration": 0.046234,
     "end_time": "2022-09-13T10:01:57.351120",
     "exception": false,
     "start_time": "2022-09-13T10:01:57.304886",
     "status": "completed"
    },
    "tags": []
   },
   "source": [
    "Question 4: \n",
    "Is \"A dog\" smaller or larger than \"A mouse\"? Is 9999+8888 smaller or larger than 100*100? Replace the plus sign in the following code to let Python check it for you and then answer. <br>\n",
    "`Answer: \"A dog\" is smaller than \"A mouse\" and 9999+8888 is larger than 100*100` "
   ]
  },
  {
   "cell_type": "code",
   "execution_count": 21,
   "id": "76a7dac8",
   "metadata": {
    "execution": {
     "iopub.execute_input": "2022-09-13T10:01:57.445778Z",
     "iopub.status.busy": "2022-09-13T10:01:57.445412Z",
     "iopub.status.idle": "2022-09-13T10:01:57.450209Z",
     "shell.execute_reply": "2022-09-13T10:01:57.449395Z"
    },
    "papermill": {
     "duration": 0.055273,
     "end_time": "2022-09-13T10:01:57.453152",
     "exception": false,
     "start_time": "2022-09-13T10:01:57.397879",
     "status": "completed"
    },
    "tags": []
   },
   "outputs": [
    {
     "name": "stdout",
     "output_type": "stream",
     "text": [
      "False\n",
      "True\n"
     ]
    }
   ],
   "source": [
    "print(\"A dog\" > \"A mouse\")\n",
    "print(9999+8888 > 100*100)"
   ]
  },
  {
   "cell_type": "markdown",
   "id": "fbe78159",
   "metadata": {
    "papermill": {
     "duration": 0.045907,
     "end_time": "2022-09-13T10:01:57.546847",
     "exception": false,
     "start_time": "2022-09-13T10:01:57.500940",
     "status": "completed"
    },
    "tags": []
   },
   "source": [
    "Question 5:\n",
    "If a filesystem has a block size of 4096 bytes, this means that a file comprised of only one byte will still use 4096 bytes of storage. A file made up of 4097 bytes will use 4096*2=8192 bytes of storage. Knowing this, can you fill in the gaps in the calculate_storage function below, which calculates the total number of bytes needed to store a file of a given size?"
   ]
  },
  {
   "cell_type": "code",
   "execution_count": 22,
   "id": "69f72f0c",
   "metadata": {
    "execution": {
     "iopub.execute_input": "2022-09-13T10:01:57.641834Z",
     "iopub.status.busy": "2022-09-13T10:01:57.641391Z",
     "iopub.status.idle": "2022-09-13T10:01:57.648584Z",
     "shell.execute_reply": "2022-09-13T10:01:57.647734Z"
    },
    "papermill": {
     "duration": 0.05839,
     "end_time": "2022-09-13T10:01:57.651894",
     "exception": false,
     "start_time": "2022-09-13T10:01:57.593504",
     "status": "completed"
    },
    "tags": []
   },
   "outputs": [
    {
     "name": "stdout",
     "output_type": "stream",
     "text": [
      "4096\n",
      "4096\n",
      "8192\n",
      "8192\n"
     ]
    }
   ],
   "source": [
    "def calculate_storage(filesize):\n",
    "    block_size = 4096\n",
    "    # Use floor division to calculate how many blocks are fully occupied\n",
    "    full_blocks = filesize//block_size\n",
    "    # Use the modulo operator to check whether there's any remainder\n",
    "    partial_block_remainder = filesize%block_size\n",
    "    # Depending on whether there's a remainder or not, return\n",
    "    # the total number of bytes required to allocate enough blocks\n",
    "    # to store your data.\n",
    "    if partial_block_remainder > 0:\n",
    "        return (full_blocks +1) * block_size\n",
    "    return full_blocks*block_size\n",
    "\n",
    "print(calculate_storage(1))    # Should be 4096\n",
    "print(calculate_storage(4096)) # Should be 4096\n",
    "print(calculate_storage(4097)) # Should be 8192\n",
    "print(calculate_storage(6000)) # Should be 8192"
   ]
  },
  {
   "cell_type": "markdown",
   "id": "08c2307d",
   "metadata": {
    "papermill": {
     "duration": 0.046892,
     "end_time": "2022-09-13T10:01:57.746820",
     "exception": false,
     "start_time": "2022-09-13T10:01:57.699928",
     "status": "completed"
    },
    "tags": []
   },
   "source": [
    "## Module 2 Graded Assessment"
   ]
  },
  {
   "cell_type": "markdown",
   "id": "e48e25bb",
   "metadata": {
    "papermill": {
     "duration": 0.046693,
     "end_time": "2022-09-13T10:01:57.840049",
     "exception": false,
     "start_time": "2022-09-13T10:01:57.793356",
     "status": "completed"
    },
    "tags": []
   },
   "source": [
    "Question 1: \n",
    "Complete the function by filling in the missing parts. The color_translator function receives the name of a color, then prints its hexadecimal value. Currently, it only supports the three additive primary colors (red, green, blue), so it returns \"unknown\" for all other colors"
   ]
  },
  {
   "cell_type": "code",
   "execution_count": 23,
   "id": "9e8bfdda",
   "metadata": {
    "execution": {
     "iopub.execute_input": "2022-09-13T10:01:57.934995Z",
     "iopub.status.busy": "2022-09-13T10:01:57.934582Z",
     "iopub.status.idle": "2022-09-13T10:01:57.947403Z",
     "shell.execute_reply": "2022-09-13T10:01:57.946420Z"
    },
    "papermill": {
     "duration": 0.063845,
     "end_time": "2022-09-13T10:01:57.950556",
     "exception": false,
     "start_time": "2022-09-13T10:01:57.886711",
     "status": "completed"
    },
    "tags": []
   },
   "outputs": [
    {
     "name": "stdout",
     "output_type": "stream",
     "text": [
      "#0000ff\n",
      "unknown\n",
      "#ff0000\n",
      "unknown\n",
      "#00ff00\n",
      "unknown\n"
     ]
    }
   ],
   "source": [
    "def color_translator(color):\n",
    "\tif color == \"red\":\n",
    "\t\thex_color = \"#ff0000\"\n",
    "\telif color == \"green\":\n",
    "\t\thex_color = \"#00ff00\"\n",
    "\telif color == \"blue\":\n",
    "\t\thex_color = \"#0000ff\"\n",
    "\telse:\n",
    "\t\thex_color = \"unknown\"\n",
    "\treturn hex_color\n",
    "\n",
    "print(color_translator(\"blue\")) # Should be #0000ff\n",
    "print(color_translator(\"yellow\")) # Should be unknown\n",
    "print(color_translator(\"red\")) # Should be #ff0000\n",
    "print(color_translator(\"black\")) # Should be unknown\n",
    "print(color_translator(\"green\")) # Should be #00ff00\n",
    "print(color_translator(\"\")) # Should be unknown"
   ]
  },
  {
   "cell_type": "markdown",
   "id": "d916f21d",
   "metadata": {
    "papermill": {
     "duration": 0.047212,
     "end_time": "2022-09-13T10:01:58.044593",
     "exception": false,
     "start_time": "2022-09-13T10:01:57.997381",
     "status": "completed"
    },
    "tags": []
   },
   "source": [
    "Question 4: \n",
    "Students in a class receive their grades as Pass/Fail. Scores of 60 or more (out of 100) mean that the grade is \"Pass\". For lower scores, the grade is \"Fail\". In addition, scores above 95 (not included) are graded as \"Top Score\". Fill in this function so that it returns the proper grade."
   ]
  },
  {
   "cell_type": "code",
   "execution_count": 24,
   "id": "f6effec7",
   "metadata": {
    "execution": {
     "iopub.execute_input": "2022-09-13T10:01:58.140713Z",
     "iopub.status.busy": "2022-09-13T10:01:58.140318Z",
     "iopub.status.idle": "2022-09-13T10:01:58.148778Z",
     "shell.execute_reply": "2022-09-13T10:01:58.147361Z"
    },
    "papermill": {
     "duration": 0.059576,
     "end_time": "2022-09-13T10:01:58.151483",
     "exception": false,
     "start_time": "2022-09-13T10:01:58.091907",
     "status": "completed"
    },
    "tags": []
   },
   "outputs": [
    {
     "name": "stdout",
     "output_type": "stream",
     "text": [
      "Pass\n",
      "Fail\n",
      "Pass\n",
      "Pass\n",
      "Top Score\n",
      "Fail\n"
     ]
    }
   ],
   "source": [
    "def exam_grade(score):\n",
    "\tif score > 95:\n",
    "\t\tgrade = \"Top Score\"\n",
    "\telif score >= 60:\n",
    "\t\tgrade = \"Pass\"\n",
    "\telse:\n",
    "\t\tgrade = \"Fail\"\n",
    "\treturn grade\n",
    "\n",
    "print(exam_grade(65)) # Should be Pass\n",
    "print(exam_grade(55)) # Should be Fail\n",
    "print(exam_grade(60)) # Should be Pass\n",
    "print(exam_grade(95)) # Should be Pass\n",
    "print(exam_grade(100)) # Should be Top Score\n",
    "print(exam_grade(0)) # Should be Fail"
   ]
  },
  {
   "cell_type": "markdown",
   "id": "deb3feb3",
   "metadata": {
    "papermill": {
     "duration": 0.047168,
     "end_time": "2022-09-13T10:01:58.246892",
     "exception": false,
     "start_time": "2022-09-13T10:01:58.199724",
     "status": "completed"
    },
    "tags": []
   },
   "source": [
    "Question 6: \n",
    "Complete the body of the format_name function. This function receives the first_name and last_name parameters and then returns a properly formatted string.\n",
    "\n",
    "Specifically:\n",
    "\n",
    "If both the last_name and the first_name parameters are supplied, the function should return like so:"
   ]
  },
  {
   "cell_type": "code",
   "execution_count": 25,
   "id": "e22032e2",
   "metadata": {
    "execution": {
     "iopub.execute_input": "2022-09-13T10:01:58.342549Z",
     "iopub.status.busy": "2022-09-13T10:01:58.341888Z",
     "iopub.status.idle": "2022-09-13T10:01:58.349168Z",
     "shell.execute_reply": "2022-09-13T10:01:58.348354Z"
    },
    "papermill": {
     "duration": 0.057603,
     "end_time": "2022-09-13T10:01:58.351686",
     "exception": false,
     "start_time": "2022-09-13T10:01:58.294083",
     "status": "completed"
    },
    "tags": []
   },
   "outputs": [
    {
     "name": "stdout",
     "output_type": "stream",
     "text": [
      "Name: Hemingway, Ernest\n",
      "Name: Madonna\n",
      "Name: Voltaire\n",
      "\n"
     ]
    }
   ],
   "source": [
    "def format_name(first_name, last_name):\n",
    "\t# code goes here\n",
    "\tif len(first_name) and len(last_name) > 0:\n",
    "\t\tstring =  \"Name: \" + last_name + \",\" \" \" + first_name\n",
    "\telif len(first_name) == 0 and len(last_name) > 0:\n",
    "\t\tstring =  \"Name: \" + last_name\n",
    "\telif len(first_name) > 0 and len(last_name) == 0 :\n",
    "\t\tstring =  \"Name: \" + first_name\n",
    "\telse:\n",
    "\t\tstring = first_name\n",
    "\treturn string \n",
    "\n",
    "print(format_name(\"Ernest\", \"Hemingway\"))\n",
    "# Should return the string \"Name: Hemingway, Ernest\"\n",
    "\n",
    "print(format_name(\"\", \"Madonna\"))\n",
    "# Should return the string \"Name: Madonna\"\n",
    "\n",
    "print(format_name(\"Voltaire\", \"\"))\n",
    "# Should return the string \"Name: Voltaire\"\n",
    "\n",
    "print(format_name(\"\", \"\"))\n",
    "# Should return an empty string"
   ]
  },
  {
   "cell_type": "markdown",
   "id": "6982de95",
   "metadata": {
    "papermill": {
     "duration": 0.045784,
     "end_time": "2022-09-13T10:01:58.443963",
     "exception": false,
     "start_time": "2022-09-13T10:01:58.398179",
     "status": "completed"
    },
    "tags": []
   },
   "source": [
    "Question 7: \n",
    "The longest_word function is used to compare 3 words. It should return the word with the most number of characters (and the first in the list when they have the same length). Fill in the blank to make this happen."
   ]
  },
  {
   "cell_type": "code",
   "execution_count": 26,
   "id": "77438564",
   "metadata": {
    "execution": {
     "iopub.execute_input": "2022-09-13T10:01:58.538317Z",
     "iopub.status.busy": "2022-09-13T10:01:58.537891Z",
     "iopub.status.idle": "2022-09-13T10:01:58.545676Z",
     "shell.execute_reply": "2022-09-13T10:01:58.544552Z"
    },
    "papermill": {
     "duration": 0.058278,
     "end_time": "2022-09-13T10:01:58.548548",
     "exception": false,
     "start_time": "2022-09-13T10:01:58.490270",
     "status": "completed"
    },
    "tags": []
   },
   "outputs": [
    {
     "name": "stdout",
     "output_type": "stream",
     "text": [
      "chair\n",
      "beyond\n",
      "notebook\n"
     ]
    }
   ],
   "source": [
    "def longest_word(word1, word2, word3):\n",
    "\tif len(word1) >= len(word2) and len(word1) >= len(word3):\n",
    "\t\tword = word1\n",
    "\telif len(word2) >= len(word1) and len(word2) >= len(word3):\n",
    "\t\tword = word2\n",
    "\telse:\n",
    "\t\tword = word3\n",
    "\treturn(word)\n",
    "\n",
    "print(longest_word(\"chair\", \"couch\", \"table\"))\n",
    "print(longest_word(\"bed\", \"bath\", \"beyond\"))\n",
    "print(longest_word(\"laptop\", \"notebook\", \"desktop\"))"
   ]
  },
  {
   "cell_type": "markdown",
   "id": "5dc968b8",
   "metadata": {
    "papermill": {
     "duration": 0.046044,
     "end_time": "2022-09-13T10:01:58.641873",
     "exception": false,
     "start_time": "2022-09-13T10:01:58.595829",
     "status": "completed"
    },
    "tags": []
   },
   "source": [
    "Question 8: \n",
    "What’s the output of this code?\n",
    "\n",
    "`Answer: ` <font color = 'blue'> 10 </font>"
   ]
  },
  {
   "cell_type": "code",
   "execution_count": 27,
   "id": "25c93f12",
   "metadata": {
    "execution": {
     "iopub.execute_input": "2022-09-13T10:01:58.736883Z",
     "iopub.status.busy": "2022-09-13T10:01:58.736083Z",
     "iopub.status.idle": "2022-09-13T10:01:58.742182Z",
     "shell.execute_reply": "2022-09-13T10:01:58.741072Z"
    },
    "papermill": {
     "duration": 0.057103,
     "end_time": "2022-09-13T10:01:58.745139",
     "exception": false,
     "start_time": "2022-09-13T10:01:58.688036",
     "status": "completed"
    },
    "tags": []
   },
   "outputs": [
    {
     "name": "stdout",
     "output_type": "stream",
     "text": [
      "10\n"
     ]
    }
   ],
   "source": [
    "def sum(x, y):\n",
    "\t\treturn(x+y)\n",
    "print(sum(sum(1,2), sum(3,4)))"
   ]
  },
  {
   "cell_type": "markdown",
   "id": "a3ad6350",
   "metadata": {
    "papermill": {
     "duration": 0.046196,
     "end_time": "2022-09-13T10:01:58.838040",
     "exception": false,
     "start_time": "2022-09-13T10:01:58.791844",
     "status": "completed"
    },
    "tags": []
   },
   "source": [
    "Question 9: What's the value of this Python expression?"
   ]
  },
  {
   "cell_type": "markdown",
   "id": "3efa3444",
   "metadata": {
    "papermill": {
     "duration": 0.047856,
     "end_time": "2022-09-13T10:01:58.934851",
     "exception": false,
     "start_time": "2022-09-13T10:01:58.886995",
     "status": "completed"
    },
    "tags": []
   },
   "source": [
    "`Answer:` True"
   ]
  },
  {
   "cell_type": "code",
   "execution_count": 28,
   "id": "c5139269",
   "metadata": {
    "execution": {
     "iopub.execute_input": "2022-09-13T10:01:59.030996Z",
     "iopub.status.busy": "2022-09-13T10:01:59.030614Z",
     "iopub.status.idle": "2022-09-13T10:01:59.039682Z",
     "shell.execute_reply": "2022-09-13T10:01:59.038588Z"
    },
    "papermill": {
     "duration": 0.059864,
     "end_time": "2022-09-13T10:01:59.042006",
     "exception": false,
     "start_time": "2022-09-13T10:01:58.982142",
     "status": "completed"
    },
    "tags": []
   },
   "outputs": [
    {
     "data": {
      "text/plain": [
       "True"
      ]
     },
     "execution_count": 28,
     "metadata": {},
     "output_type": "execute_result"
    }
   ],
   "source": [
    "((10 >= 5*2) and (10 <= 5*2))"
   ]
  },
  {
   "cell_type": "markdown",
   "id": "b6622008",
   "metadata": {
    "papermill": {
     "duration": 0.046151,
     "end_time": "2022-09-13T10:01:59.134613",
     "exception": false,
     "start_time": "2022-09-13T10:01:59.088462",
     "status": "completed"
    },
    "tags": []
   },
   "source": [
    "Question 10:\n",
    "The fractional_part function divides the numerator by the denominator, and returns just the fractional part (a number between 0 and 1). Complete the body of the function so that it returns the right number.\n",
    "Note: Since division by 0 produces an error, if the denominator is 0, the function should return 0 instead of attempting the division."
   ]
  },
  {
   "cell_type": "code",
   "execution_count": 29,
   "id": "ae9f0218",
   "metadata": {
    "execution": {
     "iopub.execute_input": "2022-09-13T10:01:59.229439Z",
     "iopub.status.busy": "2022-09-13T10:01:59.229044Z",
     "iopub.status.idle": "2022-09-13T10:01:59.236650Z",
     "shell.execute_reply": "2022-09-13T10:01:59.235434Z"
    },
    "papermill": {
     "duration": 0.058395,
     "end_time": "2022-09-13T10:01:59.239322",
     "exception": false,
     "start_time": "2022-09-13T10:01:59.180927",
     "status": "completed"
    },
    "tags": []
   },
   "outputs": [
    {
     "name": "stdout",
     "output_type": "stream",
     "text": [
      "0.0\n",
      "0.25\n",
      "0.6666666666666667\n",
      "0.5\n",
      "0\n",
      "0.0\n"
     ]
    }
   ],
   "source": [
    "def fractional_part(numerator, denominator):\n",
    "\t# Operate with numerator and denominator to \n",
    "# keep just the fractional part of the quotient\n",
    "\ttry:\n",
    "\t\tdiv = numerator / denominator\n",
    "\t\treturn div % 1\n",
    "\texcept ZeroDivisionError:\n",
    "\t\treturn 0\n",
    "\n",
    "print(fractional_part(5, 5)) # Should be 0\n",
    "print(fractional_part(5, 4)) # Should be 0.25\n",
    "print(fractional_part(5, 3)) # Should be 0.66...\n",
    "print(fractional_part(5, 2)) # Should be 0.5\n",
    "print(fractional_part(5, 0)) # Should be 0\n",
    "print(fractional_part(0, 5)) # Should be 0"
   ]
  },
  {
   "cell_type": "markdown",
   "id": "754dc110",
   "metadata": {
    "papermill": {
     "duration": 0.047946,
     "end_time": "2022-09-13T10:01:59.335172",
     "exception": false,
     "start_time": "2022-09-13T10:01:59.287226",
     "status": "completed"
    },
    "tags": []
   },
   "source": [
    "<h1 align= \"center\">WEEK THREE<h1>"
   ]
  },
  {
   "cell_type": "markdown",
   "id": "49dcbe29",
   "metadata": {
    "papermill": {
     "duration": 0.046657,
     "end_time": "2022-09-13T10:01:59.429011",
     "exception": false,
     "start_time": "2022-09-13T10:01:59.382354",
     "status": "completed"
    },
    "tags": []
   },
   "source": [
    "## Practice Quiz: While loops"
   ]
  },
  {
   "cell_type": "markdown",
   "id": "bd3f8c19",
   "metadata": {
    "papermill": {
     "duration": 0.04746,
     "end_time": "2022-09-13T10:01:59.525005",
     "exception": false,
     "start_time": "2022-09-13T10:01:59.477545",
     "status": "completed"
    },
    "tags": []
   },
   "source": [
    "Fill in the blanks to make the print_prime_factors function print all the prime factors of a number. A prime factor is a number that is prime and divides another without a remainder."
   ]
  },
  {
   "cell_type": "code",
   "execution_count": 30,
   "id": "f31b12ab",
   "metadata": {
    "execution": {
     "iopub.execute_input": "2022-09-13T10:01:59.620331Z",
     "iopub.status.busy": "2022-09-13T10:01:59.619940Z",
     "iopub.status.idle": "2022-09-13T10:01:59.629070Z",
     "shell.execute_reply": "2022-09-13T10:01:59.627796Z"
    },
    "papermill": {
     "duration": 0.059595,
     "end_time": "2022-09-13T10:01:59.631359",
     "exception": false,
     "start_time": "2022-09-13T10:01:59.571764",
     "status": "completed"
    },
    "tags": []
   },
   "outputs": [
    {
     "name": "stdout",
     "output_type": "stream",
     "text": [
      "2\n",
      "2\n",
      "5\n",
      "5\n"
     ]
    },
    {
     "data": {
      "text/plain": [
       "'Done'"
      ]
     },
     "execution_count": 30,
     "metadata": {},
     "output_type": "execute_result"
    }
   ],
   "source": [
    "def print_prime_factors(number):\n",
    "  # Start with two, which is the first prime\n",
    "  factor = 2\n",
    "  # Keep going until the factor is larger than the number\n",
    "  while factor <= number:\n",
    "    # Check if factor is a divisor of number\n",
    "    if number % factor == 0:\n",
    "      # If it is, print it and divide the original number\n",
    "      print(factor)\n",
    "      number = number / factor\n",
    "    else:\n",
    "      # If it's not, increment the factor by one\n",
    "      factor +=1\n",
    "  return \"Done\"\n",
    "\n",
    "print_prime_factors(100)\n",
    "# Should print 2,2,5,5"
   ]
  },
  {
   "cell_type": "markdown",
   "id": "549dd50c",
   "metadata": {
    "papermill": {
     "duration": 0.046761,
     "end_time": "2022-09-13T10:01:59.725104",
     "exception": false,
     "start_time": "2022-09-13T10:01:59.678343",
     "status": "completed"
    },
    "tags": []
   },
   "source": [
    "The following code can lead to an infinite loop. Fix the code so that it can finish successfully for all numbers."
   ]
  },
  {
   "cell_type": "code",
   "execution_count": 31,
   "id": "24dc2a10",
   "metadata": {
    "execution": {
     "iopub.execute_input": "2022-09-13T10:01:59.824430Z",
     "iopub.status.busy": "2022-09-13T10:01:59.823841Z",
     "iopub.status.idle": "2022-09-13T10:01:59.835119Z",
     "shell.execute_reply": "2022-09-13T10:01:59.833798Z"
    },
    "papermill": {
     "duration": 0.0647,
     "end_time": "2022-09-13T10:01:59.838085",
     "exception": false,
     "start_time": "2022-09-13T10:01:59.773385",
     "status": "completed"
    },
    "tags": []
   },
   "outputs": [
    {
     "name": "stdout",
     "output_type": "stream",
     "text": [
      "False\n",
      "True\n",
      "True\n",
      "False\n"
     ]
    }
   ],
   "source": [
    "def is_power_of_two(n):\n",
    "  # Check if the number can be divided by two without a remainder\n",
    "  if not n == 0:\n",
    "    while n % 2 == 0:\n",
    "      n = n / 2\n",
    "  # If after dividing by two the number is 1, it's a power of two\n",
    "  if n == 1:\n",
    "    return True\n",
    "  return False\n",
    "  \n",
    "\n",
    "print(is_power_of_two(0)) # Should be False\n",
    "print(is_power_of_two(1)) # Should be True\n",
    "print(is_power_of_two(8)) # Should be True\n",
    "print(is_power_of_two(9)) # Should be False"
   ]
  },
  {
   "cell_type": "markdown",
   "id": "d4ab796c",
   "metadata": {
    "papermill": {
     "duration": 0.048412,
     "end_time": "2022-09-13T10:01:59.936190",
     "exception": false,
     "start_time": "2022-09-13T10:01:59.887778",
     "status": "completed"
    },
    "tags": []
   },
   "source": [
    "Fill in the empty function so that it returns the sum of all the divisors of a number, without including it. A divisor is a number that divides into another without a remainder"
   ]
  },
  {
   "cell_type": "code",
   "execution_count": 32,
   "id": "1241c6ac",
   "metadata": {
    "execution": {
     "iopub.execute_input": "2022-09-13T10:02:00.033549Z",
     "iopub.status.busy": "2022-09-13T10:02:00.032304Z",
     "iopub.status.idle": "2022-09-13T10:02:00.040886Z",
     "shell.execute_reply": "2022-09-13T10:02:00.039667Z"
    },
    "papermill": {
     "duration": 0.059737,
     "end_time": "2022-09-13T10:02:00.043387",
     "exception": false,
     "start_time": "2022-09-13T10:01:59.983650",
     "status": "completed"
    },
    "tags": []
   },
   "outputs": [
    {
     "name": "stdout",
     "output_type": "stream",
     "text": [
      "0\n",
      "1\n",
      "55\n",
      "114\n"
     ]
    }
   ],
   "source": [
    "def sum_divisors(n):\n",
    "  sum = 0\n",
    "  # Return the sum of all divisors of n, not including n\n",
    "  divisors = 1\n",
    "  if not n == 0:\n",
    "    while divisors < n:\n",
    "      if n % divisors == 0:\n",
    "        sum += divisors\n",
    "        divisors += 1\n",
    "      else:\n",
    "        divisors += 1  \n",
    "    return sum\n",
    "  return 0\n",
    "\n",
    "print(sum_divisors(0))\n",
    "# 0\n",
    "print(sum_divisors(3)) # Should sum of 1\n",
    "# 1\n",
    "print(sum_divisors(36)) # Should sum of 1+2+3+4+6+9+12+18\n",
    "# 55\n",
    "print(sum_divisors(102)) # Should be sum of 2+3+6+17+34+51\n",
    "# 114\n"
   ]
  },
  {
   "cell_type": "markdown",
   "id": "1a0cf9ec",
   "metadata": {
    "papermill": {
     "duration": 0.048514,
     "end_time": "2022-09-13T10:02:00.140048",
     "exception": false,
     "start_time": "2022-09-13T10:02:00.091534",
     "status": "completed"
    },
    "tags": []
   },
   "source": [
    "The multiplication_table function prints the results of a number passed to it multiplied by 1 through 5. An additional requirement is that the result is not to exceed 25, which is done with the break statement. Fill in the blanks to complete the function to satisfy these conditions."
   ]
  },
  {
   "cell_type": "code",
   "execution_count": 33,
   "id": "330a4356",
   "metadata": {
    "execution": {
     "iopub.execute_input": "2022-09-13T10:02:00.236336Z",
     "iopub.status.busy": "2022-09-13T10:02:00.235923Z",
     "iopub.status.idle": "2022-09-13T10:02:00.242312Z",
     "shell.execute_reply": "2022-09-13T10:02:00.241511Z"
    },
    "papermill": {
     "duration": 0.057196,
     "end_time": "2022-09-13T10:02:00.244710",
     "exception": false,
     "start_time": "2022-09-13T10:02:00.187514",
     "status": "completed"
    },
    "tags": []
   },
   "outputs": [
    {
     "name": "stdout",
     "output_type": "stream",
     "text": [
      "3x1=3\n",
      "3x2=6\n",
      "3x3=9\n",
      "3x4=12\n",
      "3x5=15\n",
      "5x1=5\n",
      "5x2=10\n",
      "5x3=15\n",
      "5x4=20\n",
      "5x5=25\n",
      "8x1=8\n",
      "8x2=16\n",
      "8x3=24\n"
     ]
    }
   ],
   "source": [
    "def multiplication_table(number):\n",
    "\t# Initialize the starting point of the multiplication table\n",
    "\tmultiplier = 1\n",
    "\t# Only want to loop through 5\n",
    "\twhile multiplier <= 5:\n",
    "\t\tresult = multiplier * number\n",
    "\t\t# What is the additional condition to exit out of the loop?\n",
    "\t\tif result >= 26 :\n",
    "\t\t\tbreak\n",
    "\t\tprint(str(number) + \"x\" + str(multiplier) + \"=\" + str(result))\n",
    "\t\t# Increment the variable for the loop\n",
    "\t\tmultiplier += 1\n",
    "\n",
    "multiplication_table(3) \n",
    "# Should print: 3x1=3 3x2=6 3x3=9 3x4=12 3x5=15\n",
    "\n",
    "multiplication_table(5) \n",
    "# Should print: 5x1=5 5x2=10 5x3=15 5x4=20 5x5=25\n",
    "\n",
    "multiplication_table(8)\t\n",
    "# Should print: 8x1=8 8x2=16 8x3=24"
   ]
  },
  {
   "cell_type": "markdown",
   "id": "c85cf504",
   "metadata": {
    "papermill": {
     "duration": 0.046677,
     "end_time": "2022-09-13T10:02:00.338475",
     "exception": false,
     "start_time": "2022-09-13T10:02:00.291798",
     "status": "completed"
    },
    "tags": []
   },
   "source": [
    "## Practice Quiz: Foor loops"
   ]
  },
  {
   "cell_type": "markdown",
   "id": "03f5ffd8",
   "metadata": {
    "papermill": {
     "duration": 0.046827,
     "end_time": "2022-09-13T10:02:00.432227",
     "exception": false,
     "start_time": "2022-09-13T10:02:00.385400",
     "status": "completed"
    },
    "tags": []
   },
   "source": [
    "Question 2: \n",
    "Fill in the blanks to make the factorial function return the factorial of n. Then, print the first 10 factorials (from 0 to 9) with the corresponding number. Remember that the factorial of a number is defined as the product of an integer and all integers before it. For example, the factorial of five (5!) is equal to 1*2*3*4*5=120. Also recall that the factorial of zero (0!) is equal to 1"
   ]
  },
  {
   "cell_type": "code",
   "execution_count": 34,
   "id": "9ff48cea",
   "metadata": {
    "execution": {
     "iopub.execute_input": "2022-09-13T10:02:00.528780Z",
     "iopub.status.busy": "2022-09-13T10:02:00.527802Z",
     "iopub.status.idle": "2022-09-13T10:02:00.534434Z",
     "shell.execute_reply": "2022-09-13T10:02:00.533367Z"
    },
    "papermill": {
     "duration": 0.057769,
     "end_time": "2022-09-13T10:02:00.537056",
     "exception": false,
     "start_time": "2022-09-13T10:02:00.479287",
     "status": "completed"
    },
    "tags": []
   },
   "outputs": [
    {
     "name": "stdout",
     "output_type": "stream",
     "text": [
      "0 1\n",
      "1 1\n",
      "2 2\n",
      "3 6\n",
      "4 24\n",
      "5 120\n",
      "6 720\n",
      "7 5040\n",
      "8 40320\n",
      "9 362880\n"
     ]
    }
   ],
   "source": [
    "def factorial(n):\n",
    "    result = 1\n",
    "    for x in range(1,n+1):\n",
    "        result *=  x\n",
    "    return result\n",
    "\n",
    "for n in range(10):  ## This will only print the first 10 factorials as stated in the question\n",
    "    print(n, factorial(n))"
   ]
  },
  {
   "cell_type": "markdown",
   "id": "ff90fd81",
   "metadata": {
    "papermill": {
     "duration": 0.0469,
     "end_time": "2022-09-13T10:02:00.630898",
     "exception": false,
     "start_time": "2022-09-13T10:02:00.583998",
     "status": "completed"
    },
    "tags": []
   },
   "source": [
    "`Still on qeuston 2.` Enter a number to calculate its factorial:"
   ]
  },
  {
   "cell_type": "code",
   "execution_count": 35,
   "id": "7291ba09",
   "metadata": {
    "execution": {
     "iopub.execute_input": "2022-09-13T10:02:00.727510Z",
     "iopub.status.busy": "2022-09-13T10:02:00.727100Z",
     "iopub.status.idle": "2022-09-13T10:02:00.733249Z",
     "shell.execute_reply": "2022-09-13T10:02:00.732105Z"
    },
    "papermill": {
     "duration": 0.057719,
     "end_time": "2022-09-13T10:02:00.736044",
     "exception": false,
     "start_time": "2022-09-13T10:02:00.678325",
     "status": "completed"
    },
    "tags": []
   },
   "outputs": [
    {
     "name": "stdout",
     "output_type": "stream",
     "text": [
      "0 1\n",
      "1 1\n",
      "2 2\n",
      "3 6\n",
      "4 24\n",
      "5 120\n"
     ]
    }
   ],
   "source": [
    "def factorial(n):\n",
    "    result = 1\n",
    "    for x in range(1,n+1):\n",
    "        result *=  x\n",
    "    return result\n",
    "number = 6 # delete this line\n",
    "for n in range (number): #replace (number) with (int(input())+1)\n",
    "    print(n, factorial(n))"
   ]
  },
  {
   "cell_type": "markdown",
   "id": "c8444b94",
   "metadata": {
    "papermill": {
     "duration": 0.046934,
     "end_time": "2022-09-13T10:02:00.830715",
     "exception": false,
     "start_time": "2022-09-13T10:02:00.783781",
     "status": "completed"
    },
    "tags": []
   },
   "source": [
    "Question 3: \n",
    "Write a script that prints the first 10 cube numbers (x**3), starting with x=1 and ending with x=10."
   ]
  },
  {
   "cell_type": "code",
   "execution_count": 36,
   "id": "9d80ee9b",
   "metadata": {
    "execution": {
     "iopub.execute_input": "2022-09-13T10:02:00.978911Z",
     "iopub.status.busy": "2022-09-13T10:02:00.978533Z",
     "iopub.status.idle": "2022-09-13T10:02:00.983513Z",
     "shell.execute_reply": "2022-09-13T10:02:00.982722Z"
    },
    "papermill": {
     "duration": 0.108727,
     "end_time": "2022-09-13T10:02:00.986348",
     "exception": false,
     "start_time": "2022-09-13T10:02:00.877621",
     "status": "completed"
    },
    "tags": []
   },
   "outputs": [
    {
     "name": "stdout",
     "output_type": "stream",
     "text": [
      "1\n",
      "8\n",
      "27\n",
      "64\n",
      "125\n",
      "216\n",
      "343\n",
      "512\n",
      "729\n",
      "1000\n"
     ]
    }
   ],
   "source": [
    "for x in range(1,11):\n",
    "  print(x**3)"
   ]
  },
  {
   "cell_type": "markdown",
   "id": "1899b19e",
   "metadata": {
    "papermill": {
     "duration": 0.047475,
     "end_time": "2022-09-13T10:02:01.082557",
     "exception": false,
     "start_time": "2022-09-13T10:02:01.035082",
     "status": "completed"
    },
    "tags": []
   },
   "source": [
    "Question 4: \n",
    "Write a script that prints the multiples of 7 between 0 and 100. Print one multiple per line and avoid printing any numbers that aren't multiples of 7. Remember that 0 is also a multiple of 7."
   ]
  },
  {
   "cell_type": "code",
   "execution_count": 37,
   "id": "56a0d0b1",
   "metadata": {
    "execution": {
     "iopub.execute_input": "2022-09-13T10:02:01.179497Z",
     "iopub.status.busy": "2022-09-13T10:02:01.179079Z",
     "iopub.status.idle": "2022-09-13T10:02:01.184481Z",
     "shell.execute_reply": "2022-09-13T10:02:01.183725Z"
    },
    "papermill": {
     "duration": 0.056135,
     "end_time": "2022-09-13T10:02:01.186710",
     "exception": false,
     "start_time": "2022-09-13T10:02:01.130575",
     "status": "completed"
    },
    "tags": []
   },
   "outputs": [
    {
     "name": "stdout",
     "output_type": "stream",
     "text": [
      "0\n",
      "7\n",
      "14\n",
      "21\n",
      "28\n",
      "35\n",
      "42\n",
      "49\n",
      "56\n",
      "63\n",
      "70\n",
      "77\n",
      "84\n",
      "91\n",
      "98\n"
     ]
    }
   ],
   "source": [
    "for i in range(0, 101):\n",
    "    if i % 7 == 0:\n",
    "        print(i)"
   ]
  },
  {
   "cell_type": "markdown",
   "id": "4a72be13",
   "metadata": {
    "papermill": {
     "duration": 0.047037,
     "end_time": "2022-09-13T10:02:01.280984",
     "exception": false,
     "start_time": "2022-09-13T10:02:01.233947",
     "status": "completed"
    },
    "tags": []
   },
   "source": [
    "Question 5: \n",
    "The retry function tries to execute an operation that might fail, it retries the operation for a number of attempts.  Currently the code will keep executing the function even if it succeeds. Fill in the blank so the code stops trying after the operation succeeded."
   ]
  },
  {
   "cell_type": "code",
   "execution_count": 38,
   "id": "5d393beb",
   "metadata": {
    "execution": {
     "iopub.execute_input": "2022-09-13T10:02:01.377720Z",
     "iopub.status.busy": "2022-09-13T10:02:01.377337Z",
     "iopub.status.idle": "2022-09-13T10:02:01.383320Z",
     "shell.execute_reply": "2022-09-13T10:02:01.382465Z"
    },
    "papermill": {
     "duration": 0.056837,
     "end_time": "2022-09-13T10:02:01.385368",
     "exception": false,
     "start_time": "2022-09-13T10:02:01.328531",
     "status": "completed"
    },
    "tags": []
   },
   "outputs": [
    {
     "data": {
      "text/plain": [
       "'\\ndef retry(operation, attempts):\\n  for n in range(attempts):\\n    if operation():\\n      print(\"Attempt \" + str(n) + \" succeeded\")\\n      break\\n    else:\\n      print(\"Attempt \" + str(n) + \" failed\")\\n\\nretry(create_user, 5)\\nretry(stop_service, 5)\\n'"
      ]
     },
     "execution_count": 38,
     "metadata": {},
     "output_type": "execute_result"
    }
   ],
   "source": [
    "'''\n",
    "def retry(operation, attempts):\n",
    "  for n in range(attempts):\n",
    "    if operation():\n",
    "      print(\"Attempt \" + str(n) + \" succeeded\")\n",
    "      break\n",
    "    else:\n",
    "      print(\"Attempt \" + str(n) + \" failed\")\n",
    "\n",
    "retry(create_user, 5)\n",
    "retry(stop_service, 5)\n",
    "'''"
   ]
  },
  {
   "cell_type": "markdown",
   "id": "5f53575a",
   "metadata": {
    "papermill": {
     "duration": 0.047554,
     "end_time": "2022-09-13T10:02:01.481824",
     "exception": false,
     "start_time": "2022-09-13T10:02:01.434270",
     "status": "completed"
    },
    "tags": []
   },
   "source": [
    "### N.B. The parameters to retry() are passed by coursera. So I can't run it in the cell"
   ]
  },
  {
   "cell_type": "markdown",
   "id": "9bf5ae2e",
   "metadata": {
    "papermill": {
     "duration": 0.047924,
     "end_time": "2022-09-13T10:02:01.577784",
     "exception": false,
     "start_time": "2022-09-13T10:02:01.529860",
     "status": "completed"
    },
    "tags": []
   },
   "source": [
    "## Practice Quiz: Recursion"
   ]
  },
  {
   "cell_type": "markdown",
   "id": "5ae95315",
   "metadata": {
    "papermill": {
     "duration": 0.048464,
     "end_time": "2022-09-13T10:02:01.674060",
     "exception": false,
     "start_time": "2022-09-13T10:02:01.625596",
     "status": "completed"
    },
    "tags": []
   },
   "source": [
    "Question 3: \n",
    "Fill in the blanks to make the is_power_of function return whether the number is a power of the given base. Note: base is assumed to be a positive number. Tip: for functions that return a boolean value, you can return the result of a comparison."
   ]
  },
  {
   "cell_type": "code",
   "execution_count": 39,
   "id": "63a0140b",
   "metadata": {
    "execution": {
     "iopub.execute_input": "2022-09-13T10:02:01.772394Z",
     "iopub.status.busy": "2022-09-13T10:02:01.771919Z",
     "iopub.status.idle": "2022-09-13T10:02:01.778446Z",
     "shell.execute_reply": "2022-09-13T10:02:01.777652Z"
    },
    "papermill": {
     "duration": 0.058622,
     "end_time": "2022-09-13T10:02:01.780699",
     "exception": false,
     "start_time": "2022-09-13T10:02:01.722077",
     "status": "completed"
    },
    "tags": []
   },
   "outputs": [
    {
     "name": "stdout",
     "output_type": "stream",
     "text": [
      "True\n",
      "True\n",
      "False\n"
     ]
    }
   ],
   "source": [
    "def is_power_of(number, base):\n",
    "  # Base case: when number is smaller than base.\n",
    "  if number < base:\n",
    "    if number == 1:\n",
    "      return True \n",
    "    return False\n",
    "    # If number is equal to 1, it's a power (base**0).\n",
    "    #return True\n",
    "\n",
    "    # Recursive case: keep dividing number by base.\n",
    "  return is_power_of(number/base, base)\n",
    "\n",
    "print(is_power_of(8,2)) # Should be True\n",
    "print(is_power_of(64,4)) # Should be True\n",
    "print(is_power_of(70,10)) # Should be False"
   ]
  },
  {
   "cell_type": "markdown",
   "id": "1a03579a",
   "metadata": {
    "papermill": {
     "duration": 0.047232,
     "end_time": "2022-09-13T10:02:01.875955",
     "exception": false,
     "start_time": "2022-09-13T10:02:01.828723",
     "status": "completed"
    },
    "tags": []
   },
   "source": [
    "Question 4:\n",
    "The count_users function recursively counts the amount of users that belong to a group in the company system, by going through each of the members of a group and if one of them is a group, recursively calling the function and counting the members. But it has a bug! Can you spot the problem and fix it?\n",
    "`Read the comment before the two codes in the cell below`"
   ]
  },
  {
   "cell_type": "code",
   "execution_count": 40,
   "id": "a145d2b5",
   "metadata": {
    "execution": {
     "iopub.execute_input": "2022-09-13T10:02:01.976998Z",
     "iopub.status.busy": "2022-09-13T10:02:01.976581Z",
     "iopub.status.idle": "2022-09-13T10:02:01.982519Z",
     "shell.execute_reply": "2022-09-13T10:02:01.981716Z"
    },
    "papermill": {
     "duration": 0.058537,
     "end_time": "2022-09-13T10:02:01.984955",
     "exception": false,
     "start_time": "2022-09-13T10:02:01.926418",
     "status": "completed"
    },
    "tags": []
   },
   "outputs": [
    {
     "data": {
      "text/plain": [
       "'\\ndef count_users(group):\\n  count = 0\\n  for member in get_members(group):\\n    count += 1\\n    if is_group(member):\\n      count += count_users(member) - 1\\n\\n  return count\\n\\nprint(count_users(\"sales\")) # Should be 3\\nprint(count_users(\"engineering\")) # Should be 8\\nprint(count_users(\"everyone\")) # Should be 18\\n'"
      ]
     },
     "execution_count": 40,
     "metadata": {},
     "output_type": "execute_result"
    }
   ],
   "source": [
    "## This cannot be ran here bcus the list the names \"get_members and is_group\" are not define here.  \n",
    "'''\n",
    "def count_users(group):\n",
    "  count = 0\n",
    "  for member in get_members(group):\n",
    "    count += 1\n",
    "    if is_group(member):\n",
    "      count += count_users(member) - 1\n",
    "\n",
    "  return count\n",
    "\n",
    "print(count_users(\"sales\")) # Should be 3\n",
    "print(count_users(\"engineering\")) # Should be 8\n",
    "print(count_users(\"everyone\")) # Should be 18\n",
    "'''"
   ]
  },
  {
   "cell_type": "markdown",
   "id": "35eed37f",
   "metadata": {
    "papermill": {
     "duration": 0.048117,
     "end_time": "2022-09-13T10:02:02.081855",
     "exception": false,
     "start_time": "2022-09-13T10:02:02.033738",
     "status": "completed"
    },
    "tags": []
   },
   "source": [
    "### N.B. The parameters to count_users() are passed by coursera. So I can't run it in the cell"
   ]
  },
  {
   "cell_type": "markdown",
   "id": "74d8c9aa",
   "metadata": {
    "papermill": {
     "duration": 0.047546,
     "end_time": "2022-09-13T10:02:02.177636",
     "exception": false,
     "start_time": "2022-09-13T10:02:02.130090",
     "status": "completed"
    },
    "tags": []
   },
   "source": [
    "Question 5: \n",
    "Implement the sum_positive_numbers function, as a recursive function that returns the sum of all positive numbers between the number n received and 1. For example, when n is 3 it should return 1+2+3=6, and when n is 5 it should return 1+2+3+4+5=15"
   ]
  },
  {
   "cell_type": "code",
   "execution_count": 41,
   "id": "104a64f1",
   "metadata": {
    "execution": {
     "iopub.execute_input": "2022-09-13T10:02:02.275486Z",
     "iopub.status.busy": "2022-09-13T10:02:02.274416Z",
     "iopub.status.idle": "2022-09-13T10:02:02.282632Z",
     "shell.execute_reply": "2022-09-13T10:02:02.280970Z"
    },
    "papermill": {
     "duration": 0.059905,
     "end_time": "2022-09-13T10:02:02.285250",
     "exception": false,
     "start_time": "2022-09-13T10:02:02.225345",
     "status": "completed"
    },
    "tags": []
   },
   "outputs": [
    {
     "name": "stdout",
     "output_type": "stream",
     "text": [
      "6\n",
      "15\n",
      "21\n"
     ]
    }
   ],
   "source": [
    "def sum_positive_numbers(n):\n",
    "  for i in range(n):\n",
    "    if n == 1:\n",
    "      return 1\n",
    "    else:\n",
    "      return n + sum_positive_numbers(n-1)\n",
    "    \n",
    "  \n",
    "  return 0\n",
    "\n",
    "print(sum_positive_numbers(3)) # Should be 6\n",
    "print(sum_positive_numbers(5)) # Should be 15\n",
    "print(sum_positive_numbers(6))"
   ]
  },
  {
   "cell_type": "markdown",
   "id": "7938557e",
   "metadata": {
    "papermill": {
     "duration": 0.047598,
     "end_time": "2022-09-13T10:02:02.380618",
     "exception": false,
     "start_time": "2022-09-13T10:02:02.333020",
     "status": "completed"
    },
    "tags": []
   },
   "source": [
    "# Module 3 Graded Assessment"
   ]
  },
  {
   "cell_type": "markdown",
   "id": "fcbcd5b5",
   "metadata": {
    "papermill": {
     "duration": 0.048052,
     "end_time": "2022-09-13T10:02:02.477065",
     "exception": false,
     "start_time": "2022-09-13T10:02:02.429013",
     "status": "completed"
    },
    "tags": []
   },
   "source": [
    "Question 1: \n",
    "Fill in the blanks of this code to print out the numbers 1 through 7"
   ]
  },
  {
   "cell_type": "code",
   "execution_count": 42,
   "id": "35849a4f",
   "metadata": {
    "execution": {
     "iopub.execute_input": "2022-09-13T10:02:02.575108Z",
     "iopub.status.busy": "2022-09-13T10:02:02.574705Z",
     "iopub.status.idle": "2022-09-13T10:02:02.580497Z",
     "shell.execute_reply": "2022-09-13T10:02:02.579269Z"
    },
    "papermill": {
     "duration": 0.057664,
     "end_time": "2022-09-13T10:02:02.582792",
     "exception": false,
     "start_time": "2022-09-13T10:02:02.525128",
     "status": "completed"
    },
    "tags": []
   },
   "outputs": [
    {
     "name": "stdout",
     "output_type": "stream",
     "text": [
      "1 2 3 4 5 6 7 "
     ]
    }
   ],
   "source": [
    "number = 1\n",
    "while number <= 7:\n",
    "\tprint(number, end=\" \")\n",
    "\tnumber += 1"
   ]
  },
  {
   "cell_type": "markdown",
   "id": "ca56f14d",
   "metadata": {
    "papermill": {
     "duration": 0.047909,
     "end_time": "2022-09-13T10:02:02.678518",
     "exception": false,
     "start_time": "2022-09-13T10:02:02.630609",
     "status": "completed"
    },
    "tags": []
   },
   "source": [
    "Question 2:\n",
    "The show_letters function should print out each letter of a word on a separate line. Fill in the blanks to make that happen."
   ]
  },
  {
   "cell_type": "code",
   "execution_count": 43,
   "id": "ccb0edce",
   "metadata": {
    "execution": {
     "iopub.execute_input": "2022-09-13T10:02:02.783663Z",
     "iopub.status.busy": "2022-09-13T10:02:02.782914Z",
     "iopub.status.idle": "2022-09-13T10:02:02.789121Z",
     "shell.execute_reply": "2022-09-13T10:02:02.787460Z"
    },
    "papermill": {
     "duration": 0.058455,
     "end_time": "2022-09-13T10:02:02.791482",
     "exception": false,
     "start_time": "2022-09-13T10:02:02.733027",
     "status": "completed"
    },
    "tags": []
   },
   "outputs": [
    {
     "name": "stdout",
     "output_type": "stream",
     "text": [
      "H\n",
      "e\n",
      "l\n",
      "l\n",
      "o\n"
     ]
    }
   ],
   "source": [
    "def show_letters(word):\n",
    "\tfor i in word:\n",
    "\t\tprint(i)\n",
    "\n",
    "show_letters(\"Hello\")\n",
    "# Should print one line per letter"
   ]
  },
  {
   "cell_type": "markdown",
   "id": "271bdcb8",
   "metadata": {
    "papermill": {
     "duration": 0.047565,
     "end_time": "2022-09-13T10:02:02.886981",
     "exception": false,
     "start_time": "2022-09-13T10:02:02.839416",
     "status": "completed"
    },
    "tags": []
   },
   "source": [
    "Question 3: \n",
    "Complete the function digits(n) that returns how many digits the number has. For example: 25 has 2 digits and 144 has 3 digits. Tip: you can figure out the digits of a number by dividing it by 10 once per digit until there are no digits left."
   ]
  },
  {
   "cell_type": "code",
   "execution_count": 44,
   "id": "77c65e41",
   "metadata": {
    "execution": {
     "iopub.execute_input": "2022-09-13T10:02:02.997259Z",
     "iopub.status.busy": "2022-09-13T10:02:02.995768Z",
     "iopub.status.idle": "2022-09-13T10:02:03.005599Z",
     "shell.execute_reply": "2022-09-13T10:02:03.004366Z"
    },
    "papermill": {
     "duration": 0.071524,
     "end_time": "2022-09-13T10:02:03.010172",
     "exception": false,
     "start_time": "2022-09-13T10:02:02.938648",
     "status": "completed"
    },
    "tags": []
   },
   "outputs": [
    {
     "name": "stdout",
     "output_type": "stream",
     "text": [
      "2\n",
      "3\n",
      "4\n",
      "1\n"
     ]
    }
   ],
   "source": [
    "def digits(n):\n",
    "\tcount = 0\n",
    "\tif n == 0:\n",
    "\t  return 1\n",
    "\twhile n >= 1:\n",
    "\t\tcount += 1\n",
    "\t\tn = n/10\n",
    "\treturn count\n",
    "\t\n",
    "print(digits(25))   # Should print 2\n",
    "print(digits(144))  # Should print 3\n",
    "print(digits(1000)) # Should print 4\n",
    "print(digits(0))    # Should print 1"
   ]
  },
  {
   "cell_type": "markdown",
   "id": "03b4ca70",
   "metadata": {
    "papermill": {
     "duration": 0.048109,
     "end_time": "2022-09-13T10:02:03.114867",
     "exception": false,
     "start_time": "2022-09-13T10:02:03.066758",
     "status": "completed"
    },
    "tags": []
   },
   "source": [
    "Question 4: \n",
    "This function prints out a multiplication table (where each number is the result of multiplying the first number of its row by the number at the top of its column). Fill in the blanks so that calling multiplication_table(1, 3) will print out:"
   ]
  },
  {
   "cell_type": "code",
   "execution_count": 45,
   "id": "7f15cce0",
   "metadata": {
    "execution": {
     "iopub.execute_input": "2022-09-13T10:02:03.214561Z",
     "iopub.status.busy": "2022-09-13T10:02:03.213785Z",
     "iopub.status.idle": "2022-09-13T10:02:03.220649Z",
     "shell.execute_reply": "2022-09-13T10:02:03.219191Z"
    },
    "papermill": {
     "duration": 0.060081,
     "end_time": "2022-09-13T10:02:03.223296",
     "exception": false,
     "start_time": "2022-09-13T10:02:03.163215",
     "status": "completed"
    },
    "tags": []
   },
   "outputs": [
    {
     "name": "stdout",
     "output_type": "stream",
     "text": [
      "1 2 3 \n",
      "2 4 6 \n",
      "3 6 9 \n"
     ]
    }
   ],
   "source": [
    "def multiplication_table(start, stop):\n",
    "\tfor x in range(start, stop+1):\n",
    "\t\tfor y in range(start, stop+1):\n",
    "\t\t\tprint(str(x*y), end=\" \")\n",
    "\t\tprint()\n",
    "\n",
    "multiplication_table(1, 3)\n",
    "# Should print the multiplication table shown above"
   ]
  },
  {
   "cell_type": "markdown",
   "id": "0f0679ae",
   "metadata": {
    "papermill": {
     "duration": 0.047462,
     "end_time": "2022-09-13T10:02:03.319172",
     "exception": false,
     "start_time": "2022-09-13T10:02:03.271710",
     "status": "completed"
    },
    "tags": []
   },
   "source": [
    "Question 5: \n",
    "The counter function counts down from start to stop when start is bigger than stop, and counts up from start to stop otherwise. Fill in the blanks to make this work correctly"
   ]
  },
  {
   "cell_type": "code",
   "execution_count": 46,
   "id": "50f22483",
   "metadata": {
    "execution": {
     "iopub.execute_input": "2022-09-13T10:02:03.417598Z",
     "iopub.status.busy": "2022-09-13T10:02:03.416832Z",
     "iopub.status.idle": "2022-09-13T10:02:03.425352Z",
     "shell.execute_reply": "2022-09-13T10:02:03.424014Z"
    },
    "papermill": {
     "duration": 0.060196,
     "end_time": "2022-09-13T10:02:03.427583",
     "exception": false,
     "start_time": "2022-09-13T10:02:03.367387",
     "status": "completed"
    },
    "tags": []
   },
   "outputs": [
    {
     "name": "stdout",
     "output_type": "stream",
     "text": [
      "Counting up: 1,2,3,4,5,6,7,8,9,10\n",
      "Counting down: 2,1\n",
      "Counting up: 5\n"
     ]
    }
   ],
   "source": [
    "def counter(start, stop):\n",
    "    x = start \n",
    "    if start > stop:\n",
    "        return_string = \"Counting down: \"\n",
    "        while x >= stop:\n",
    "            return_string += str(x)\n",
    "            x -= 1 \n",
    "            if x >= stop:\n",
    "                return_string += \",\"\n",
    "        return return_string\n",
    "    else:\n",
    "        return_string = \"Counting up: \"\n",
    "        while x <= stop:\n",
    "            return_string += str(x)\n",
    "            x += 1\n",
    "            if x <= stop:\n",
    "                return_string += \",\"\n",
    "        return return_string\n",
    "        \n",
    "print(counter(1, 10)) # Should be \"Counting up: 1,2,3,4,5,6,7,8,9,10\"\n",
    "print(counter(2, 1)) # Should be \"Counting down: 2,1\"\n",
    "print(counter(5, 5)) # Should be \"Counting up: 5\""
   ]
  },
  {
   "cell_type": "markdown",
   "id": "f99d80a6",
   "metadata": {
    "papermill": {
     "duration": 0.047787,
     "end_time": "2022-09-13T10:02:03.523452",
     "exception": false,
     "start_time": "2022-09-13T10:02:03.475665",
     "status": "completed"
    },
    "tags": []
   },
   "source": [
    "Question 6: \n",
    "The even_numbers function returns a space-separated string of all positive numbers that are divisible by 2, up to and including the maximum that's passed into the function. For example, even_numbers(6) returns “2 4 6”. Fill in the blank to make this work."
   ]
  },
  {
   "cell_type": "code",
   "execution_count": 47,
   "id": "12f10a36",
   "metadata": {
    "execution": {
     "iopub.execute_input": "2022-09-13T10:02:03.621450Z",
     "iopub.status.busy": "2022-09-13T10:02:03.620192Z",
     "iopub.status.idle": "2022-09-13T10:02:03.630181Z",
     "shell.execute_reply": "2022-09-13T10:02:03.628820Z"
    },
    "papermill": {
     "duration": 0.062213,
     "end_time": "2022-09-13T10:02:03.633311",
     "exception": false,
     "start_time": "2022-09-13T10:02:03.571098",
     "status": "completed"
    },
    "tags": []
   },
   "outputs": [
    {
     "name": "stdout",
     "output_type": "stream",
     "text": [
      "2 4 6\n",
      "2 4 6 8 10\n",
      "\n",
      "2\n",
      "\n"
     ]
    }
   ],
   "source": [
    "def even_numbers(maximum):\n",
    "    return_string = \"\"\n",
    "    for x in range(1, maximum+1):\n",
    "        if x % 2 ==0:\n",
    "            return_string += str(x) + \" \"\n",
    "    return return_string.strip()\n",
    "\n",
    "print(even_numbers(6))  # Should be 2 4 6\n",
    "print(even_numbers(10)) # Should be 2 4 6 8 10\n",
    "print(even_numbers(1))  # No numbers displayed\n",
    "print(even_numbers(3))  # Should be 2\n",
    "print(even_numbers(0))  # No numbers displayed"
   ]
  },
  {
   "cell_type": "markdown",
   "id": "1b2dcb08",
   "metadata": {
    "papermill": {
     "duration": 0.047344,
     "end_time": "2022-09-13T10:02:03.728811",
     "exception": false,
     "start_time": "2022-09-13T10:02:03.681467",
     "status": "completed"
    },
    "tags": []
   },
   "source": [
    "Questiion 7: \n",
    "The following code raises an error when executed. What's the reason for the error. <br>\n",
    "`Answer: Failure to initialize variables`"
   ]
  },
  {
   "cell_type": "code",
   "execution_count": 48,
   "id": "dc2c6519",
   "metadata": {
    "execution": {
     "iopub.execute_input": "2022-09-13T10:02:03.829344Z",
     "iopub.status.busy": "2022-09-13T10:02:03.828310Z",
     "iopub.status.idle": "2022-09-13T10:02:03.836516Z",
     "shell.execute_reply": "2022-09-13T10:02:03.835599Z"
    },
    "papermill": {
     "duration": 0.05991,
     "end_time": "2022-09-13T10:02:03.838781",
     "exception": false,
     "start_time": "2022-09-13T10:02:03.778871",
     "status": "completed"
    },
    "tags": []
   },
   "outputs": [
    {
     "data": {
      "text/plain": [
       "55"
      ]
     },
     "execution_count": 48,
     "metadata": {},
     "output_type": "execute_result"
    }
   ],
   "source": [
    "def decade_counter(year):\n",
    "\twhile year < 50:\n",
    "\t\tyear += 10\n",
    "\treturn year\n",
    "decade_counter(45)"
   ]
  },
  {
   "cell_type": "markdown",
   "id": "9cc998a6",
   "metadata": {
    "papermill": {
     "duration": 0.049755,
     "end_time": "2022-09-13T10:02:03.937842",
     "exception": false,
     "start_time": "2022-09-13T10:02:03.888087",
     "status": "completed"
    },
    "tags": []
   },
   "source": [
    "Question 8: \n",
    "What is the value of x at the end of the following code? <br>\n",
    "`Answer: 7`"
   ]
  },
  {
   "cell_type": "code",
   "execution_count": 49,
   "id": "561b3b83",
   "metadata": {
    "execution": {
     "iopub.execute_input": "2022-09-13T10:02:04.038053Z",
     "iopub.status.busy": "2022-09-13T10:02:04.037018Z",
     "iopub.status.idle": "2022-09-13T10:02:04.043136Z",
     "shell.execute_reply": "2022-09-13T10:02:04.041653Z"
    },
    "papermill": {
     "duration": 0.058361,
     "end_time": "2022-09-13T10:02:04.045391",
     "exception": false,
     "start_time": "2022-09-13T10:02:03.987030",
     "status": "completed"
    },
    "tags": []
   },
   "outputs": [
    {
     "name": "stdout",
     "output_type": "stream",
     "text": [
      "1\n",
      "4\n",
      "7\n"
     ]
    }
   ],
   "source": [
    "for x in range(1, 10, 3): \n",
    "    print(x)"
   ]
  },
  {
   "cell_type": "markdown",
   "id": "d61fea13",
   "metadata": {
    "papermill": {
     "duration": 0.048136,
     "end_time": "2022-09-13T10:02:04.141655",
     "exception": false,
     "start_time": "2022-09-13T10:02:04.093519",
     "status": "completed"
    },
    "tags": []
   },
   "source": [
    "Question 9: \n",
    "What is the value of y at the end of the following code? <br>\n",
    "`Answer: 8`"
   ]
  },
  {
   "cell_type": "code",
   "execution_count": 50,
   "id": "f24b52c7",
   "metadata": {
    "execution": {
     "iopub.execute_input": "2022-09-13T10:02:04.240321Z",
     "iopub.status.busy": "2022-09-13T10:02:04.239862Z",
     "iopub.status.idle": "2022-09-13T10:02:04.245918Z",
     "shell.execute_reply": "2022-09-13T10:02:04.244549Z"
    },
    "papermill": {
     "duration": 0.059994,
     "end_time": "2022-09-13T10:02:04.249617",
     "exception": false,
     "start_time": "2022-09-13T10:02:04.189623",
     "status": "completed"
    },
    "tags": []
   },
   "outputs": [
    {
     "name": "stdout",
     "output_type": "stream",
     "text": [
      "0\n",
      "0\n",
      "1\n",
      "0\n",
      "1\n",
      "2\n",
      "0\n",
      "1\n",
      "2\n",
      "3\n",
      "0\n",
      "1\n",
      "2\n",
      "3\n",
      "4\n",
      "0\n",
      "1\n",
      "2\n",
      "3\n",
      "4\n",
      "5\n",
      "0\n",
      "1\n",
      "2\n",
      "3\n",
      "4\n",
      "5\n",
      "6\n",
      "0\n",
      "1\n",
      "2\n",
      "3\n",
      "4\n",
      "5\n",
      "6\n",
      "7\n",
      "0\n",
      "1\n",
      "2\n",
      "3\n",
      "4\n",
      "5\n",
      "6\n",
      "7\n",
      "8\n"
     ]
    }
   ],
   "source": [
    "for x in range(10): # 9 will be the last number for x (range(10) = (10 -1)).\n",
    "    for y in range(x): # 8 will be the last number for y (range(x) == range(9) == (9 -1))\n",
    "        print(y)"
   ]
  },
  {
   "cell_type": "markdown",
   "id": "40581efc",
   "metadata": {
    "papermill": {
     "duration": 0.048951,
     "end_time": "2022-09-13T10:02:04.348754",
     "exception": false,
     "start_time": "2022-09-13T10:02:04.299803",
     "status": "completed"
    },
    "tags": []
   },
   "source": [
    "Question 10: \n",
    "How does this function need to be called to print yes, no, and maybe as possible options to vote for? <br>\n",
    "`Answer: votes(['yes', 'no', 'maybe'])` OR   ` votes([\"yes\", \"no\", \"maybe\"])`"
   ]
  },
  {
   "cell_type": "code",
   "execution_count": 51,
   "id": "124d3263",
   "metadata": {
    "execution": {
     "iopub.execute_input": "2022-09-13T10:02:04.447598Z",
     "iopub.status.busy": "2022-09-13T10:02:04.447185Z",
     "iopub.status.idle": "2022-09-13T10:02:04.452491Z",
     "shell.execute_reply": "2022-09-13T10:02:04.451723Z"
    },
    "papermill": {
     "duration": 0.057231,
     "end_time": "2022-09-13T10:02:04.454589",
     "exception": false,
     "start_time": "2022-09-13T10:02:04.397358",
     "status": "completed"
    },
    "tags": []
   },
   "outputs": [
    {
     "name": "stdout",
     "output_type": "stream",
     "text": [
      "Possible option:yes\n",
      "Possible option:no\n",
      "Possible option:maybe\n"
     ]
    }
   ],
   "source": [
    "def votes(params):\n",
    "    for vote in params:\n",
    "        print(\"Possible option:\" + vote)\n",
    "\n",
    "votes(['yes', 'no', 'maybe'])"
   ]
  },
  {
   "cell_type": "markdown",
   "id": "668ad03e",
   "metadata": {
    "papermill": {
     "duration": 0.0477,
     "end_time": "2022-09-13T10:02:04.550838",
     "exception": false,
     "start_time": "2022-09-13T10:02:04.503138",
     "status": "completed"
    },
    "tags": []
   },
   "source": [
    "<h1 align= \"center\">WEEK FOUR<h1>"
   ]
  },
  {
   "cell_type": "markdown",
   "id": "74a940d3",
   "metadata": {
    "papermill": {
     "duration": 0.048269,
     "end_time": "2022-09-13T10:02:04.647261",
     "exception": false,
     "start_time": "2022-09-13T10:02:04.598992",
     "status": "completed"
    },
    "tags": []
   },
   "source": [
    "## Practice Quiz: Strings"
   ]
  },
  {
   "cell_type": "markdown",
   "id": "2ca16a0e",
   "metadata": {
    "papermill": {
     "duration": 0.047654,
     "end_time": "2022-09-13T10:02:04.743258",
     "exception": false,
     "start_time": "2022-09-13T10:02:04.695604",
     "status": "completed"
    },
    "tags": []
   },
   "source": [
    "Question 1: \n",
    "The is_palindrome function checks if a string is a palindrome. A palindrome is a string that can be equally read from left to right or right to left, omitting blank spaces, and ignoring capitalization. Examples of palindromes are words like kayak and radar, and phrases like \"Never Odd or Even\". Fill in the blanks in this function to return True if the passed string is a palindrome, False if not."
   ]
  },
  {
   "cell_type": "code",
   "execution_count": 52,
   "id": "04e8238a",
   "metadata": {
    "execution": {
     "iopub.execute_input": "2022-09-13T10:02:04.842979Z",
     "iopub.status.busy": "2022-09-13T10:02:04.841944Z",
     "iopub.status.idle": "2022-09-13T10:02:04.850635Z",
     "shell.execute_reply": "2022-09-13T10:02:04.849275Z"
    },
    "papermill": {
     "duration": 0.060728,
     "end_time": "2022-09-13T10:02:04.852994",
     "exception": false,
     "start_time": "2022-09-13T10:02:04.792266",
     "status": "completed"
    },
    "tags": []
   },
   "outputs": [
    {
     "name": "stdout",
     "output_type": "stream",
     "text": [
      "True\n",
      "False\n",
      "True\n"
     ]
    }
   ],
   "source": [
    "def is_palindrome(input_string):\n",
    "\timport string\n",
    "\t# We'll create two strings, to compare them\n",
    "\tnew_string = \"\"\n",
    "\treverse_string = \"\"\n",
    "\t# Traverse through each letter of the input string\n",
    "\tfor letter in input_string:\n",
    "\t\t# Add any non-blank letters to the \n",
    "\t\t# end of one string, and to the front\n",
    "\t\t# of the other string. \n",
    "\t\tif letter != \" \":\n",
    "\t\t\tnew_string += letter\n",
    "\t\t\treverse_string = letter + reverse_string\n",
    "\t\telse:\n",
    "\t\t\tnew_string = new_string\n",
    "\t\t\treverse_string = reverse_string\n",
    "\t# Compare the strings\n",
    "\tif new_string.lower() == reverse_string.lower():\n",
    "\t\treturn True\n",
    "\treturn False\n",
    "\n",
    "print(is_palindrome(\"Never Odd or Even\")) # Should be True\n",
    "print(is_palindrome(\"abc\")) # Should be False\n",
    "print(is_palindrome(\"kayak\")) # Should be True"
   ]
  },
  {
   "cell_type": "markdown",
   "id": "eed4e5d1",
   "metadata": {
    "papermill": {
     "duration": 0.047861,
     "end_time": "2022-09-13T10:02:04.949491",
     "exception": false,
     "start_time": "2022-09-13T10:02:04.901630",
     "status": "completed"
    },
    "tags": []
   },
   "source": [
    "Question 2: \n",
    "Using the format method, fill in the gaps in the convert_distance function so that it returns the phrase \"X miles equals Y km\", with Y having only 1 decimal place. For example, convert_distance(12) should return \"12 miles equals 19.2 km\"."
   ]
  },
  {
   "cell_type": "code",
   "execution_count": 53,
   "id": "d1df78c6",
   "metadata": {
    "execution": {
     "iopub.execute_input": "2022-09-13T10:02:05.048594Z",
     "iopub.status.busy": "2022-09-13T10:02:05.047654Z",
     "iopub.status.idle": "2022-09-13T10:02:05.056026Z",
     "shell.execute_reply": "2022-09-13T10:02:05.054155Z"
    },
    "papermill": {
     "duration": 0.060681,
     "end_time": "2022-09-13T10:02:05.058485",
     "exception": false,
     "start_time": "2022-09-13T10:02:04.997804",
     "status": "completed"
    },
    "tags": []
   },
   "outputs": [
    {
     "name": "stdout",
     "output_type": "stream",
     "text": [
      "12 miles equals 19.2 km\n",
      "5.5 miles equals 8.8 km\n",
      "11 miles equals 17.6 km\n"
     ]
    }
   ],
   "source": [
    "def convert_distance(miles):\n",
    "\tkm = miles * 1.6 \n",
    "\tresult = \"{} miles equals {:.1f} km\".format(miles, km)\n",
    "\treturn result\n",
    "\n",
    "print(convert_distance(12)) # Should be: 12 miles equals 19.2 km\n",
    "print(convert_distance(5.5)) # Should be: 5.5 miles equals 8.8 km\n",
    "print(convert_distance(11)) # Should be: 11 miles equals 17.6 km"
   ]
  },
  {
   "cell_type": "markdown",
   "id": "ff8f5f78",
   "metadata": {
    "papermill": {
     "duration": 0.049254,
     "end_time": "2022-09-13T10:02:05.157728",
     "exception": false,
     "start_time": "2022-09-13T10:02:05.108474",
     "status": "completed"
    },
    "tags": []
   },
   "source": [
    "Question 3: \n",
    "If we have a string variable named Weather = \"Rainfall\", which of the following will print the substring or all characters before the \"f\"?"
   ]
  },
  {
   "cell_type": "code",
   "execution_count": 54,
   "id": "67d19267",
   "metadata": {
    "execution": {
     "iopub.execute_input": "2022-09-13T10:02:05.258684Z",
     "iopub.status.busy": "2022-09-13T10:02:05.257923Z",
     "iopub.status.idle": "2022-09-13T10:02:05.264157Z",
     "shell.execute_reply": "2022-09-13T10:02:05.262659Z"
    },
    "papermill": {
     "duration": 0.059966,
     "end_time": "2022-09-13T10:02:05.266676",
     "exception": false,
     "start_time": "2022-09-13T10:02:05.206710",
     "status": "completed"
    },
    "tags": []
   },
   "outputs": [
    {
     "name": "stdout",
     "output_type": "stream",
     "text": [
      "Rain\n"
     ]
    }
   ],
   "source": [
    "Weather = \"Rainfall\"\n",
    "print(Weather[:4])"
   ]
  },
  {
   "cell_type": "markdown",
   "id": "b5bcd611",
   "metadata": {
    "papermill": {
     "duration": 0.049173,
     "end_time": "2022-09-13T10:02:05.365542",
     "exception": false,
     "start_time": "2022-09-13T10:02:05.316369",
     "status": "completed"
    },
    "tags": []
   },
   "source": [
    "Question 4: \n",
    "Fill in the gaps in the nametag function so that it uses the format method to return first_name and the first initial of last_name followed by a period. For example, nametag(\"Jane\", \"Smith\") should return \"Jane S.\""
   ]
  },
  {
   "cell_type": "code",
   "execution_count": 55,
   "id": "e90458a5",
   "metadata": {
    "execution": {
     "iopub.execute_input": "2022-09-13T10:02:05.464477Z",
     "iopub.status.busy": "2022-09-13T10:02:05.464043Z",
     "iopub.status.idle": "2022-09-13T10:02:05.470569Z",
     "shell.execute_reply": "2022-09-13T10:02:05.469458Z"
    },
    "papermill": {
     "duration": 0.058744,
     "end_time": "2022-09-13T10:02:05.473102",
     "exception": false,
     "start_time": "2022-09-13T10:02:05.414358",
     "status": "completed"
    },
    "tags": []
   },
   "outputs": [
    {
     "name": "stdout",
     "output_type": "stream",
     "text": [
      "Jane S.\n",
      "Francesco R.\n",
      "Jean-Luc G.\n"
     ]
    }
   ],
   "source": [
    "def nametag(first_name, last_name):\n",
    "\treturn(\"{} {}.\".format(first_name, last_name[0]))\n",
    "\n",
    "print(nametag(\"Jane\", \"Smith\")) \n",
    "# Should display \"Jane S.\" \n",
    "print(nametag(\"Francesco\", \"Rinaldi\")) \n",
    "# Should display \"Francesco R.\" \n",
    "print(nametag(\"Jean-Luc\", \"Grand-Pierre\")) \n",
    "# Should display \"Jean-Luc G.\" "
   ]
  },
  {
   "cell_type": "markdown",
   "id": "bdbe3b45",
   "metadata": {
    "papermill": {
     "duration": 0.048409,
     "end_time": "2022-09-13T10:02:05.570490",
     "exception": false,
     "start_time": "2022-09-13T10:02:05.522081",
     "status": "completed"
    },
    "tags": []
   },
   "source": [
    "Question 5:\n",
    "The replace_ending function replaces the old string in a sentence with the new string, but only if the sentence ends with the old string. If there is more than one occurrence of the old string in the sentence, only the one at the end is replaced, not all of them. For example, replace_ending(\"abcabc\", \"abc\", \"xyz\") should return abcxyz, not xyzxyz or xyzabc. The string comparison is case-sensitive, so replace_ending(\"abcabc\", \"ABC\", \"xyz\") should return abcabc (no changes made). "
   ]
  },
  {
   "cell_type": "code",
   "execution_count": 56,
   "id": "1c896a27",
   "metadata": {
    "execution": {
     "iopub.execute_input": "2022-09-13T10:02:05.669858Z",
     "iopub.status.busy": "2022-09-13T10:02:05.669436Z",
     "iopub.status.idle": "2022-09-13T10:02:05.677771Z",
     "shell.execute_reply": "2022-09-13T10:02:05.676452Z"
    },
    "papermill": {
     "duration": 0.061315,
     "end_time": "2022-09-13T10:02:05.680351",
     "exception": false,
     "start_time": "2022-09-13T10:02:05.619036",
     "status": "completed"
    },
    "tags": []
   },
   "outputs": [
    {
     "name": "stdout",
     "output_type": "stream",
     "text": [
      "It's raining cats and dogs\n",
      "She sells seashells by the seashore\n",
      "The weather is nice in May\n",
      "The weather is nice in April\n"
     ]
    }
   ],
   "source": [
    "def replace_ending(sentence, old, new):\n",
    "\t# Check if the old string is at the end of the sentence \n",
    "\tif sentence.endswith(old):\n",
    "\t\t# Using i as the slicing index, combine the part\n",
    "\t\t# of the sentence up to the matched string at the \n",
    "\t\t# end with the new string\n",
    "\t\t\n",
    "\t\ti = len(sentence) - len(old)\n",
    "\t\tnew_sentence = sentence[:i] + new\n",
    "\t\treturn new_sentence\n",
    "\n",
    "\t# Return the original sentence if there is no match \n",
    "\treturn sentence\n",
    "\t\n",
    "print(replace_ending(\"It's raining cats and cats\", \"cats\", \"dogs\")) \n",
    "# Should display \"It's raining cats and dogs\"\n",
    "print(replace_ending(\"She sells seashells by the seashore\", \"seashells\", \"donuts\")) \n",
    "# Should display \"She sells seashells by the seashore\"\n",
    "print(replace_ending(\"The weather is nice in May\", \"may\", \"april\")) \n",
    "# Should display \"The weather is nice in May\"\n",
    "print(replace_ending(\"The weather is nice in May\", \"May\", \"April\")) \n",
    "# Should display \"The weather is nice in April\""
   ]
  },
  {
   "cell_type": "markdown",
   "id": "3c2e3f7a",
   "metadata": {
    "papermill": {
     "duration": 0.049227,
     "end_time": "2022-09-13T10:02:05.779497",
     "exception": false,
     "start_time": "2022-09-13T10:02:05.730270",
     "status": "completed"
    },
    "tags": []
   },
   "source": [
    "## Practice Quiz: Lists"
   ]
  },
  {
   "cell_type": "markdown",
   "id": "7ecd7c12",
   "metadata": {
    "papermill": {
     "duration": 0.048175,
     "end_time": "2022-09-13T10:02:05.877073",
     "exception": false,
     "start_time": "2022-09-13T10:02:05.828898",
     "status": "completed"
    },
    "tags": []
   },
   "source": [
    "Question 1:\n",
    "Given a list of filenames, we want to rename all the files with extension hpp to the extension h. To do this, we would like to generate a new list called newfilenames, consisting of the new filenames. Fill in the blanks in the code using any of the methods you’ve learned thus far, like a for loop or a list comprehension."
   ]
  },
  {
   "cell_type": "code",
   "execution_count": 57,
   "id": "fc895d62",
   "metadata": {
    "execution": {
     "iopub.execute_input": "2022-09-13T10:02:05.976774Z",
     "iopub.status.busy": "2022-09-13T10:02:05.976382Z",
     "iopub.status.idle": "2022-09-13T10:02:05.982999Z",
     "shell.execute_reply": "2022-09-13T10:02:05.982173Z"
    },
    "papermill": {
     "duration": 0.05922,
     "end_time": "2022-09-13T10:02:05.985875",
     "exception": false,
     "start_time": "2022-09-13T10:02:05.926655",
     "status": "completed"
    },
    "tags": []
   },
   "outputs": [
    {
     "name": "stdout",
     "output_type": "stream",
     "text": [
      "['program.c', 'stdio.h', 'sample.h', 'a.out', 'math.h', 'hpp.out']\n"
     ]
    }
   ],
   "source": [
    "filenames = [\"program.c\", \"stdio.hpp\", \"sample.hpp\", \"a.out\", \"math.hpp\", \"hpp.out\"]\n",
    "# Generate newfilenames as a list containing the new filenames\n",
    "# using as many lines of code as your chosen method requires.\n",
    "newfilenames = []\n",
    "for files in filenames:\n",
    "    if files.endswith(\".hpp\"):\n",
    "        index = files.index(\".hpp\")\n",
    "        newfilename = files[:index] + \".h\"\n",
    "    else: \n",
    "        newfilename = files\n",
    "    newfilenames.append(newfilename)\n",
    "print(newfilenames) \n",
    "# Should be [\"program.c\", \"stdio.h\", \"sample.h\", \"a.out\", \"math.h\", \"hpp.out\"]"
   ]
  },
  {
   "cell_type": "markdown",
   "id": "04f0bce0",
   "metadata": {
    "papermill": {
     "duration": 0.048566,
     "end_time": "2022-09-13T10:02:06.083460",
     "exception": false,
     "start_time": "2022-09-13T10:02:06.034894",
     "status": "completed"
    },
    "tags": []
   },
   "source": [
    "Question 2: \n",
    "Let's create a function that turns text into pig latin: a simple text transformation that modifies each word moving the first character to the end and appending \"ay\" to the end. For example, python ends up as ythonpay. <a href= https>check my pig latin code</a>"
   ]
  },
  {
   "cell_type": "code",
   "execution_count": 58,
   "id": "d95c53b1",
   "metadata": {
    "execution": {
     "iopub.execute_input": "2022-09-13T10:02:06.182581Z",
     "iopub.status.busy": "2022-09-13T10:02:06.182081Z",
     "iopub.status.idle": "2022-09-13T10:02:06.189981Z",
     "shell.execute_reply": "2022-09-13T10:02:06.188486Z"
    },
    "papermill": {
     "duration": 0.061361,
     "end_time": "2022-09-13T10:02:06.193471",
     "exception": false,
     "start_time": "2022-09-13T10:02:06.132110",
     "status": "completed"
    },
    "tags": []
   },
   "outputs": [
    {
     "name": "stdout",
     "output_type": "stream",
     "text": [
      "ellohay owhay reaay ouyay \n",
      "rogrammingpay niay ythonpay siay unfay \n"
     ]
    }
   ],
   "source": [
    "def pig_latin(text):\n",
    "  say = \"\"\n",
    "  # Separate the text into words\n",
    "  words = text.split()\n",
    "  for word in words:\n",
    "    # Create the pig latin word and add it to the list\n",
    "    say += word[1:] + word[0] + \"ay \"\n",
    "    # Turn the list back into a phrase\n",
    "  return say\n",
    "\t\t\n",
    "print(pig_latin(\"hello how are you\")) # Should be \"ellohay owhay reaay ouyay\"\n",
    "print(pig_latin(\"programming in python is fun\")) # Should be \"rogrammingpay niay ythonpay siay unfay\""
   ]
  },
  {
   "cell_type": "markdown",
   "id": "22e6409e",
   "metadata": {
    "papermill": {
     "duration": 0.049359,
     "end_time": "2022-09-13T10:02:06.342832",
     "exception": false,
     "start_time": "2022-09-13T10:02:06.293473",
     "status": "completed"
    },
    "tags": []
   },
   "source": [
    "Question 3: \n",
    "The permissions of a file in a Linux system are split into three sets of three permissions: read, write, and execute for the owner, group, and others. Each of the three values can be expressed as an octal number summing each permission, with 4 corresponding to read, 2 to write, and 1 to execute. Or it can be written with a string using the letters r, w, and x or - when the permission is not granted.\n",
    "For example: \n",
    "640 is read/write for the owner, read for the group, and no permissions for the others; converted to a string, it would be: \"rw-r-----\"\n",
    "755 is read/write/execute for the owner, and read/execute for group and others; converted to a string, it would be: \"rwxr-xr-x\"\n",
    "Fill in the blanks to make the code convert a permission in octal format into a string format."
   ]
  },
  {
   "cell_type": "code",
   "execution_count": 59,
   "id": "0d023bdf",
   "metadata": {
    "execution": {
     "iopub.execute_input": "2022-09-13T10:02:06.443088Z",
     "iopub.status.busy": "2022-09-13T10:02:06.442717Z",
     "iopub.status.idle": "2022-09-13T10:02:06.449978Z",
     "shell.execute_reply": "2022-09-13T10:02:06.449213Z"
    },
    "papermill": {
     "duration": 0.060368,
     "end_time": "2022-09-13T10:02:06.452591",
     "exception": false,
     "start_time": "2022-09-13T10:02:06.392223",
     "status": "completed"
    },
    "tags": []
   },
   "outputs": [
    {
     "name": "stdout",
     "output_type": "stream",
     "text": [
      "rwxr-xr-x\n",
      "rw-r--r--\n",
      "rwxr-x---\n",
      "rw-------\n"
     ]
    }
   ],
   "source": [
    "def octal_to_string(octal):\n",
    "    result = \"\"\n",
    "    value_letters = [(4,\"r\"),(2,\"w\"),(1,\"x\")]\n",
    "    # Iterate over each of the digits in octal\n",
    "    for number in [int(n) for n in str(octal)]:\n",
    "        # Check for each of the permissions values\n",
    "        for value, letter in value_letters:\n",
    "            if number >= value:\n",
    "                result += letter\n",
    "                number -= value\n",
    "            else:\n",
    "                result += \"-\"\n",
    "    return result\n",
    "    \n",
    "print(octal_to_string(755)) # Should be rwxr-xr-x\n",
    "print(octal_to_string(644)) # Should be rw-r--r--\n",
    "print(octal_to_string(750)) # Should be rwxr-x---\n",
    "print(octal_to_string(600)) # Should be rw-------"
   ]
  },
  {
   "cell_type": "markdown",
   "id": "bf17277e",
   "metadata": {
    "papermill": {
     "duration": 0.04905,
     "end_time": "2022-09-13T10:02:06.551702",
     "exception": false,
     "start_time": "2022-09-13T10:02:06.502652",
     "status": "completed"
    },
    "tags": []
   },
   "source": [
    "## `Question 4 is not a coding exercise`"
   ]
  },
  {
   "cell_type": "markdown",
   "id": "3cc5218f",
   "metadata": {
    "papermill": {
     "duration": 0.048788,
     "end_time": "2022-09-13T10:02:06.649443",
     "exception": false,
     "start_time": "2022-09-13T10:02:06.600655",
     "status": "completed"
    },
    "tags": []
   },
   "source": [
    "Question 5:\n",
    "The group_list function accepts a group name and a list of members, and returns a string with the format: group_name: member1, member2, … For example, group_list(\"g\", [\"a\",\"b\",\"c\"]) returns \"g: a, b, c\". Fill in the gaps in this function to do that"
   ]
  },
  {
   "cell_type": "code",
   "execution_count": 60,
   "id": "bb813732",
   "metadata": {
    "execution": {
     "iopub.execute_input": "2022-09-13T10:02:06.750775Z",
     "iopub.status.busy": "2022-09-13T10:02:06.750345Z",
     "iopub.status.idle": "2022-09-13T10:02:06.757789Z",
     "shell.execute_reply": "2022-09-13T10:02:06.756287Z"
    },
    "papermill": {
     "duration": 0.062782,
     "end_time": "2022-09-13T10:02:06.761364",
     "exception": false,
     "start_time": "2022-09-13T10:02:06.698582",
     "status": "completed"
    },
    "tags": []
   },
   "outputs": [
    {
     "name": "stdout",
     "output_type": "stream",
     "text": [
      "Marketing: Mike, Karen, Jake, Tasha\n",
      "Engineering: Kim, Jay, Tom\n",
      "Users: \n"
     ]
    }
   ],
   "source": [
    "def group_list(group, users):\n",
    "  members = group + \": \" + \", \".join(users)\n",
    "  \n",
    "  return members\n",
    "\n",
    "print(group_list(\"Marketing\", [\"Mike\", \"Karen\", \"Jake\", \"Tasha\"])) # Should be \"Marketing: Mike, Karen, Jake, Tasha\"\n",
    "print(group_list(\"Engineering\", [\"Kim\", \"Jay\", \"Tom\"])) # Should be \"Engineering: Kim, Jay, Tom\"\n",
    "print(group_list(\"Users\", \"\")) # Should be \"Users:\""
   ]
  },
  {
   "cell_type": "code",
   "execution_count": 61,
   "id": "77e16aba",
   "metadata": {
    "execution": {
     "iopub.execute_input": "2022-09-13T10:02:06.862718Z",
     "iopub.status.busy": "2022-09-13T10:02:06.862339Z",
     "iopub.status.idle": "2022-09-13T10:02:06.869002Z",
     "shell.execute_reply": "2022-09-13T10:02:06.867921Z"
    },
    "papermill": {
     "duration": 0.059826,
     "end_time": "2022-09-13T10:02:06.871590",
     "exception": false,
     "start_time": "2022-09-13T10:02:06.811764",
     "status": "completed"
    },
    "tags": []
   },
   "outputs": [
    {
     "name": "stdout",
     "output_type": "stream",
     "text": [
      "Marketing: Mike, Karen, Jake, Tasha\n",
      "Engineering: Kim, Jay, Tom\n",
      "Users: \n"
     ]
    }
   ],
   "source": [
    "def group_list(group, users):\n",
    "  members = group + \": \" + \", \".join(users)\n",
    "  return members\n",
    "\n",
    "print(group_list(\"Marketing\", [\"Mike\", \"Karen\", \"Jake\", \"Tasha\"])) # Should be \"Marketing: Mike, Karen, Jake, Tasha\"\n",
    "print(group_list(\"Engineering\", [\"Kim\", \"Jay\", \"Tom\"])) # Should be \"Engineering: Kim, Jay, Tom\"\n",
    "print(group_list(\"Users\", \"\")) # Should be \"Users:\""
   ]
  },
  {
   "cell_type": "markdown",
   "id": "149f6f34",
   "metadata": {
    "papermill": {
     "duration": 0.049053,
     "end_time": "2022-09-13T10:02:06.969728",
     "exception": false,
     "start_time": "2022-09-13T10:02:06.920675",
     "status": "completed"
    },
    "tags": []
   },
   "source": [
    "Question 6:\n",
    "The guest_list function reads in a list of tuples with the name, age, and profession of each party guest, and prints the sentence \"Guest is X years old and works as __.\" for each one. For example, guest_list(('Ken', 30, \"Chef\"), (\"Pat\", 35, 'Lawyer'), ('Amanda', 25, \"Engineer\")) should print out: Ken is 30 years old and works as Chef. Pat is 35 years old and works as Lawyer. Amanda is 25 years old and works as Engineer. Fill in the gaps in this function to do that."
   ]
  },
  {
   "cell_type": "code",
   "execution_count": 62,
   "id": "d5e83a81",
   "metadata": {
    "execution": {
     "iopub.execute_input": "2022-09-13T10:02:07.071025Z",
     "iopub.status.busy": "2022-09-13T10:02:07.070599Z",
     "iopub.status.idle": "2022-09-13T10:02:07.079916Z",
     "shell.execute_reply": "2022-09-13T10:02:07.078633Z"
    },
    "papermill": {
     "duration": 0.062833,
     "end_time": "2022-09-13T10:02:07.081965",
     "exception": false,
     "start_time": "2022-09-13T10:02:07.019132",
     "status": "completed"
    },
    "tags": []
   },
   "outputs": [
    {
     "name": "stdout",
     "output_type": "stream",
     "text": [
      "Ken is 30 years old and works as Chef\n",
      "Pat is 35 years old and works as Lawyer\n",
      "Amanda is 25 years old and works as Engineer\n"
     ]
    },
    {
     "data": {
      "text/plain": [
       "'\\nOutput should match:\\nKen is 30 years old and works as Chef\\nPat is 35 years old and works as Lawyer\\nAmanda is 25 years old and works as Engineer\\n'"
      ]
     },
     "execution_count": 62,
     "metadata": {},
     "output_type": "execute_result"
    }
   ],
   "source": [
    "def guest_list(guests):\n",
    "\tfor name, age, work in guests:\n",
    "\t\tprint(\"{} is {} years old and works as {}\".format(name, age, work))\n",
    "\n",
    "guest_list([('Ken', 30, \"Chef\"), (\"Pat\", 35, 'Lawyer'), ('Amanda', 25, \"Engineer\")])\n",
    "\n",
    "#Click Run to submit code\n",
    "\"\"\"\n",
    "Output should match:\n",
    "Ken is 30 years old and works as Chef\n",
    "Pat is 35 years old and works as Lawyer\n",
    "Amanda is 25 years old and works as Engineer\n",
    "\"\"\""
   ]
  },
  {
   "cell_type": "markdown",
   "id": "815e2ea3",
   "metadata": {
    "papermill": {
     "duration": 0.049147,
     "end_time": "2022-09-13T10:02:07.181507",
     "exception": false,
     "start_time": "2022-09-13T10:02:07.132360",
     "status": "completed"
    },
    "tags": []
   },
   "source": [
    "## Practice Quiz: Dictionaries"
   ]
  },
  {
   "cell_type": "markdown",
   "id": "efd710ad",
   "metadata": {
    "papermill": {
     "duration": 0.049229,
     "end_time": "2022-09-13T10:02:07.281120",
     "exception": false,
     "start_time": "2022-09-13T10:02:07.231891",
     "status": "completed"
    },
    "tags": []
   },
   "source": [
    "Question 1: \n",
    "The email_list function receives a dictionary, which contains domain names as keys, and a list of users as values. Fill in the blanks to generate a list that contains complete email addresses (e.g. diana.prince@gmail.com)."
   ]
  },
  {
   "cell_type": "code",
   "execution_count": 63,
   "id": "53c0e903",
   "metadata": {
    "execution": {
     "iopub.execute_input": "2022-09-13T10:02:07.383167Z",
     "iopub.status.busy": "2022-09-13T10:02:07.382788Z",
     "iopub.status.idle": "2022-09-13T10:02:07.389787Z",
     "shell.execute_reply": "2022-09-13T10:02:07.388246Z"
    },
    "papermill": {
     "duration": 0.062069,
     "end_time": "2022-09-13T10:02:07.392248",
     "exception": false,
     "start_time": "2022-09-13T10:02:07.330179",
     "status": "completed"
    },
    "tags": []
   },
   "outputs": [
    {
     "name": "stdout",
     "output_type": "stream",
     "text": [
      "['clark.kent@gmail.com', 'diana.prince@gmail.com', 'peter.parker@gmail.com', 'barbara.gordon@yahoo.com', 'jean.grey@yahoo.com', 'bruce.wayne@hotmail.com']\n"
     ]
    }
   ],
   "source": [
    "def email_list(domains):\n",
    "\temails = []\n",
    "\tfor domain, users in domains.items():\n",
    "\t  for user in users:\n",
    "\t    emails.append(user+\"@\"+domain)\n",
    "\treturn(emails)\n",
    "\n",
    "print(email_list({\"gmail.com\": [\"clark.kent\", \"diana.prince\", \"peter.parker\"], \"yahoo.com\": [\"barbara.gordon\", \"jean.grey\"], \"hotmail.com\": [\"bruce.wayne\"]}))"
   ]
  },
  {
   "cell_type": "markdown",
   "id": "e1d61e6f",
   "metadata": {
    "papermill": {
     "duration": 0.049523,
     "end_time": "2022-09-13T10:02:07.491483",
     "exception": false,
     "start_time": "2022-09-13T10:02:07.441960",
     "status": "completed"
    },
    "tags": []
   },
   "source": [
    "Question 2: \n",
    "The groups_per_user function receives a dictionary, which contains group names with the list of users. Users can belong to multiple groups. Fill in the blanks to return a dictionary with the users as keys and a list of their groups as values. "
   ]
  },
  {
   "cell_type": "code",
   "execution_count": 64,
   "id": "7fc700a5",
   "metadata": {
    "execution": {
     "iopub.execute_input": "2022-09-13T10:02:07.592157Z",
     "iopub.status.busy": "2022-09-13T10:02:07.591785Z",
     "iopub.status.idle": "2022-09-13T10:02:07.599296Z",
     "shell.execute_reply": "2022-09-13T10:02:07.598173Z"
    },
    "papermill": {
     "duration": 0.060551,
     "end_time": "2022-09-13T10:02:07.601650",
     "exception": false,
     "start_time": "2022-09-13T10:02:07.541099",
     "status": "completed"
    },
    "tags": []
   },
   "outputs": [
    {
     "name": "stdout",
     "output_type": "stream",
     "text": [
      "{'admin': ['local', 'public', 'administrator'], 'userA': ['local'], 'userB': ['public']}\n"
     ]
    }
   ],
   "source": [
    "def groups_per_user(group_dictionary):\n",
    "\tuser_groups = {}\n",
    "\t# Go through group_dictionary\n",
    "\tfor group, users in group_dictionary.items():\n",
    "\t\t# Now go through the users in the group\n",
    "\t\t\n",
    "\t\tfor user in users:\n",
    "\t\t\tif user not in user_groups:\n",
    "\t\t\t\tuser_groups[user] = []\n",
    "\t\t\tuser_groups[user].append(group)\n",
    "\t\t\t# Now add the group to the the list of\n",
    "# groups for this user, creating the entry\n",
    "# in the dictionary if necessary\n",
    "\n",
    "\treturn(user_groups)\n",
    "\n",
    "print(groups_per_user({\"local\": [\"admin\", \"userA\"],\n",
    "\t\t\"public\":  [\"admin\", \"userB\"],\n",
    "\t\t\"administrator\": [\"admin\"] }))"
   ]
  },
  {
   "cell_type": "markdown",
   "id": "24d0fe3c",
   "metadata": {
    "papermill": {
     "duration": 0.048989,
     "end_time": "2022-09-13T10:02:07.700341",
     "exception": false,
     "start_time": "2022-09-13T10:02:07.651352",
     "status": "completed"
    },
    "tags": []
   },
   "source": [
    "Question 3:\n",
    "The dict.update method updates one dictionary with the items coming from the other dictionary, so that existing entries are replaced and new entries are added. What is the content of the dictionary “wardrobe“ at the end of the following code? <br>\n",
    "`Answer:` {'shirt': ['red', 'blue', 'white'], 'jeans': ['white'], 'scarf': ['yellow'], 'socks': ['black', 'brown']}"
   ]
  },
  {
   "cell_type": "code",
   "execution_count": 65,
   "id": "5a64d6a7",
   "metadata": {
    "execution": {
     "iopub.execute_input": "2022-09-13T10:02:07.804041Z",
     "iopub.status.busy": "2022-09-13T10:02:07.803625Z",
     "iopub.status.idle": "2022-09-13T10:02:07.811535Z",
     "shell.execute_reply": "2022-09-13T10:02:07.810656Z"
    },
    "papermill": {
     "duration": 0.060939,
     "end_time": "2022-09-13T10:02:07.813654",
     "exception": false,
     "start_time": "2022-09-13T10:02:07.752715",
     "status": "completed"
    },
    "tags": []
   },
   "outputs": [
    {
     "data": {
      "text/plain": [
       "{'shirt': ['red', 'blue', 'white'],\n",
       " 'jeans': ['white'],\n",
       " 'scarf': ['yellow'],\n",
       " 'socks': ['black', 'brown']}"
      ]
     },
     "execution_count": 65,
     "metadata": {},
     "output_type": "execute_result"
    }
   ],
   "source": [
    "wardrobe = {'shirt': ['red', 'blue', 'white'], 'jeans': ['blue', 'black']}\n",
    "new_items = {'jeans': ['white'], 'scarf': ['yellow'], 'socks': ['black', 'brown']}\n",
    "updated_wordrope = wardrobe.update(new_items)\n",
    "wardrobe"
   ]
  },
  {
   "cell_type": "markdown",
   "id": "2b8af694",
   "metadata": {
    "papermill": {
     "duration": 0.050086,
     "end_time": "2022-09-13T10:02:07.913774",
     "exception": false,
     "start_time": "2022-09-13T10:02:07.863688",
     "status": "completed"
    },
    "tags": []
   },
   "source": [
    "## `Question 4 is not a coding exercise`"
   ]
  },
  {
   "cell_type": "markdown",
   "id": "ae9e9b95",
   "metadata": {
    "papermill": {
     "duration": 0.049564,
     "end_time": "2022-09-13T10:02:08.013417",
     "exception": false,
     "start_time": "2022-09-13T10:02:07.963853",
     "status": "completed"
    },
    "tags": []
   },
   "source": [
    "Question 5: \n",
    "The add_prices function returns the total price of all of the groceries in the  dictionary. Fill in the blanks to complete this function."
   ]
  },
  {
   "cell_type": "code",
   "execution_count": 66,
   "id": "6922dbe5",
   "metadata": {
    "execution": {
     "iopub.execute_input": "2022-09-13T10:02:08.116794Z",
     "iopub.status.busy": "2022-09-13T10:02:08.116406Z",
     "iopub.status.idle": "2022-09-13T10:02:08.123012Z",
     "shell.execute_reply": "2022-09-13T10:02:08.122223Z"
    },
    "papermill": {
     "duration": 0.060476,
     "end_time": "2022-09-13T10:02:08.125215",
     "exception": false,
     "start_time": "2022-09-13T10:02:08.064739",
     "status": "completed"
    },
    "tags": []
   },
   "outputs": [
    {
     "name": "stdout",
     "output_type": "stream",
     "text": [
      "28.44\n"
     ]
    }
   ],
   "source": [
    "def add_prices(basket):\n",
    "\t# Initialize the variable that will be used for the calculation\n",
    "\ttotal = 0\n",
    "\t# Iterate through the dictionary items\n",
    "\tfor item, price in basket.items():\n",
    "\t\t# Add each price to the total calculation\n",
    "\t\t# Hint: how do you access the values of\n",
    "\t\t# dictionary items?\n",
    "\t\ttotal += price\n",
    "\t# Limit the return value to 2 decimal places\n",
    "\treturn round(total, 2)  \n",
    "\n",
    "groceries = {\"bananas\": 1.56, \"apples\": 2.50, \"oranges\": 0.99, \"bread\": 4.59, \n",
    "\t\"coffee\": 6.99, \"milk\": 3.39, \"eggs\": 2.98, \"cheese\": 5.44}\n",
    "\n",
    "print(add_prices(groceries)) # Should print 28.44\n"
   ]
  },
  {
   "cell_type": "markdown",
   "id": "9592521e",
   "metadata": {
    "papermill": {
     "duration": 0.04967,
     "end_time": "2022-09-13T10:02:08.225068",
     "exception": false,
     "start_time": "2022-09-13T10:02:08.175398",
     "status": "completed"
    },
    "tags": []
   },
   "source": [
    "## Module 4 Graded Assessment"
   ]
  },
  {
   "cell_type": "markdown",
   "id": "a5f9d8f1",
   "metadata": {
    "papermill": {
     "duration": 0.050529,
     "end_time": "2022-09-13T10:02:08.326629",
     "exception": false,
     "start_time": "2022-09-13T10:02:08.276100",
     "status": "completed"
    },
    "tags": []
   },
   "source": [
    "Question 1: \n",
    "The format_address function separates out parts of the address string into new strings: house_number and street_name, and returns: \"house number X on street named Y\". The format of the input string is: numeric house number, followed by the street name which may contain numbers, but never by themselves, and could be several words long. For example, \"123 Main Street\", \"1001 1st Ave\", or \"55 North Center Drive\". Fill in the gaps to complete this function."
   ]
  },
  {
   "cell_type": "code",
   "execution_count": 67,
   "id": "9c67006f",
   "metadata": {
    "execution": {
     "iopub.execute_input": "2022-09-13T10:02:08.429076Z",
     "iopub.status.busy": "2022-09-13T10:02:08.428712Z",
     "iopub.status.idle": "2022-09-13T10:02:08.435521Z",
     "shell.execute_reply": "2022-09-13T10:02:08.434680Z"
    },
    "papermill": {
     "duration": 0.060701,
     "end_time": "2022-09-13T10:02:08.438051",
     "exception": false,
     "start_time": "2022-09-13T10:02:08.377350",
     "status": "completed"
    },
    "tags": []
   },
   "outputs": [
    {
     "name": "stdout",
     "output_type": "stream",
     "text": [
      "house number 123 on street named Main Street\n",
      "house number 1001 on street named 1st Ave\n",
      "house number 55 on street named North Center Drive\n"
     ]
    }
   ],
   "source": [
    "def format_address(address_string):\n",
    "  # Declare variables\n",
    "\n",
    "  # Separate the address string into parts\n",
    "\n",
    "  # Traverse through the address parts\n",
    "\n",
    "    # Determine if the address part is the\n",
    "    # house number or part of the street name\n",
    "\n",
    "  # Does anything else need to be done \n",
    "  # before returning the result?\n",
    "  \n",
    "  # Return the formatted string\n",
    "    address = address_string.split()[1]\n",
    "\n",
    "    address = address_string.split(' ', 1)\n",
    "    house_number = address[0]\n",
    "    street_name = address[1]\n",
    "    return \"house number {} on street named {}\".format(house_number, street_name)\n",
    "\n",
    "print(format_address(\"123 Main Street\"))\n",
    "# Should print: \"house number 123 on street named Main Street\"\n",
    "\n",
    "print(format_address(\"1001 1st Ave\"))\n",
    "# Should print: \"house number 1001 on street named 1st Ave\"\n",
    "\n",
    "print(format_address(\"55 North Center Drive\"))\n",
    "# Should print \"house number 55 on street named North Center Drive\"\n"
   ]
  },
  {
   "cell_type": "markdown",
   "id": "35ba2d77",
   "metadata": {
    "papermill": {
     "duration": 0.04981,
     "end_time": "2022-09-13T10:02:08.537913",
     "exception": false,
     "start_time": "2022-09-13T10:02:08.488103",
     "status": "completed"
    },
    "tags": []
   },
   "source": [
    "Question 2:\n",
    "The highlight_word function changes the given word in a sentence to its upper-case version. For example, highlight_word(\"Have a nice day\", \"nice\") returns \"Have a NICE day\". Can you write this function in just one line?"
   ]
  },
  {
   "cell_type": "code",
   "execution_count": 68,
   "id": "97c5f28e",
   "metadata": {
    "execution": {
     "iopub.execute_input": "2022-09-13T10:02:08.639965Z",
     "iopub.status.busy": "2022-09-13T10:02:08.638808Z",
     "iopub.status.idle": "2022-09-13T10:02:08.645337Z",
     "shell.execute_reply": "2022-09-13T10:02:08.644247Z"
    },
    "papermill": {
     "duration": 0.05949,
     "end_time": "2022-09-13T10:02:08.647554",
     "exception": false,
     "start_time": "2022-09-13T10:02:08.588064",
     "status": "completed"
    },
    "tags": []
   },
   "outputs": [
    {
     "name": "stdout",
     "output_type": "stream",
     "text": [
      "Have a NICE day\n",
      "Shhh, don't be so LOUD!\n",
      "Automating with Python is FUN\n"
     ]
    }
   ],
   "source": [
    "def highlight_word(sentence, word):\n",
    "\treturn sentence.replace(word, word.upper())\n",
    "\n",
    "print(highlight_word(\"Have a nice day\", \"nice\"))\n",
    "print(highlight_word(\"Shhh, don't be so loud!\", \"loud\"))\n",
    "print(highlight_word(\"Automating with Python is fun\", \"fun\"))\n"
   ]
  },
  {
   "cell_type": "markdown",
   "id": "f80b9746",
   "metadata": {
    "papermill": {
     "duration": 0.049762,
     "end_time": "2022-09-13T10:02:08.748068",
     "exception": false,
     "start_time": "2022-09-13T10:02:08.698306",
     "status": "completed"
    },
    "tags": []
   },
   "source": [
    "Question 3:\n",
    "A professor with two assistants, Jamie and Drew, wants an attendance list of the students, in the order that they arrived in the classroom. Drew was the first one to note which students arrived, and then Jamie took over. After the class, they each entered their lists into the computer and emailed them to the professor, who needs to combine them into one, in the order of each student's arrival. Jamie emailed a follow-up, saying that her list is in reverse order. Complete the steps to combine them into one list as follows: the contents of Drew's list, followed by Jamie's list in reverse order, to get an accurate list of the students as they arrived."
   ]
  },
  {
   "cell_type": "code",
   "execution_count": 69,
   "id": "2d70fa22",
   "metadata": {
    "execution": {
     "iopub.execute_input": "2022-09-13T10:02:08.850959Z",
     "iopub.status.busy": "2022-09-13T10:02:08.849824Z",
     "iopub.status.idle": "2022-09-13T10:02:08.857443Z",
     "shell.execute_reply": "2022-09-13T10:02:08.856092Z"
    },
    "papermill": {
     "duration": 0.062035,
     "end_time": "2022-09-13T10:02:08.859897",
     "exception": false,
     "start_time": "2022-09-13T10:02:08.797862",
     "status": "completed"
    },
    "tags": []
   },
   "outputs": [
    {
     "name": "stdout",
     "output_type": "stream",
     "text": [
      "['Mike', 'Carol', 'Greg', 'Marcia', 'Peter', 'Jan', 'Bobby', 'Cindy', 'Alice']\n"
     ]
    }
   ],
   "source": [
    "def combine_lists(list1, list2):\n",
    "  # Generate a new list containing the elements of list2\n",
    "  \n",
    "  new_list = list2 + list1[::-1]\n",
    "  # Followed by the elements of list1 in reverse order\n",
    "  \n",
    "  return new_list\n",
    "  \n",
    "  \n",
    "\t\n",
    "Jamies_list = [\"Alice\", \"Cindy\", \"Bobby\", \"Jan\", \"Peter\"]\n",
    "Drews_list = [\"Mike\", \"Carol\", \"Greg\", \"Marcia\"]\n",
    "\n",
    "print(combine_lists(Jamies_list, Drews_list))\n"
   ]
  },
  {
   "cell_type": "markdown",
   "id": "0d268b29",
   "metadata": {
    "papermill": {
     "duration": 0.049382,
     "end_time": "2022-09-13T10:02:08.959166",
     "exception": false,
     "start_time": "2022-09-13T10:02:08.909784",
     "status": "completed"
    },
    "tags": []
   },
   "source": [
    "Question 4:\n",
    "Use a list comprehension to create a list of squared numbers (n*n). The function receives the variables start and end, and returns a list of squares of consecutive numbers between start and end inclusively.\n",
    "For example, squares(2, 3) should return [4, 9]."
   ]
  },
  {
   "cell_type": "code",
   "execution_count": 70,
   "id": "f7eb8cc3",
   "metadata": {
    "execution": {
     "iopub.execute_input": "2022-09-13T10:02:09.061429Z",
     "iopub.status.busy": "2022-09-13T10:02:09.060772Z",
     "iopub.status.idle": "2022-09-13T10:02:09.067598Z",
     "shell.execute_reply": "2022-09-13T10:02:09.066213Z"
    },
    "papermill": {
     "duration": 0.060718,
     "end_time": "2022-09-13T10:02:09.069963",
     "exception": false,
     "start_time": "2022-09-13T10:02:09.009245",
     "status": "completed"
    },
    "tags": []
   },
   "outputs": [
    {
     "name": "stdout",
     "output_type": "stream",
     "text": [
      "[4, 9]\n",
      "[1, 4, 9, 16, 25]\n",
      "[0, 1, 4, 9, 16, 25, 36, 49, 64, 81, 100]\n"
     ]
    }
   ],
   "source": [
    "def squares(start, end):\n",
    "\treturn [x*x for x in range(start, end+1)]\n",
    "\n",
    "print(squares(2, 3)) # Should be [4, 9]\n",
    "print(squares(1, 5)) # Should be [1, 4, 9, 16, 25]\n",
    "print(squares(0, 10)) # Should be [0, 1, 4, 9, 16, 25, 36, 49, 64, 81, 100]"
   ]
  },
  {
   "cell_type": "markdown",
   "id": "f2a112c2",
   "metadata": {
    "papermill": {
     "duration": 0.049694,
     "end_time": "2022-09-13T10:02:09.170479",
     "exception": false,
     "start_time": "2022-09-13T10:02:09.120785",
     "status": "completed"
    },
    "tags": []
   },
   "source": [
    "Question 5: \n",
    "Complete the code to iterate through the keys and values of the car_prices dictionary, printing out some information about each one."
   ]
  },
  {
   "cell_type": "code",
   "execution_count": 71,
   "id": "64f95035",
   "metadata": {
    "execution": {
     "iopub.execute_input": "2022-09-13T10:02:09.271854Z",
     "iopub.status.busy": "2022-09-13T10:02:09.270893Z",
     "iopub.status.idle": "2022-09-13T10:02:09.278081Z",
     "shell.execute_reply": "2022-09-13T10:02:09.276450Z"
    },
    "papermill": {
     "duration": 0.060755,
     "end_time": "2022-09-13T10:02:09.280449",
     "exception": false,
     "start_time": "2022-09-13T10:02:09.219694",
     "status": "completed"
    },
    "tags": []
   },
   "outputs": [
    {
     "name": "stdout",
     "output_type": "stream",
     "text": [
      "Kia Soul costs 19000 dollars\n",
      "Lamborghini Diablo costs 55000 dollars\n",
      "Ford Fiesta costs 13000 dollars\n",
      "Toyota Prius costs 24000 dollars\n",
      "\n"
     ]
    }
   ],
   "source": [
    "def car_listing(car_prices):\n",
    "  result = \"\"\n",
    "  for car, price in car_prices.items():\n",
    "    result += \"{} costs {} dollars\".format(car, price) + \"\\n\"\n",
    "  return result\n",
    "\n",
    "print(car_listing({\"Kia Soul\":19000, \"Lamborghini Diablo\":55000, \"Ford Fiesta\":13000, \"Toyota Prius\":24000}))"
   ]
  },
  {
   "cell_type": "markdown",
   "id": "4de353a1",
   "metadata": {
    "papermill": {
     "duration": 0.050892,
     "end_time": "2022-09-13T10:02:09.381263",
     "exception": false,
     "start_time": "2022-09-13T10:02:09.330371",
     "status": "completed"
    },
    "tags": []
   },
   "source": [
    "Question 6: \n",
    "Taylor and Rory are hosting a party. They sent out invitations, and each one collected responses into dictionaries, with names of their friends and how many guests each friend is bringing. Each dictionary is a partial list, but Rory's list has more current information about the number of guests. Fill in the blanks to combine both dictionaries into one, with each friend listed only once, and the number of guests from Rory's dictionary taking precedence, if a name is included in both dictionaries. Then print the resulting dictionary."
   ]
  },
  {
   "cell_type": "code",
   "execution_count": 72,
   "id": "3a83b4f5",
   "metadata": {
    "execution": {
     "iopub.execute_input": "2022-09-13T10:02:09.483079Z",
     "iopub.status.busy": "2022-09-13T10:02:09.482443Z",
     "iopub.status.idle": "2022-09-13T10:02:09.490654Z",
     "shell.execute_reply": "2022-09-13T10:02:09.489235Z"
    },
    "papermill": {
     "duration": 0.062332,
     "end_time": "2022-09-13T10:02:09.493598",
     "exception": false,
     "start_time": "2022-09-13T10:02:09.431266",
     "status": "completed"
    },
    "tags": []
   },
   "outputs": [
    {
     "name": "stdout",
     "output_type": "stream",
     "text": [
      "{'David': 1, 'Nancy': 1, 'Robert': 4, 'Adam': 2, 'Samantha': 3, 'Chris': 5, 'Brenda': 3, 'Jose': 3, 'Charlotte': 2, 'Terry': 1}\n"
     ]
    }
   ],
   "source": [
    "def combine_guests(guests1, guests2):\n",
    "  # Combine both dictionaries into one, with each key listed\n",
    "  guests2.update(guests1) \n",
    "  # only once, and the value from guests1 taking precedence\n",
    "  return guests2\n",
    "Rorys_guests = { \"Adam\":2, \"Brenda\":3, \"David\":1, \"Jose\":3, \"Charlotte\":2, \"Terry\":1, \"Robert\":4}\n",
    "Taylors_guests = { \"David\":4, \"Nancy\":1, \"Robert\":2, \"Adam\":1, \"Samantha\":3, \"Chris\":5}\n",
    "\n",
    "print(combine_guests(Rorys_guests, Taylors_guests))\n"
   ]
  },
  {
   "cell_type": "markdown",
   "id": "22f0f232",
   "metadata": {
    "papermill": {
     "duration": 0.049843,
     "end_time": "2022-09-13T10:02:09.594390",
     "exception": false,
     "start_time": "2022-09-13T10:02:09.544547",
     "status": "completed"
    },
    "tags": []
   },
   "source": [
    "Question 7: \n",
    "Use a dictionary to count the frequency of letters in the input string. Only letters should be counted, not blank spaces, numbers, or punctuation. Upper case should be considered the same as lower case. For example, count_letters(\"This is a sentence.\") should return {'t': 2, 'h': 1, 'i': 2, 's': 3, 'a': 1, 'e': 3, 'n': 2, 'c': 1}."
   ]
  },
  {
   "cell_type": "code",
   "execution_count": 73,
   "id": "b8d7a7f7",
   "metadata": {
    "execution": {
     "iopub.execute_input": "2022-09-13T10:02:09.696849Z",
     "iopub.status.busy": "2022-09-13T10:02:09.696182Z",
     "iopub.status.idle": "2022-09-13T10:02:09.704325Z",
     "shell.execute_reply": "2022-09-13T10:02:09.702963Z"
    },
    "papermill": {
     "duration": 0.061842,
     "end_time": "2022-09-13T10:02:09.706528",
     "exception": false,
     "start_time": "2022-09-13T10:02:09.644686",
     "status": "completed"
    },
    "tags": []
   },
   "outputs": [
    {
     "name": "stdout",
     "output_type": "stream",
     "text": [
      "{'a': 2, 'b': 2, 'c': 2}\n",
      "{'m': 1, 'a': 1, 't': 1, 'h': 1, 'i': 1, 's': 1, 'f': 1, 'u': 1, 'n': 1}\n",
      "{'t': 2, 'h': 1, 'i': 2, 's': 3, 'a': 1, 'e': 3, 'n': 2, 'c': 1}\n"
     ]
    }
   ],
   "source": [
    "def count_letters(text):\n",
    "  import string\n",
    "  result = {}\n",
    "  # Go through each letter in the text\n",
    "  for letter in text:\n",
    "    \n",
    "    # Check if the letter needs to be counted or not\n",
    "    if letter in string.ascii_letters:\n",
    "      letter = letter.lower()\n",
    "      if letter not in result:\n",
    "        result[letter] = 0\n",
    "    # Add or increment the value in the dictionary\n",
    "      result[letter] += 1\n",
    "  return result\n",
    "\n",
    "print(count_letters(\"AaBbCc\"))\n",
    "# Should be {'a': 2, 'b': 2, 'c': 2}\n",
    "\n",
    "print(count_letters(\"Math is fun! 2+2=4\"))\n",
    "# Should be {'m': 1, 'a': 1, 't': 1, 'h': 1, 'i': 1, 's': 1, 'f': 1, 'u': 1, 'n': 1}\n",
    "\n",
    "print(count_letters(\"This is a sentence.\"))\n",
    "# Should be {'t': 2, 'h': 1, 'i': 2, 's': 3, 'a': 1, 'e': 3, 'n': 2, 'c': 1}"
   ]
  },
  {
   "cell_type": "markdown",
   "id": "a11eba61",
   "metadata": {
    "papermill": {
     "duration": 0.057978,
     "end_time": "2022-09-13T10:02:09.814835",
     "exception": false,
     "start_time": "2022-09-13T10:02:09.756857",
     "status": "completed"
    },
    "tags": []
   },
   "source": [
    "Question 8: \n",
    "What do the following commands return when animal = \"Hippopotamus\"? <br>\n",
    "`Answer:` pop, t, us"
   ]
  },
  {
   "cell_type": "code",
   "execution_count": 74,
   "id": "d61486d8",
   "metadata": {
    "execution": {
     "iopub.execute_input": "2022-09-13T10:02:09.921522Z",
     "iopub.status.busy": "2022-09-13T10:02:09.920280Z",
     "iopub.status.idle": "2022-09-13T10:02:09.926255Z",
     "shell.execute_reply": "2022-09-13T10:02:09.925477Z"
    },
    "papermill": {
     "duration": 0.060901,
     "end_time": "2022-09-13T10:02:09.929135",
     "exception": false,
     "start_time": "2022-09-13T10:02:09.868234",
     "status": "completed"
    },
    "tags": []
   },
   "outputs": [
    {
     "name": "stdout",
     "output_type": "stream",
     "text": [
      "pop\n",
      "t\n",
      "us\n"
     ]
    }
   ],
   "source": [
    "animal = \"Hippopotamus\"\n",
    "print(animal[3:6])\n",
    "print(animal[-5])\n",
    "print(animal[10:])\n"
   ]
  },
  {
   "cell_type": "markdown",
   "id": "1113c11a",
   "metadata": {
    "papermill": {
     "duration": 0.061295,
     "end_time": "2022-09-13T10:02:10.043815",
     "exception": false,
     "start_time": "2022-09-13T10:02:09.982520",
     "status": "completed"
    },
    "tags": []
   },
   "source": [
    "Question 9:\n",
    "What does the list \"colors\" contain after these commands are executed? <br>\n",
    "`Answer:` ['red', 'white', 'yellow', 'blue']"
   ]
  },
  {
   "cell_type": "code",
   "execution_count": 75,
   "id": "94de0445",
   "metadata": {
    "execution": {
     "iopub.execute_input": "2022-09-13T10:02:10.168116Z",
     "iopub.status.busy": "2022-09-13T10:02:10.166960Z",
     "iopub.status.idle": "2022-09-13T10:02:10.175466Z",
     "shell.execute_reply": "2022-09-13T10:02:10.174376Z"
    },
    "papermill": {
     "duration": 0.067792,
     "end_time": "2022-09-13T10:02:10.177688",
     "exception": false,
     "start_time": "2022-09-13T10:02:10.109896",
     "status": "completed"
    },
    "tags": []
   },
   "outputs": [
    {
     "data": {
      "text/plain": [
       "['red', 'white', 'yellow', 'blue']"
      ]
     },
     "execution_count": 75,
     "metadata": {},
     "output_type": "execute_result"
    }
   ],
   "source": [
    "colors = [\"red\", \"white\", \"blue\"]\n",
    "colors.insert(2, \"yellow\")\n",
    "colors"
   ]
  },
  {
   "cell_type": "markdown",
   "id": "ba40f758",
   "metadata": {
    "papermill": {
     "duration": 0.064384,
     "end_time": "2022-09-13T10:02:10.296349",
     "exception": false,
     "start_time": "2022-09-13T10:02:10.231965",
     "status": "completed"
    },
    "tags": []
   },
   "source": [
    "Question 10: \n",
    "What do the following commands return?\n",
    "\n",
    "`Answer:` ['router', 'localhost', 'google']"
   ]
  },
  {
   "cell_type": "code",
   "execution_count": 76,
   "id": "6efb5448",
   "metadata": {
    "execution": {
     "iopub.execute_input": "2022-09-13T10:02:10.409103Z",
     "iopub.status.busy": "2022-09-13T10:02:10.408725Z",
     "iopub.status.idle": "2022-09-13T10:02:10.415956Z",
     "shell.execute_reply": "2022-09-13T10:02:10.414961Z"
    },
    "papermill": {
     "duration": 0.069991,
     "end_time": "2022-09-13T10:02:10.417973",
     "exception": false,
     "start_time": "2022-09-13T10:02:10.347982",
     "status": "completed"
    },
    "tags": []
   },
   "outputs": [
    {
     "data": {
      "text/plain": [
       "dict_keys(['router', 'localhost', 'google'])"
      ]
     },
     "execution_count": 76,
     "metadata": {},
     "output_type": "execute_result"
    }
   ],
   "source": [
    "host_addresses = {\"router\": \"192.168.1.1\", \"localhost\": \"127.0.0.1\", \"google\": \"8.8.8.8\"}\n",
    "host_addresses.keys()"
   ]
  },
  {
   "cell_type": "markdown",
   "id": "f8c5ae6e",
   "metadata": {
    "papermill": {
     "duration": 0.050654,
     "end_time": "2022-09-13T10:02:10.519663",
     "exception": false,
     "start_time": "2022-09-13T10:02:10.469009",
     "status": "completed"
    },
    "tags": []
   },
   "source": [
    "<h1 align= \"center\">WEEK FIVE<h1>"
   ]
  },
  {
   "cell_type": "markdown",
   "id": "ab255c82",
   "metadata": {
    "papermill": {
     "duration": 0.05079,
     "end_time": "2022-09-13T10:02:10.621861",
     "exception": false,
     "start_time": "2022-09-13T10:02:10.571071",
     "status": "completed"
    },
    "tags": []
   },
   "source": [
    "## Practice Quiz: Object-oriented Programming (Optional)"
   ]
  },
  {
   "cell_type": "markdown",
   "id": "11aab02b",
   "metadata": {
    "papermill": {
     "duration": 0.051148,
     "end_time": "2022-09-13T10:02:10.724329",
     "exception": false,
     "start_time": "2022-09-13T10:02:10.673181",
     "status": "completed"
    },
    "tags": []
   },
   "source": [
    "Question 1: \n",
    "Let’s test your knowledge of using dot notation to access methods and attributes in an object. Let’s say we have a class called Birds. Birds has two attributes: color and number. Birds also has a method called count() that counts the number of birds (adds a value to number). Which of the following lines of code will correctly print the number of birds? Keep in mind, the number of birds is 0 until they are counted!<br>\n",
    "`Answer: C` <br>\n",
    "bluejay.count() <br>\n",
    "print(bluejay.number) <br>"
   ]
  },
  {
   "cell_type": "markdown",
   "id": "755c88fe",
   "metadata": {
    "papermill": {
     "duration": 0.05047,
     "end_time": "2022-09-13T10:02:10.825969",
     "exception": false,
     "start_time": "2022-09-13T10:02:10.775499",
     "status": "completed"
    },
    "tags": []
   },
   "source": [
    "Question 2: \n",
    "Creating new instances of class objects can be a great way to keep track of values using attributes associated with the object. The values of these attributes can be easily changed at the object level.  The following code illustrates a famous quote by George Bernard Shaw, using objects to represent people. Fill in the blanks to make the code satisfy the behavior described in the quote."
   ]
  },
  {
   "cell_type": "code",
   "execution_count": 77,
   "id": "52cba17d",
   "metadata": {
    "execution": {
     "iopub.execute_input": "2022-09-13T10:02:10.937776Z",
     "iopub.status.busy": "2022-09-13T10:02:10.936454Z",
     "iopub.status.idle": "2022-09-13T10:02:10.947948Z",
     "shell.execute_reply": "2022-09-13T10:02:10.946500Z"
    },
    "papermill": {
     "duration": 0.071646,
     "end_time": "2022-09-13T10:02:10.950460",
     "exception": false,
     "start_time": "2022-09-13T10:02:10.878814",
     "status": "completed"
    },
    "tags": []
   },
   "outputs": [
    {
     "name": "stdout",
     "output_type": "stream",
     "text": [
      "Johanna has 2 apples and Martin has 1 apples\n",
      "Johanna has 2 ideas and Martin has 2 ideas\n"
     ]
    }
   ],
   "source": [
    "# “If you have an apple and I have an apple and we exchange these apples then\n",
    "# you and I will still each have one apple. But if you have an idea and I have\n",
    "# an idea and we exchange these ideas, then each of us will have two ideas.”\n",
    "# George Bernard Shaw\n",
    "\n",
    "class Person:\n",
    "    apples = 0\n",
    "    ideas = 0\n",
    "\n",
    "johanna = Person()\n",
    "johanna.apples = 1\n",
    "johanna.ideas = 1\n",
    "\n",
    "martin = Person()\n",
    "martin.apples = 2\n",
    "martin.ideas = 1\n",
    "\n",
    "def exchange_apples(you, me):\n",
    "#Here, despite G.B. Shaw's quote, our characters have started with       #different amounts of apples so we can better observe the results. \n",
    "#We're going to have Martin and Johanna exchange ALL their apples with #one another.\n",
    "#Hint: how would you switch values of variables, \n",
    "#so that \"you\" and \"me\" will exchange ALL their apples with one another?\n",
    "#Do you need a temporary variable to store one of the values?\n",
    "#You may need more than one line of code to do that, which is OK. \n",
    "    you_box = you.apples\n",
    "    me_box = me.apples\n",
    "    you.apples = me_box\n",
    "    me.apples = you_box\n",
    "    return you.apples, me.apples\n",
    "    \n",
    "def exchange_ideas(you, me):\n",
    "    #\"you\" and \"me\" will share our ideas with one another.\n",
    "    #What operations need to be performed, so that each object receives\n",
    "    #the shared number of ideas?\n",
    "    #Hint: how would you assign the total number of ideas to \n",
    "    #each idea attribute? Do you need a temporary variable to store \n",
    "    #the sum of ideas, or can you find another way? \n",
    "    #Use as many lines of code as you need here.\n",
    "    you_box = you.ideas\n",
    "    me_box = me.ideas\n",
    "    you.ideas = you_box + me_box\n",
    "    me.ideas = me_box + you_box\n",
    "    return you.ideas, me.ideas\n",
    "\n",
    "exchange_apples(johanna, martin)\n",
    "print(\"Johanna has {} apples and Martin has {} apples\".format(johanna.apples, martin.apples))\n",
    "exchange_ideas(johanna, martin)\n",
    "print(\"Johanna has {} ideas and Martin has {} ideas\".format(johanna.ideas, martin.ideas))\n",
    "\n",
    "\n",
    "\n"
   ]
  },
  {
   "cell_type": "markdown",
   "id": "6b957a69",
   "metadata": {
    "papermill": {
     "duration": 0.054272,
     "end_time": "2022-09-13T10:02:11.061841",
     "exception": false,
     "start_time": "2022-09-13T10:02:11.007569",
     "status": "completed"
    },
    "tags": []
   },
   "source": [
    "Question 3: \n",
    "The City class has the following attributes: name, country (where the city is located), elevation (measured in meters), and population (approximate, according to recent statistics). Fill in the blanks of the max_elevation_city function to return the name of the city and its country (separated by a comma), when comparing the 3 defined instances for a specified minimal population. For example, calling the function for a minimum population of 1 million: max_elevation_city(1000000) should return \"Sofia, Bulgaria\"."
   ]
  },
  {
   "cell_type": "code",
   "execution_count": 78,
   "id": "7ec01114",
   "metadata": {
    "execution": {
     "iopub.execute_input": "2022-09-13T10:02:11.166497Z",
     "iopub.status.busy": "2022-09-13T10:02:11.165804Z",
     "iopub.status.idle": "2022-09-13T10:02:11.177994Z",
     "shell.execute_reply": "2022-09-13T10:02:11.176574Z"
    },
    "papermill": {
     "duration": 0.066478,
     "end_time": "2022-09-13T10:02:11.180000",
     "exception": false,
     "start_time": "2022-09-13T10:02:11.113522",
     "status": "completed"
    },
    "tags": []
   },
   "outputs": [
    {
     "name": "stdout",
     "output_type": "stream",
     "text": [
      "('Cusco', 'Peru')\n",
      "('Sofia', 'Bulgaria')\n",
      "\n"
     ]
    }
   ],
   "source": [
    "# define a basic city class\n",
    "class City:\n",
    "\tname = \"\"\n",
    "\tcountry = \"\"\n",
    "\televation = 0 \n",
    "\tpopulation = 0\n",
    "\n",
    "# create a new instance of the City class and\n",
    "# define each attribute\n",
    "city1 = City()\n",
    "city1.name = \"Cusco\"\n",
    "city1.country = \"Peru\"\n",
    "city1.elevation = 3399\n",
    "city1.population = 358052\n",
    "\n",
    "# create a new instance of the City class and\n",
    "# define each attribute\n",
    "city2 = City()\n",
    "city2.name = \"Sofia\"\n",
    "city2.country = \"Bulgaria\"\n",
    "city2.elevation = 2290\n",
    "city2.population = 1241675\n",
    "\n",
    "# create a new instance of the City class and\n",
    "# define each attribute\n",
    "city3 = City()\n",
    "city3.name = \"Seoul\"\n",
    "city3.country = \"South Korea\"\n",
    "city3.elevation = 38\n",
    "city3.population = 9733509\n",
    "\n",
    "def max_elevation_city(min_population):\n",
    "    # Initialize the variable that will hold \n",
    "    # the information of the city with \n",
    "    # the highest elevation \n",
    "#    if city1.population > min_population:\n",
    "#       City = city1.name, city1.country\n",
    "#    elif city2.population > min_population:\n",
    "#        City = city2.name, city2.country\n",
    "#    elif city3.population > min_population:\n",
    "#        City = city3.name, city3.country\n",
    "#    else:\n",
    "#        return \"\"\n",
    "#    return City\n",
    "\treturn_city = City()\n",
    "\t# Evaluate the 1st instance to meet the requirements:\n",
    "\t# does city #1 have at least min_population and\n",
    "\t# is its elevation the highest evaluated so far?\n",
    "\tif city1.population > min_population:\n",
    "\t\treturn_city = city1\n",
    "\t\treturn return_city.name, return_city.country\n",
    "\t# Evaluate the 2nd instance to meet the requirements:\n",
    "\t# does city #2 have at least min_population and\n",
    "\t# is its elevation the highest evaluated so far?\n",
    "\tif city2.population > min_population:\n",
    "\t\treturn_city = city2\n",
    "\t\treturn return_city.name, return_city.country\n",
    "\t# Evaluate the 3rd instance to meet the requirements:\n",
    "\t# does city #3 have at least min_population and\n",
    "\t# is its elevation the highest evaluated so far?\n",
    "\tif city3.population > min_population:\n",
    "\t\treturn_city = city3\n",
    "\t\treturn return_city.name, return_city.country\n",
    "        \n",
    "    #Format the return string\n",
    "\tif return_city.name:\n",
    "\t\treturn return_city.name, return_city.country\n",
    "\telse:\n",
    "\t\treturn \"\"\n",
    "\n",
    "print(max_elevation_city(100000)) # Should print \"Cusco, Peru\"\n",
    "print(max_elevation_city(1000000)) # Should print \"Sofia, Bulgaria\"\n",
    "print(max_elevation_city(10000000)) # Should print \"\""
   ]
  },
  {
   "cell_type": "markdown",
   "id": "fb8b09f8",
   "metadata": {
    "papermill": {
     "duration": 0.052073,
     "end_time": "2022-09-13T10:02:11.282544",
     "exception": false,
     "start_time": "2022-09-13T10:02:11.230471",
     "status": "completed"
    },
    "tags": []
   },
   "source": [
    "`Short code to question 3`"
   ]
  },
  {
   "cell_type": "code",
   "execution_count": 79,
   "id": "78b04a40",
   "metadata": {
    "execution": {
     "iopub.execute_input": "2022-09-13T10:02:11.386944Z",
     "iopub.status.busy": "2022-09-13T10:02:11.386094Z",
     "iopub.status.idle": "2022-09-13T10:02:11.397560Z",
     "shell.execute_reply": "2022-09-13T10:02:11.396103Z"
    },
    "papermill": {
     "duration": 0.066172,
     "end_time": "2022-09-13T10:02:11.399947",
     "exception": false,
     "start_time": "2022-09-13T10:02:11.333775",
     "status": "completed"
    },
    "tags": []
   },
   "outputs": [
    {
     "name": "stdout",
     "output_type": "stream",
     "text": [
      "('Cusco', 'Peru')\n",
      "('Sofia', 'Bulgaria')\n",
      "\n"
     ]
    }
   ],
   "source": [
    "# define a basic city class\n",
    "class City:\n",
    "\tname = \"\"\n",
    "\tcountry = \"\"\n",
    "\televation = 0 \n",
    "\tpopulation = 0\n",
    "\n",
    "# create a new instance of the City class and\n",
    "# define each attribute\n",
    "city1 = City()\n",
    "city1.name = \"Cusco\"\n",
    "city1.country = \"Peru\"\n",
    "city1.elevation = 3399\n",
    "city1.population = 358052\n",
    "\n",
    "# create a new instance of the City class and\n",
    "# define each attribute\n",
    "city2 = City()\n",
    "city2.name = \"Sofia\"\n",
    "city2.country = \"Bulgaria\"\n",
    "city2.elevation = 2290\n",
    "city2.population = 1241675\n",
    "\n",
    "# create a new instance of the City class and\n",
    "# define each attribute\n",
    "city3 = City()\n",
    "city3.name = \"Seoul\"\n",
    "city3.country = \"South Korea\"\n",
    "city3.elevation = 38\n",
    "city3.population = 9733509\n",
    "\n",
    "def max_elevation_city(min_population):\n",
    "    # Initialize the variable that will hold \n",
    "    # the information of the city with \n",
    "    # the highest elevation \n",
    "    if city1.population > min_population:\n",
    "       City = city1.name, city1.country\n",
    "    elif city2.population > min_population:\n",
    "        City = city2.name, city2.country\n",
    "    elif city3.population > min_population:\n",
    "        City = city3.name, city3.country\n",
    "    else:\n",
    "        return \"\"\n",
    "    return City\n",
    "\n",
    "print(max_elevation_city(100000)) # Should print \"Cusco, Peru\"\n",
    "print(max_elevation_city(1000000)) # Should print \"Sofia, Bulgaria\"\n",
    "print(max_elevation_city(10000000)) # Should print \"\""
   ]
  },
  {
   "cell_type": "markdown",
   "id": "7c5d786d",
   "metadata": {
    "papermill": {
     "duration": 0.050315,
     "end_time": "2022-09-13T10:02:11.501719",
     "exception": false,
     "start_time": "2022-09-13T10:02:11.451404",
     "status": "completed"
    },
    "tags": []
   },
   "source": [
    "Question 4:\n",
    "What makes an object different from a class? <br>\n",
    "`Answer:` B"
   ]
  },
  {
   "cell_type": "markdown",
   "id": "a7a24f06",
   "metadata": {
    "papermill": {
     "duration": 0.050512,
     "end_time": "2022-09-13T10:02:11.603081",
     "exception": false,
     "start_time": "2022-09-13T10:02:11.552569",
     "status": "completed"
    },
    "tags": []
   },
   "source": [
    "Question 5: \n",
    "We have two pieces of furniture: a brown wood table and a red leather couch. Fill in the blanks following the creation of each Furniture class instance, so that the describe_furniture function can format a sentence that describes these pieces as follows: \"This piece of furniture is made of {color} {material}\""
   ]
  },
  {
   "cell_type": "code",
   "execution_count": 80,
   "id": "0c966cd0",
   "metadata": {
    "execution": {
     "iopub.execute_input": "2022-09-13T10:02:11.709655Z",
     "iopub.status.busy": "2022-09-13T10:02:11.709242Z",
     "iopub.status.idle": "2022-09-13T10:02:11.722508Z",
     "shell.execute_reply": "2022-09-13T10:02:11.720916Z"
    },
    "papermill": {
     "duration": 0.070417,
     "end_time": "2022-09-13T10:02:11.724963",
     "exception": false,
     "start_time": "2022-09-13T10:02:11.654546",
     "status": "completed"
    },
    "tags": []
   },
   "outputs": [
    {
     "name": "stdout",
     "output_type": "stream",
     "text": [
      "Cusco, Peru\n",
      "Sofia, Bulgaria\n",
      "\n"
     ]
    }
   ],
   "source": [
    "# define a basic city class\n",
    "class City:\n",
    "\tname = \"\"\n",
    "\tcountry = \"\"\n",
    "\televation = 0 \n",
    "\tpopulation = 0\n",
    "\n",
    "# create a new instance of the City class and\n",
    "# define each attribute\n",
    "city1 = City()\n",
    "city1.name = \"Cusco\"\n",
    "city1.country = \"Peru\"\n",
    "city1.elevation = 3399\n",
    "city1.population = 358052\n",
    "\n",
    "# create a new instance of the City class and\n",
    "# define each attribute\n",
    "city2 = City()\n",
    "city2.name = \"Sofia\"\n",
    "city2.country = \"Bulgaria\"\n",
    "city2.elevation = 2290\n",
    "city2.population = 1241675\n",
    "\n",
    "# create a new instance of the City class and\n",
    "# define each attribute\n",
    "city3 = City()\n",
    "city3.name = \"Seoul\"\n",
    "city3.country = \"South Korea\"\n",
    "city3.elevation = 38\n",
    "city3.population = 9733509\n",
    "\n",
    "def max_elevation_city(min_population):\n",
    "\t# Initialize the variable that will hold \n",
    "# the information of the city with \n",
    "# the highest elevation \n",
    "  highest_elevation=0\n",
    "  return_city =\"\"\n",
    "\n",
    "\t# Evaluate the 1st instance to meet the requirements:\n",
    "\t# does city #1 have at least min_population and\n",
    "\t# is its elevation the highest evaluated so far?\n",
    "  if (city1.population>min_population):\n",
    "      if(highest_elevation<city1.elevation):\n",
    "          highest_elevation=city1.elevation\n",
    "          return_city = (\"{}, {}\".format(city1.name,city1.country))\n",
    "\t# Evaluate the 2nd instance to meet the requirements:\n",
    "\t# does city #2 have at least min_population and\n",
    "\t# is its elevation the highest evaluated so far?\n",
    "  if(city2.population>min_population):\n",
    "      if (highest_elevation<city2.elevation):\n",
    "          highest_elevation=city2.elevation\n",
    "          return_city = (\"{}, {}\".format(city2.name,city2.country))\n",
    "\t# Evaluate the 3rd instance to meet the requirements:\n",
    "\t# does city #3 have at least min_population and\n",
    "\t# is its elevation the highest evaluated so far?\n",
    "  if(city3.population>min_population):\n",
    "      if (highest_elevation<city3.elevation):\n",
    "          highest_elevation=city3.elevation\n",
    "          return_city = (\"{}, {}\".format(city3.name,city3.country))\n",
    "\n",
    "\t#Format the return string\n",
    "  if return_city!=\"\":\n",
    "      return return_city\n",
    "  else:\n",
    "      return \"\"\n",
    "\n",
    "print(max_elevation_city(100000)) # Should print \"Cusco, Peru\"\n",
    "print(max_elevation_city(1000000)) # Should print \"Sofia, Bulgaria\"\n",
    "print(max_elevation_city(10000000)) # Should print \"\"\n"
   ]
  },
  {
   "cell_type": "markdown",
   "id": "1f7b68bc",
   "metadata": {
    "papermill": {
     "duration": 0.051058,
     "end_time": "2022-09-13T10:02:11.826806",
     "exception": false,
     "start_time": "2022-09-13T10:02:11.775748",
     "status": "completed"
    },
    "tags": []
   },
   "source": [
    "## Methods and Classes (Optional)"
   ]
  },
  {
   "cell_type": "markdown",
   "id": "c313659b",
   "metadata": {
    "papermill": {
     "duration": 0.101507,
     "end_time": "2022-09-13T10:02:11.979975",
     "exception": false,
     "start_time": "2022-09-13T10:02:11.878468",
     "status": "completed"
    },
    "tags": []
   },
   "source": [
    "The code below defines an *Elevator* class. The elevator has a current floor, it also has a top and a bottom floor that are the minimum and maximum floors it can go to. Fill in the blanks to make the elevator go through the floors requested."
   ]
  },
  {
   "cell_type": "code",
   "execution_count": 81,
   "id": "10ce0bee",
   "metadata": {
    "execution": {
     "iopub.execute_input": "2022-09-13T10:02:12.083759Z",
     "iopub.status.busy": "2022-09-13T10:02:12.083332Z",
     "iopub.status.idle": "2022-09-13T10:02:12.091674Z",
     "shell.execute_reply": "2022-09-13T10:02:12.090564Z"
    },
    "papermill": {
     "duration": 0.063051,
     "end_time": "2022-09-13T10:02:12.093881",
     "exception": false,
     "start_time": "2022-09-13T10:02:12.030830",
     "status": "completed"
    },
    "tags": []
   },
   "outputs": [],
   "source": [
    "class Elevator:\n",
    "    def __init__(self, bottom, top, current):\n",
    "        \"\"\"Initializes the Elevator instance.\"\"\"\n",
    "        self.bottom = bottom\n",
    "        self.top = top\n",
    "        self.current = current\n",
    "\n",
    "    def up(self):\n",
    "        \"\"\"Makes the elevator go up one floor.\"\"\"\n",
    "        if self.current < self.top:\n",
    "            self.current += 1\n",
    "    \n",
    "    def down(self):\n",
    "        \"\"\"Makes the elevator go down one floor.\"\"\"\n",
    "        if self.current > self.bottom:\n",
    "            self.current -= 1\n",
    "       \n",
    "    def go_to(self, floor):\n",
    "        \"\"\"Makes the elevator go to the specific floor.\"\"\"\n",
    "        if self.bottom <= floor <= self.top:\n",
    "            self.current = floor\n",
    "        else:\n",
    "            self.current =  print(f'''The elevator is currently at floor {self.current}\n",
    "The lowest floor is {self.bottom} and the top most floor is {self.top}''')\n",
    "\n",
    "    def __str__(self):\n",
    "        return f'Current floor: {self.current}'\n",
    "\n",
    "elevator = Elevator(-1, 10, 0)"
   ]
  },
  {
   "cell_type": "markdown",
   "id": "6cf0aca9",
   "metadata": {
    "papermill": {
     "duration": 0.050759,
     "end_time": "2022-09-13T10:02:12.195826",
     "exception": false,
     "start_time": "2022-09-13T10:02:12.145067",
     "status": "completed"
    },
    "tags": []
   },
   "source": [
    "\n",
    "This class is pretty empty and doesn't do much.  To test whether your *Elevator* class is working correctly, run the code blocks below."
   ]
  },
  {
   "cell_type": "code",
   "execution_count": 82,
   "id": "1da87fed",
   "metadata": {
    "execution": {
     "iopub.execute_input": "2022-09-13T10:02:12.300075Z",
     "iopub.status.busy": "2022-09-13T10:02:12.299674Z",
     "iopub.status.idle": "2022-09-13T10:02:12.304731Z",
     "shell.execute_reply": "2022-09-13T10:02:12.303633Z"
    },
    "papermill": {
     "duration": 0.05974,
     "end_time": "2022-09-13T10:02:12.307025",
     "exception": false,
     "start_time": "2022-09-13T10:02:12.247285",
     "status": "completed"
    },
    "tags": []
   },
   "outputs": [],
   "source": [
    "elevator = Elevator(-1, 10, 10)"
   ]
  },
  {
   "cell_type": "code",
   "execution_count": 83,
   "id": "ac3fbebf",
   "metadata": {
    "execution": {
     "iopub.execute_input": "2022-09-13T10:02:12.411234Z",
     "iopub.status.busy": "2022-09-13T10:02:12.410798Z",
     "iopub.status.idle": "2022-09-13T10:02:12.417036Z",
     "shell.execute_reply": "2022-09-13T10:02:12.416243Z"
    },
    "papermill": {
     "duration": 0.060254,
     "end_time": "2022-09-13T10:02:12.418960",
     "exception": false,
     "start_time": "2022-09-13T10:02:12.358706",
     "status": "completed"
    },
    "tags": []
   },
   "outputs": [
    {
     "data": {
      "text/plain": [
       "10"
      ]
     },
     "execution_count": 83,
     "metadata": {},
     "output_type": "execute_result"
    }
   ],
   "source": [
    "elevator.up() \n",
    "elevator.current #should output 1"
   ]
  },
  {
   "cell_type": "code",
   "execution_count": 84,
   "id": "9b92b470",
   "metadata": {
    "execution": {
     "iopub.execute_input": "2022-09-13T10:02:12.522969Z",
     "iopub.status.busy": "2022-09-13T10:02:12.521823Z",
     "iopub.status.idle": "2022-09-13T10:02:12.528808Z",
     "shell.execute_reply": "2022-09-13T10:02:12.527760Z"
    },
    "papermill": {
     "duration": 0.061534,
     "end_time": "2022-09-13T10:02:12.530971",
     "exception": false,
     "start_time": "2022-09-13T10:02:12.469437",
     "status": "completed"
    },
    "tags": []
   },
   "outputs": [
    {
     "data": {
      "text/plain": [
       "9"
      ]
     },
     "execution_count": 84,
     "metadata": {},
     "output_type": "execute_result"
    }
   ],
   "source": [
    "elevator.down() \n",
    "elevator.current #should output 0"
   ]
  },
  {
   "cell_type": "code",
   "execution_count": 85,
   "id": "f520ac9a",
   "metadata": {
    "execution": {
     "iopub.execute_input": "2022-09-13T10:02:12.634754Z",
     "iopub.status.busy": "2022-09-13T10:02:12.634361Z",
     "iopub.status.idle": "2022-09-13T10:02:12.640647Z",
     "shell.execute_reply": "2022-09-13T10:02:12.639802Z"
    },
    "papermill": {
     "duration": 0.06045,
     "end_time": "2022-09-13T10:02:12.642566",
     "exception": false,
     "start_time": "2022-09-13T10:02:12.582116",
     "status": "completed"
    },
    "tags": []
   },
   "outputs": [
    {
     "data": {
      "text/plain": [
       "5"
      ]
     },
     "execution_count": 85,
     "metadata": {},
     "output_type": "execute_result"
    }
   ],
   "source": [
    "elevator.go_to(5) \n",
    "elevator.current #should output 10"
   ]
  },
  {
   "cell_type": "markdown",
   "id": "e9c733ef",
   "metadata": {
    "papermill": {
     "duration": 0.051311,
     "end_time": "2022-09-13T10:02:12.745274",
     "exception": false,
     "start_time": "2022-09-13T10:02:12.693963",
     "status": "completed"
    },
    "tags": []
   },
   "source": [
    "If you get a **<font color =red>NameError</font>** message, be sure to run the *Elevator* class definition code block first. If you get an **<font color =red>AttributeError</font>** message, be sure to initialize *self.current* in your *Elevator* class."
   ]
  },
  {
   "cell_type": "markdown",
   "id": "a5be3677",
   "metadata": {
    "papermill": {
     "duration": 0.051101,
     "end_time": "2022-09-13T10:02:12.847631",
     "exception": false,
     "start_time": "2022-09-13T10:02:12.796530",
     "status": "completed"
    },
    "tags": []
   },
   "source": [
    "Once you've made the above methods output 1, 0 and 10, you've successfully coded the *Elevator* class and its methods. Great work!\n",
    "<br><br>\n",
    "For the up and down methods, did you take into account the top and bottom floors? Keep in mind that the elevator shouldn't go above the top floor or below the bottom floor. To check that out, try the code below and verify if it's working as expected. If it's not, then go back and modify the methods so that this code behaves correctly."
   ]
  },
  {
   "cell_type": "code",
   "execution_count": 86,
   "id": "6d378961",
   "metadata": {
    "execution": {
     "iopub.execute_input": "2022-09-13T10:02:12.954682Z",
     "iopub.status.busy": "2022-09-13T10:02:12.953907Z",
     "iopub.status.idle": "2022-09-13T10:02:12.960574Z",
     "shell.execute_reply": "2022-09-13T10:02:12.959708Z"
    },
    "papermill": {
     "duration": 0.063852,
     "end_time": "2022-09-13T10:02:12.963289",
     "exception": false,
     "start_time": "2022-09-13T10:02:12.899437",
     "status": "completed"
    },
    "tags": []
   },
   "outputs": [
    {
     "name": "stdout",
     "output_type": "stream",
     "text": [
      "9\n",
      "1\n"
     ]
    }
   ],
   "source": [
    "# Go to the top floor. Try to go up, it should stay. Then go down.\n",
    "elevator.go_to(10)\n",
    "elevator.up()\n",
    "elevator.down()\n",
    "print(elevator.current) # should be 9\n",
    "# Go to the bottom floor. Try to go down, it should stay. Then go up.\n",
    "elevator.go_to(-1)\n",
    "elevator.down()\n",
    "elevator.down()\n",
    "elevator.up()\n",
    "elevator.up()\n",
    "print(elevator.current) # should be 1"
   ]
  },
  {
   "cell_type": "markdown",
   "id": "efd16037",
   "metadata": {
    "papermill": {
     "duration": 0.050393,
     "end_time": "2022-09-13T10:02:13.066085",
     "exception": false,
     "start_time": "2022-09-13T10:02:13.015692",
     "status": "completed"
    },
    "tags": []
   },
   "source": [
    "Now add the __str__ method to your *Elevator* class definition above so that when printing the elevator using the **print( )** method, we get the current floor together with a message. For example, in the 5th floor it should say \"Current floor: 5\""
   ]
  },
  {
   "cell_type": "code",
   "execution_count": 87,
   "id": "88c4a27e",
   "metadata": {
    "execution": {
     "iopub.execute_input": "2022-09-13T10:02:13.170758Z",
     "iopub.status.busy": "2022-09-13T10:02:13.170344Z",
     "iopub.status.idle": "2022-09-13T10:02:13.175045Z",
     "shell.execute_reply": "2022-09-13T10:02:13.174253Z"
    },
    "papermill": {
     "duration": 0.060793,
     "end_time": "2022-09-13T10:02:13.178080",
     "exception": false,
     "start_time": "2022-09-13T10:02:13.117287",
     "status": "completed"
    },
    "tags": []
   },
   "outputs": [
    {
     "name": "stdout",
     "output_type": "stream",
     "text": [
      "Current floor: 5\n"
     ]
    }
   ],
   "source": [
    "elevator.go_to(5)\n",
    "print(elevator)"
   ]
  },
  {
   "cell_type": "markdown",
   "id": "7daee3eb",
   "metadata": {
    "papermill": {
     "duration": 0.051422,
     "end_time": "2022-09-13T10:02:13.282325",
     "exception": false,
     "start_time": "2022-09-13T10:02:13.230903",
     "status": "completed"
    },
    "tags": []
   },
   "source": [
    "Remember, Python uses the default method, that prints the position where the object is stored in the computer’s memory.  If your output is something like: <br>\n",
    "> <__main__.Elevator object at 0x7ff6a9ff3fd0>\n",
    "\n",
    "Then you will need to add the special __str__ method, which returns the string that you want to print.  Try again until you get the desired output, \"Current floor: 5\"."
   ]
  },
  {
   "cell_type": "markdown",
   "id": "d33f1b8b",
   "metadata": {
    "papermill": {
     "duration": 0.051125,
     "end_time": "2022-09-13T10:02:13.384547",
     "exception": false,
     "start_time": "2022-09-13T10:02:13.333422",
     "status": "completed"
    },
    "tags": []
   },
   "source": [
    "Once you have successfully produced the desired output, you are all done with this practice notebook. Awesome!"
   ]
  },
  {
   "cell_type": "markdown",
   "id": "a0cb4e5b",
   "metadata": {
    "papermill": {
     "duration": 0.050747,
     "end_time": "2022-09-13T10:02:13.486243",
     "exception": false,
     "start_time": "2022-09-13T10:02:13.435496",
     "status": "completed"
    },
    "tags": []
   },
   "source": [
    "# Code Reuse"
   ]
  },
  {
   "cell_type": "markdown",
   "id": "ec2dec7a",
   "metadata": {
    "papermill": {
     "duration": 0.050647,
     "end_time": "2022-09-13T10:02:13.588047",
     "exception": false,
     "start_time": "2022-09-13T10:02:13.537400",
     "status": "completed"
    },
    "tags": []
   },
   "source": [
    "Let’s put what we learned about code reuse all together. \n",
    "<br><br>\n",
    "First, let’s look back at **inheritance**. Run the following cell that defines a generic `Animal` class. "
   ]
  },
  {
   "cell_type": "code",
   "execution_count": 88,
   "id": "2ab45943",
   "metadata": {
    "execution": {
     "iopub.execute_input": "2022-09-13T10:02:13.692104Z",
     "iopub.status.busy": "2022-09-13T10:02:13.691704Z",
     "iopub.status.idle": "2022-09-13T10:02:13.696967Z",
     "shell.execute_reply": "2022-09-13T10:02:13.695982Z"
    },
    "papermill": {
     "duration": 0.060091,
     "end_time": "2022-09-13T10:02:13.698935",
     "exception": false,
     "start_time": "2022-09-13T10:02:13.638844",
     "status": "completed"
    },
    "tags": []
   },
   "outputs": [],
   "source": [
    "class Animal:\n",
    "    name = \"\"\n",
    "    category = \"\"\n",
    "    \n",
    "    def __init__(self, name):\n",
    "        self.name = name\n",
    "    \n",
    "    def set_category(self, category):\n",
    "        self.category = category"
   ]
  },
  {
   "cell_type": "markdown",
   "id": "bff02906",
   "metadata": {
    "papermill": {
     "duration": 0.051359,
     "end_time": "2022-09-13T10:02:13.801591",
     "exception": false,
     "start_time": "2022-09-13T10:02:13.750232",
     "status": "completed"
    },
    "tags": []
   },
   "source": [
    "What we have is not enough to do much -- yet. That’s where you come in. \n",
    "<br><br>\n",
    "In the next cell, define a `Turtle` class that inherits from the `Animal` class. Then go ahead and set its category. For instance, a turtle is generally considered a reptile. Although modern cladistics call this categorization into question, for purposes of this exercise we will say turtles are reptiles! "
   ]
  },
  {
   "cell_type": "code",
   "execution_count": 89,
   "id": "18502cc2",
   "metadata": {
    "execution": {
     "iopub.execute_input": "2022-09-13T10:02:13.906378Z",
     "iopub.status.busy": "2022-09-13T10:02:13.905947Z",
     "iopub.status.idle": "2022-09-13T10:02:13.910250Z",
     "shell.execute_reply": "2022-09-13T10:02:13.909453Z"
    },
    "papermill": {
     "duration": 0.059769,
     "end_time": "2022-09-13T10:02:13.912551",
     "exception": false,
     "start_time": "2022-09-13T10:02:13.852782",
     "status": "completed"
    },
    "tags": []
   },
   "outputs": [],
   "source": [
    "Turtle = Animal('Turtle')\n",
    "Turtle.set_category('reptile')"
   ]
  },
  {
   "cell_type": "markdown",
   "id": "4cd8141f",
   "metadata": {
    "papermill": {
     "duration": 0.065044,
     "end_time": "2022-09-13T10:02:14.040424",
     "exception": false,
     "start_time": "2022-09-13T10:02:13.975380",
     "status": "completed"
    },
    "tags": []
   },
   "source": [
    "Run the following cell to check whether you correctly defined your `Turtle` class and set its category to reptile."
   ]
  },
  {
   "cell_type": "code",
   "execution_count": 90,
   "id": "9a2140ca",
   "metadata": {
    "execution": {
     "iopub.execute_input": "2022-09-13T10:02:14.145446Z",
     "iopub.status.busy": "2022-09-13T10:02:14.144997Z",
     "iopub.status.idle": "2022-09-13T10:02:14.150017Z",
     "shell.execute_reply": "2022-09-13T10:02:14.149245Z"
    },
    "papermill": {
     "duration": 0.060115,
     "end_time": "2022-09-13T10:02:14.152660",
     "exception": false,
     "start_time": "2022-09-13T10:02:14.092545",
     "status": "completed"
    },
    "tags": []
   },
   "outputs": [
    {
     "name": "stdout",
     "output_type": "stream",
     "text": [
      "reptile\n"
     ]
    }
   ],
   "source": [
    "print(Turtle.category)"
   ]
  },
  {
   "cell_type": "markdown",
   "id": "d808c0d3",
   "metadata": {
    "papermill": {
     "duration": 0.051106,
     "end_time": "2022-09-13T10:02:14.255775",
     "exception": false,
     "start_time": "2022-09-13T10:02:14.204669",
     "status": "completed"
    },
    "tags": []
   },
   "source": [
    "Was the output of the above cell reptile? If not, go back and edit your `Turtle` class making sure that it inherits from the `Animal` class and its category is properly set to reptile. Be sure to re-run that cell once you've finished your edits. Did you get it? If so, great!"
   ]
  },
  {
   "cell_type": "markdown",
   "id": "f667f095",
   "metadata": {
    "papermill": {
     "duration": 0.051224,
     "end_time": "2022-09-13T10:02:14.358843",
     "exception": false,
     "start_time": "2022-09-13T10:02:14.307619",
     "status": "completed"
    },
    "tags": []
   },
   "source": [
    "Next, let’s practice **composition** a little bit. This one will require a second type of `Animal` that is in the same category as the first. For example, since you already created a `Turtle` class, go ahead and create a `Snake` class. Don’t forget that it also inherits from the `Animal` class and that its category should be set to reptile."
   ]
  },
  {
   "cell_type": "code",
   "execution_count": 91,
   "id": "5c28acac",
   "metadata": {
    "execution": {
     "iopub.execute_input": "2022-09-13T10:02:14.463781Z",
     "iopub.status.busy": "2022-09-13T10:02:14.463382Z",
     "iopub.status.idle": "2022-09-13T10:02:14.467154Z",
     "shell.execute_reply": "2022-09-13T10:02:14.466418Z"
    },
    "papermill": {
     "duration": 0.058492,
     "end_time": "2022-09-13T10:02:14.469100",
     "exception": false,
     "start_time": "2022-09-13T10:02:14.410608",
     "status": "completed"
    },
    "tags": []
   },
   "outputs": [],
   "source": [
    "Snake = Animal('snake')\n",
    "Snake.set_category('reptile')"
   ]
  },
  {
   "cell_type": "markdown",
   "id": "3beb3b02",
   "metadata": {
    "papermill": {
     "duration": 0.05039,
     "end_time": "2022-09-13T10:02:14.570360",
     "exception": false,
     "start_time": "2022-09-13T10:02:14.519970",
     "status": "completed"
    },
    "tags": []
   },
   "source": [
    "Now, let’s say we have a large variety of `Animal`s (such as turtles and snakes) in a Zoo. Below we have the `Zoo` class. We’re going to use it to organize our various `Animal`s. Remember, inheritance says a Turtle is an `Animal`, but a `Zoo` is not an `Animal` and an `Animal` is not a `Zoo` -- though they are related to one another. "
   ]
  },
  {
   "cell_type": "markdown",
   "id": "56a9fa66",
   "metadata": {
    "papermill": {
     "duration": 0.051265,
     "end_time": "2022-09-13T10:02:14.672833",
     "exception": false,
     "start_time": "2022-09-13T10:02:14.621568",
     "status": "completed"
    },
    "tags": []
   },
   "source": [
    "Fill in the blanks of the `Zoo` class below so that you can use **zoo.add_animal( )** to add instances of the `Animal` subclasses you created above. Once you’ve added them all, you should be able to use **zoo.total_of_category( )** to tell you exactly how many individual `Animal` types the `Zoo` has for each category! Be sure to run the cell once you've finished your edits."
   ]
  },
  {
   "cell_type": "code",
   "execution_count": 92,
   "id": "34a50ee0",
   "metadata": {
    "execution": {
     "iopub.execute_input": "2022-09-13T10:02:14.777115Z",
     "iopub.status.busy": "2022-09-13T10:02:14.776729Z",
     "iopub.status.idle": "2022-09-13T10:02:14.783065Z",
     "shell.execute_reply": "2022-09-13T10:02:14.782230Z"
    },
    "papermill": {
     "duration": 0.061036,
     "end_time": "2022-09-13T10:02:14.785130",
     "exception": false,
     "start_time": "2022-09-13T10:02:14.724094",
     "status": "completed"
    },
    "tags": []
   },
   "outputs": [],
   "source": [
    "class Zoo:\n",
    "    def __init__(self):\n",
    "        self.current_animals = {}\n",
    "    \n",
    "    def add_animal(self, animal):\n",
    "        self.current_animals[animal.name] = animal.category\n",
    "    \n",
    "    def total_of_category(self, category):\n",
    "        result = 0\n",
    "        for animal in self.current_animals.values():\n",
    "            if animal == category:\n",
    "                result += 1\n",
    "        return result\n",
    "\n",
    "zoo = Zoo()"
   ]
  },
  {
   "cell_type": "markdown",
   "id": "cb0392df",
   "metadata": {
    "papermill": {
     "duration": 0.051152,
     "end_time": "2022-09-13T10:02:14.888179",
     "exception": false,
     "start_time": "2022-09-13T10:02:14.837027",
     "status": "completed"
    },
    "tags": []
   },
   "source": [
    "Run the following cell to check whether you properly filled in the blanks of your `Zoo` class."
   ]
  },
  {
   "cell_type": "code",
   "execution_count": 93,
   "id": "c7c9311a",
   "metadata": {
    "execution": {
     "iopub.execute_input": "2022-09-13T10:02:14.994106Z",
     "iopub.status.busy": "2022-09-13T10:02:14.993690Z",
     "iopub.status.idle": "2022-09-13T10:02:15.000459Z",
     "shell.execute_reply": "2022-09-13T10:02:14.999288Z"
    },
    "papermill": {
     "duration": 0.062245,
     "end_time": "2022-09-13T10:02:15.002959",
     "exception": false,
     "start_time": "2022-09-13T10:02:14.940714",
     "status": "completed"
    },
    "tags": []
   },
   "outputs": [
    {
     "name": "stdout",
     "output_type": "stream",
     "text": [
      "2\n"
     ]
    }
   ],
   "source": [
    "turtle = Turtle#(\"Turtle\") #create an instance of the Turtle class\n",
    "snake = Snake#(\"Snake\") #create an instance of the Snake class\n",
    "zoo.add_animal(turtle)\n",
    "zoo.add_animal(snake)\n",
    "\n",
    "print(zoo.total_of_category(\"reptile\")) #how many zoo animal types in the reptile category"
   ]
  },
  {
   "cell_type": "markdown",
   "id": "73563331",
   "metadata": {
    "papermill": {
     "duration": 0.051508,
     "end_time": "2022-09-13T10:02:15.106461",
     "exception": false,
     "start_time": "2022-09-13T10:02:15.054953",
     "status": "completed"
    },
    "tags": []
   },
   "source": [
    "Was the output of the above cell 2? If not, go back and edit the `Zoo` class making sure to fill in the blanks with the appropriate attributes. Be sure to re-run that cell once you've finished your edits.  \n",
    "<br>\n",
    "Did you get it? If so, perfect! You have successfully defined your `Turtle` and `Snake` subclasses as well as your `Zoo` class.  You are all done with this notebook. Great work!"
   ]
  },
  {
   "cell_type": "markdown",
   "id": "d13e0728",
   "metadata": {
    "papermill": {
     "duration": 0.05145,
     "end_time": "2022-09-13T10:02:15.209744",
     "exception": false,
     "start_time": "2022-09-13T10:02:15.158294",
     "status": "completed"
    },
    "tags": []
   },
   "source": [
    "# Assessment - Object-oriented programming"
   ]
  },
  {
   "cell_type": "markdown",
   "id": "80fb62c9",
   "metadata": {
    "papermill": {
     "duration": 0.052882,
     "end_time": "2022-09-13T10:02:15.314484",
     "exception": false,
     "start_time": "2022-09-13T10:02:15.261602",
     "status": "completed"
    },
    "tags": []
   },
   "source": [
    "In this exercise, we'll create a few classes to simulate a server that's taking connections from the outside and then a load balancer that ensures that there are enough servers to serve those connections. \n",
    "<br><br>\n",
    "To represent the servers that are taking care of the connections, we'll use a Server class. Each connection is represented by an id, that could, for example, be the IP address of the computer connecting to the server.  For our simulation, each connection creates a random amount of load in the server, between 1 and 10.\n",
    "<br><br>\n",
    "Run the following code that defines this Server class."
   ]
  },
  {
   "cell_type": "code",
   "execution_count": 94,
   "id": "676b8183",
   "metadata": {
    "execution": {
     "iopub.execute_input": "2022-09-13T10:02:15.420369Z",
     "iopub.status.busy": "2022-09-13T10:02:15.419954Z",
     "iopub.status.idle": "2022-09-13T10:02:15.428309Z",
     "shell.execute_reply": "2022-09-13T10:02:15.427100Z"
    },
    "papermill": {
     "duration": 0.063961,
     "end_time": "2022-09-13T10:02:15.430497",
     "exception": false,
     "start_time": "2022-09-13T10:02:15.366536",
     "status": "completed"
    },
    "tags": []
   },
   "outputs": [],
   "source": [
    "#Begin Portion 1#\n",
    "import random\n",
    "\n",
    "class Server:\n",
    "    def __init__(self):\n",
    "        \"\"\"Creates a new server instance, with no active connections.\"\"\"\n",
    "        self.connections = {}\n",
    "\n",
    "    def add_connection(self, connection_id):\n",
    "        \"\"\"Adds a new connection to this server.\"\"\"\n",
    "        connection_load = random.random()*10+1\n",
    "        # Add the connection to the dictionary with the calculated load\n",
    "        self.connections[connection_id] = connection_load\n",
    "\n",
    "    def close_connection(self, connection_id):\n",
    "        \"\"\"Closes a connection on this server.\"\"\"\n",
    "        # Remove the connection from the dictionary\n",
    "        self.connections.pop(connection_id)\n",
    "\n",
    "    def load(self):\n",
    "        \"\"\"Calculates the current load for all connections.\"\"\"\n",
    "        total = 0\n",
    "        # Add up the load for each of the connections\n",
    "        for load in self.connections.values():\n",
    "            total += load\n",
    "        return total\n",
    "\n",
    "    def __str__(self):\n",
    "        \"\"\"Returns a string with the current load of the server\"\"\"\n",
    "        return \"{:.2f}%\".format(self.load())\n",
    "    \n",
    "#End Portion 1#"
   ]
  },
  {
   "cell_type": "markdown",
   "id": "fd669702",
   "metadata": {
    "papermill": {
     "duration": 0.051301,
     "end_time": "2022-09-13T10:02:15.533352",
     "exception": false,
     "start_time": "2022-09-13T10:02:15.482051",
     "status": "completed"
    },
    "tags": []
   },
   "source": [
    "Now run the following cell to create a Server instance and add a connection to it, then check the load:"
   ]
  },
  {
   "cell_type": "code",
   "execution_count": 95,
   "id": "83b8aaba",
   "metadata": {
    "execution": {
     "iopub.execute_input": "2022-09-13T10:02:15.638276Z",
     "iopub.status.busy": "2022-09-13T10:02:15.637502Z",
     "iopub.status.idle": "2022-09-13T10:02:15.644573Z",
     "shell.execute_reply": "2022-09-13T10:02:15.642943Z"
    },
    "papermill": {
     "duration": 0.062293,
     "end_time": "2022-09-13T10:02:15.646793",
     "exception": false,
     "start_time": "2022-09-13T10:02:15.584500",
     "status": "completed"
    },
    "tags": []
   },
   "outputs": [
    {
     "name": "stdout",
     "output_type": "stream",
     "text": [
      "5.872921783918336\n"
     ]
    }
   ],
   "source": [
    "server = Server()\n",
    "server.add_connection(\"192.168.1.1\")\n",
    "\n",
    "print(server.load())\n",
    "\n"
   ]
  },
  {
   "cell_type": "markdown",
   "id": "ef671d59",
   "metadata": {
    "papermill": {
     "duration": 0.051131,
     "end_time": "2022-09-13T10:02:15.749650",
     "exception": false,
     "start_time": "2022-09-13T10:02:15.698519",
     "status": "completed"
    },
    "tags": []
   },
   "source": [
    "After running the above code cell, if you get a **<font color =red>NameError</font>** message, be sure to run the Server class definition code block first.\n",
    "\n",
    "The output should be 0.  This is because some things are missing from the Server class. So, you'll need to go back and fill in the blanks to make it behave properly. \n",
    "<br><br>\n",
    "Go back to the Server class definition and fill in the missing parts for the `add_connection` and `load` methods to make the cell above print a number different than zero.  As the load is calculated randomly, this number should be different each time the code is executed.\n",
    "<br><br>\n",
    "**Hint:** Recall that you can iterate through the values of your connections dictionary just as you would any sequence."
   ]
  },
  {
   "cell_type": "markdown",
   "id": "e1dcb0f2",
   "metadata": {
    "papermill": {
     "duration": 0.052283,
     "end_time": "2022-09-13T10:02:15.853814",
     "exception": false,
     "start_time": "2022-09-13T10:02:15.801531",
     "status": "completed"
    },
    "tags": []
   },
   "source": [
    "Great! If your output is a random number between 1 and 10, you have successfully coded the `add_connection` and `load` methods of the Server class.  Well done!\n",
    "<br><br>\n",
    "What about closing a connection? Right now the `close_connection` method doesn't do anything. Go back to the Server class definition and fill in the missing code for the `close_connection` method to make the following code work correctly:"
   ]
  },
  {
   "cell_type": "code",
   "execution_count": 96,
   "id": "84afe33f",
   "metadata": {
    "execution": {
     "iopub.execute_input": "2022-09-13T10:02:15.960585Z",
     "iopub.status.busy": "2022-09-13T10:02:15.959771Z",
     "iopub.status.idle": "2022-09-13T10:02:15.965031Z",
     "shell.execute_reply": "2022-09-13T10:02:15.964061Z"
    },
    "papermill": {
     "duration": 0.061605,
     "end_time": "2022-09-13T10:02:15.967149",
     "exception": false,
     "start_time": "2022-09-13T10:02:15.905544",
     "status": "completed"
    },
    "scrolled": true,
    "tags": []
   },
   "outputs": [
    {
     "name": "stdout",
     "output_type": "stream",
     "text": [
      "0\n"
     ]
    }
   ],
   "source": [
    "server.close_connection(\"192.168.1.1\")\n",
    "print(server.load())\n"
   ]
  },
  {
   "cell_type": "markdown",
   "id": "b4b5ffc6",
   "metadata": {
    "papermill": {
     "duration": 0.051449,
     "end_time": "2022-09-13T10:02:16.071268",
     "exception": false,
     "start_time": "2022-09-13T10:02:16.019819",
     "status": "completed"
    },
    "tags": []
   },
   "source": [
    "You have successfully coded the `close_connection` method if the cell above prints 0.\n",
    "<br><br>\n",
    "**Hint:** Remember that `del` dictionary[key] removes the item with key *key* from the dictionary."
   ]
  },
  {
   "cell_type": "markdown",
   "id": "e46432dc",
   "metadata": {
    "papermill": {
     "duration": 0.051019,
     "end_time": "2022-09-13T10:02:16.175051",
     "exception": false,
     "start_time": "2022-09-13T10:02:16.124032",
     "status": "completed"
    },
    "tags": []
   },
   "source": [
    "Alright, we now have a basic implementation of the server class. Let's look at the basic LoadBalancing class. This class will start with only one server available. When a connection gets added, it will randomly select a server to serve that connection, and then pass on the connection to the server. The LoadBalancing class also needs to keep track of the ongoing connections to be able to close them. This is the basic structure:"
   ]
  },
  {
   "cell_type": "code",
   "execution_count": 97,
   "id": "1b8a6f48",
   "metadata": {
    "execution": {
     "iopub.execute_input": "2022-09-13T10:02:16.279389Z",
     "iopub.status.busy": "2022-09-13T10:02:16.278954Z",
     "iopub.status.idle": "2022-09-13T10:02:16.289243Z",
     "shell.execute_reply": "2022-09-13T10:02:16.288123Z"
    },
    "papermill": {
     "duration": 0.065142,
     "end_time": "2022-09-13T10:02:16.291540",
     "exception": false,
     "start_time": "2022-09-13T10:02:16.226398",
     "status": "completed"
    },
    "tags": []
   },
   "outputs": [],
   "source": [
    "#Begin Portion 2#\n",
    "class LoadBalancing:\n",
    "    def __init__(self):\n",
    "        \"\"\"Initialize the load balancing system with one server\"\"\"\n",
    "        self.connections = {}\n",
    "        self.servers = [Server()]\n",
    "\n",
    "    def add_connection(self, connection_id):\n",
    "        \"\"\"Randomly selects a server and adds a connection to it.\"\"\"\n",
    "        server = random.choice(self.servers)\n",
    "        # Add the connection to the dictionary with the selected server\n",
    "        # Add the connection to the server\n",
    "        server.add_connection(connection_id)\n",
    "        self.ensure_availability()\n",
    "        \n",
    "    def close_connection(self, connection_id):\n",
    "        \"\"\"Closes the connection on the the server corresponding to connection_id.\"\"\"\n",
    "        # Find out the right server\n",
    "        # Close the connection on the server\n",
    "        # Remove the connection from the load balancer\n",
    "        for server in self.servers:\n",
    "            if connection_id in server.connections:\n",
    "                server.close_connection(connection_id)\n",
    "                break\n",
    "\n",
    "    def avg_load(self):\n",
    "        \"\"\"Calculates the average load of all servers\"\"\"\n",
    "        # Sum the load of each server and divide by the amount of servers\n",
    "        total_load = 0\n",
    "        total_server = 0\n",
    "        for server in self.servers:\n",
    "            total_load += server.load()\n",
    "            total_server += 1\n",
    "        return total_load/total_server\n",
    "\n",
    "    def ensure_availability(self):\n",
    "        \"\"\"If the average load is higher than 50, spin up a new server\"\"\"\n",
    "        if self.avg_load() > 50:\n",
    "            self.servers.append(Server())\n",
    "\n",
    "    def __str__(self):\n",
    "        \"\"\"Returns a string with the load for each server.\"\"\"\n",
    "        loads = [str(server) for server in self.servers]\n",
    "        return \"[{}]\".format(\",\".join(loads))\n",
    "#End Portion 2#"
   ]
  },
  {
   "cell_type": "markdown",
   "id": "f7031e64",
   "metadata": {
    "papermill": {
     "duration": 0.051251,
     "end_time": "2022-09-13T10:02:16.396181",
     "exception": false,
     "start_time": "2022-09-13T10:02:16.344930",
     "status": "completed"
    },
    "tags": []
   },
   "source": [
    "As with the Server class, this class is currently incomplete. You need to fill in the gaps to make it work correctly. For example, this snippet should create a connection in the load balancer, assign it to a running server and then the load should be more than zero:"
   ]
  },
  {
   "cell_type": "code",
   "execution_count": 98,
   "id": "8195cace",
   "metadata": {
    "execution": {
     "iopub.execute_input": "2022-09-13T10:02:16.500968Z",
     "iopub.status.busy": "2022-09-13T10:02:16.500565Z",
     "iopub.status.idle": "2022-09-13T10:02:16.506692Z",
     "shell.execute_reply": "2022-09-13T10:02:16.505551Z"
    },
    "papermill": {
     "duration": 0.061506,
     "end_time": "2022-09-13T10:02:16.509331",
     "exception": false,
     "start_time": "2022-09-13T10:02:16.447825",
     "status": "completed"
    },
    "tags": []
   },
   "outputs": [
    {
     "name": "stdout",
     "output_type": "stream",
     "text": [
      "10.042117703219509\n"
     ]
    }
   ],
   "source": [
    "l = LoadBalancing()\n",
    "l.add_connection(\"fdca:83d2::f20d\")\n",
    "print(l.avg_load())\n"
   ]
  },
  {
   "cell_type": "markdown",
   "id": "11e0ad53",
   "metadata": {
    "papermill": {
     "duration": 0.051633,
     "end_time": "2022-09-13T10:02:16.612438",
     "exception": false,
     "start_time": "2022-09-13T10:02:16.560805",
     "status": "completed"
    },
    "tags": []
   },
   "source": [
    "After running the above code, the output is 0.  Fill in the missing parts for the `add_connection` and `avg_load` methods of the LoadBalancing class to make this print the right load. Be sure that the load balancer now has an average load more than 0 before proceeding."
   ]
  },
  {
   "cell_type": "markdown",
   "id": "4d2f3a80",
   "metadata": {
    "papermill": {
     "duration": 0.053429,
     "end_time": "2022-09-13T10:02:16.717367",
     "exception": false,
     "start_time": "2022-09-13T10:02:16.663938",
     "status": "completed"
    },
    "tags": []
   },
   "source": [
    "What if we add a new server?"
   ]
  },
  {
   "cell_type": "code",
   "execution_count": 99,
   "id": "d23dd893",
   "metadata": {
    "execution": {
     "iopub.execute_input": "2022-09-13T10:02:16.824139Z",
     "iopub.status.busy": "2022-09-13T10:02:16.823724Z",
     "iopub.status.idle": "2022-09-13T10:02:16.829817Z",
     "shell.execute_reply": "2022-09-13T10:02:16.828698Z"
    },
    "papermill": {
     "duration": 0.062381,
     "end_time": "2022-09-13T10:02:16.832412",
     "exception": false,
     "start_time": "2022-09-13T10:02:16.770031",
     "status": "completed"
    },
    "tags": []
   },
   "outputs": [
    {
     "name": "stdout",
     "output_type": "stream",
     "text": [
      "5.021058851609754\n"
     ]
    }
   ],
   "source": [
    "l.servers.append(Server())\n",
    "print(l.avg_load())\n"
   ]
  },
  {
   "cell_type": "markdown",
   "id": "99e5c852",
   "metadata": {
    "papermill": {
     "duration": 0.051538,
     "end_time": "2022-09-13T10:02:16.937855",
     "exception": false,
     "start_time": "2022-09-13T10:02:16.886317",
     "status": "completed"
    },
    "tags": []
   },
   "source": [
    "The average load should now be half of what it was before. If it's not, make sure you correctly fill in the missing gaps for the `add_connection` and `avg_load` methods so that this code works correctly. \n",
    "<br><br>\n",
    "**Hint:** You can iterate through the all servers in the *self.servers* list to get the total server load amount and then divide by the length of the *self.servers* list to compute the average load amount."
   ]
  },
  {
   "cell_type": "markdown",
   "id": "51600a8a",
   "metadata": {
    "papermill": {
     "duration": 0.052281,
     "end_time": "2022-09-13T10:02:17.042464",
     "exception": false,
     "start_time": "2022-09-13T10:02:16.990183",
     "status": "completed"
    },
    "tags": []
   },
   "source": [
    "Fantastic! Now what about closing the connection?"
   ]
  },
  {
   "cell_type": "code",
   "execution_count": 100,
   "id": "aa7e079c",
   "metadata": {
    "execution": {
     "iopub.execute_input": "2022-09-13T10:02:17.148773Z",
     "iopub.status.busy": "2022-09-13T10:02:17.148387Z",
     "iopub.status.idle": "2022-09-13T10:02:17.154400Z",
     "shell.execute_reply": "2022-09-13T10:02:17.153192Z"
    },
    "papermill": {
     "duration": 0.062327,
     "end_time": "2022-09-13T10:02:17.156814",
     "exception": false,
     "start_time": "2022-09-13T10:02:17.094487",
     "status": "completed"
    },
    "tags": []
   },
   "outputs": [
    {
     "name": "stdout",
     "output_type": "stream",
     "text": [
      "0.0\n"
     ]
    }
   ],
   "source": [
    "l.close_connection(\"fdca:83d2::f20d\")\n",
    "print(l.avg_load())\n"
   ]
  },
  {
   "cell_type": "markdown",
   "id": "b6c372bd",
   "metadata": {
    "papermill": {
     "duration": 0.051966,
     "end_time": "2022-09-13T10:02:17.261126",
     "exception": false,
     "start_time": "2022-09-13T10:02:17.209160",
     "status": "completed"
    },
    "tags": []
   },
   "source": [
    "Fill in the code of the LoadBalancing class to make the load go back to zero once the connection is closed.\n",
    "<br><br>\n",
    "Great job! Before, we added a server manually. But we want this to happen automatically when the average load is more than 50%. To make this possible, fill in the missing code for the `ensure_availability` method and call it from the `add_connection` method after a connection has been added. You can test it with the following code:"
   ]
  },
  {
   "cell_type": "code",
   "execution_count": 101,
   "id": "b8418f5c",
   "metadata": {
    "execution": {
     "iopub.execute_input": "2022-09-13T10:02:17.368553Z",
     "iopub.status.busy": "2022-09-13T10:02:17.367237Z",
     "iopub.status.idle": "2022-09-13T10:02:17.373709Z",
     "shell.execute_reply": "2022-09-13T10:02:17.372543Z"
    },
    "papermill": {
     "duration": 0.06275,
     "end_time": "2022-09-13T10:02:17.376009",
     "exception": false,
     "start_time": "2022-09-13T10:02:17.313259",
     "status": "completed"
    },
    "tags": []
   },
   "outputs": [
    {
     "name": "stdout",
     "output_type": "stream",
     "text": [
      "[49.76%,64.81%,8.64%]\n"
     ]
    }
   ],
   "source": [
    "for connection in range(20):\n",
    "    l.add_connection(connection)\n",
    "print(l)\n"
   ]
  },
  {
   "cell_type": "markdown",
   "id": "5ca84fef",
   "metadata": {
    "papermill": {
     "duration": 0.05216,
     "end_time": "2022-09-13T10:02:17.481445",
     "exception": false,
     "start_time": "2022-09-13T10:02:17.429285",
     "status": "completed"
    },
    "tags": []
   },
   "source": [
    "The code above adds 20 new connections and then prints the loads for each server in the load balancer.  If you coded correctly, new servers should have been added automatically to ensure that the average load of all servers is not more than 50%.\n",
    "<br><br>\n",
    "Run the following code to verify that the average load of the load balancer is not more than 50%."
   ]
  },
  {
   "cell_type": "code",
   "execution_count": 102,
   "id": "99461b7d",
   "metadata": {
    "execution": {
     "iopub.execute_input": "2022-09-13T10:02:17.587628Z",
     "iopub.status.busy": "2022-09-13T10:02:17.587181Z",
     "iopub.status.idle": "2022-09-13T10:02:17.592374Z",
     "shell.execute_reply": "2022-09-13T10:02:17.591250Z"
    },
    "papermill": {
     "duration": 0.061208,
     "end_time": "2022-09-13T10:02:17.594567",
     "exception": false,
     "start_time": "2022-09-13T10:02:17.533359",
     "status": "completed"
    },
    "tags": []
   },
   "outputs": [
    {
     "name": "stdout",
     "output_type": "stream",
     "text": [
      "41.07224412489027\n"
     ]
    }
   ],
   "source": [
    "print(l.avg_load())\n",
    "\n",
    "\n"
   ]
  },
  {
   "cell_type": "markdown",
   "id": "1a5cb959",
   "metadata": {
    "papermill": {
     "duration": 0.103248,
     "end_time": "2022-09-13T10:02:17.749687",
     "exception": false,
     "start_time": "2022-09-13T10:02:17.646439",
     "status": "completed"
    },
    "tags": []
   },
   "source": [
    "Awesome! If the average load is indeed less than 50%, you are all done with this assessment."
   ]
  },
  {
   "cell_type": "markdown",
   "id": "13205982",
   "metadata": {
    "papermill": {
     "duration": 0.052067,
     "end_time": "2022-09-13T10:02:17.859513",
     "exception": false,
     "start_time": "2022-09-13T10:02:17.807446",
     "status": "completed"
    },
    "tags": []
   },
   "source": [
    "<h1 align= \"center\">WEEK SIX<h1>"
   ]
  },
  {
   "cell_type": "markdown",
   "id": "8d6b5780",
   "metadata": {
    "papermill": {
     "duration": 0.052636,
     "end_time": "2022-09-13T10:02:17.963390",
     "exception": false,
     "start_time": "2022-09-13T10:02:17.910754",
     "status": "completed"
    },
    "tags": []
   },
   "source": [
    "# Final Project - Word Cloud"
   ]
  },
  {
   "cell_type": "markdown",
   "id": "2e171e1c",
   "metadata": {
    "papermill": {
     "duration": 0.051405,
     "end_time": "2022-09-13T10:02:18.066142",
     "exception": false,
     "start_time": "2022-09-13T10:02:18.014737",
     "status": "completed"
    },
    "tags": []
   },
   "source": [
    "For this project, you'll create a \"word cloud\" from a text by writing a script.  This script needs to process the text, remove punctuation, ignore case and words that do not contain all alphabets, count the frequencies, and ignore uninteresting or irrelevant words.  A dictionary is the output of the `calculate_frequencies` function.  The `wordcloud` module will then generate the image from your dictionary."
   ]
  },
  {
   "cell_type": "markdown",
   "id": "723766c8",
   "metadata": {
    "papermill": {
     "duration": 0.051509,
     "end_time": "2022-09-13T10:02:18.169966",
     "exception": false,
     "start_time": "2022-09-13T10:02:18.118457",
     "status": "completed"
    },
    "tags": []
   },
   "source": [
    "For the input text of your script, you will need to provide a file that contains text only.  For the text itself, you can copy and paste the contents of a website you like.  Or you can use a site like [Project Gutenberg](https://www.gutenberg.org/) to find books that are available online.  You could see what word clouds you can get from famous books, like a Shakespeare play or a novel by Jane Austen. Save this as a .txt file somewhere on your computer.\n",
    "<br><br>\n",
    "Now you will need to upload your input file here so that your script will be able to process it.  To do the upload, you will need an uploader widget.  Run the following cell to perform all the installs and imports for your word cloud script and uploader widget.  It may take a minute for all of this to run and there will be a lot of output messages. But, be patient. Once you get the following final line of output, the code is done executing. Then you can continue on with the rest of the instructions for this notebook.\n",
    "<br><br>\n",
    "**Enabling notebook extension fileupload/extension...**\n",
    "<br>\n",
    "**- Validating: <font color =green>OK</font>**"
   ]
  },
  {
   "cell_type": "code",
   "execution_count": 103,
   "id": "ed77c4fc",
   "metadata": {
    "execution": {
     "iopub.execute_input": "2022-09-13T10:02:18.275442Z",
     "iopub.status.busy": "2022-09-13T10:02:18.275034Z",
     "iopub.status.idle": "2022-09-13T10:02:18.283160Z",
     "shell.execute_reply": "2022-09-13T10:02:18.281686Z"
    },
    "papermill": {
     "duration": 0.063326,
     "end_time": "2022-09-13T10:02:18.285417",
     "exception": false,
     "start_time": "2022-09-13T10:02:18.222091",
     "status": "completed"
    },
    "tags": []
   },
   "outputs": [
    {
     "name": "stdout",
     "output_type": "stream",
     "text": [
      "This cannot work perfectly on Coursera!\n"
     ]
    },
    {
     "data": {
      "text/plain": [
       "'\\n%pip install wordcloud\\n%pip install fileupload\\n%pip install ipywidgets\\n%jupyter nbextension install --py --user fileupload\\n%jupyter nbextension enable --py fileupload\\n\\nimport wordcloud\\nimport numpy as np\\nfrom matplotlib import pyplot as plt\\nfrom IPython.display import display\\nimport fileupload\\nimport io\\nimport sys\\n'"
      ]
     },
     "execution_count": 103,
     "metadata": {},
     "output_type": "execute_result"
    }
   ],
   "source": [
    "print(\"This cannot work perfectly on Coursera!\")\n",
    "\n",
    "# Here are all the installs and imports you will need for your word cloud script and uploader widget\n",
    "'''\n",
    "%pip install wordcloud\n",
    "%pip install fileupload\n",
    "%pip install ipywidgets\n",
    "%jupyter nbextension install --py --user fileupload\n",
    "%jupyter nbextension enable --py fileupload\n",
    "\n",
    "import wordcloud\n",
    "import numpy as np\n",
    "from matplotlib import pyplot as plt\n",
    "from IPython.display import display\n",
    "import fileupload\n",
    "import io\n",
    "import sys\n",
    "'''"
   ]
  },
  {
   "cell_type": "markdown",
   "id": "a1106a98",
   "metadata": {
    "papermill": {
     "duration": 0.051439,
     "end_time": "2022-09-13T10:02:18.389445",
     "exception": false,
     "start_time": "2022-09-13T10:02:18.338006",
     "status": "completed"
    },
    "tags": []
   },
   "source": [
    "Whew! That was a lot. All of the installs and imports for your word cloud script and uploader widget have been completed. \n",
    "<br><br>\n",
    "**IMPORTANT!** If this was your first time running the above cell containing the installs and imports, you will need save this notebook now. Then under the File menu above,  select Close and Halt. When the notebook has completely shut down, reopen it. This is the only way the necessary changes will take affect.\n",
    "<br><br>\n",
    "To upload your text file, run the following cell that contains all the code for a custom uploader widget. Once you run this cell, a \"Browse\" button should appear below it. Click this button and navigate the window to locate your saved text file."
   ]
  },
  {
   "cell_type": "code",
   "execution_count": 104,
   "id": "5611323f",
   "metadata": {
    "execution": {
     "iopub.execute_input": "2022-09-13T10:02:18.495209Z",
     "iopub.status.busy": "2022-09-13T10:02:18.494806Z",
     "iopub.status.idle": "2022-09-13T10:02:18.501529Z",
     "shell.execute_reply": "2022-09-13T10:02:18.500721Z"
    },
    "papermill": {
     "duration": 0.063337,
     "end_time": "2022-09-13T10:02:18.504335",
     "exception": false,
     "start_time": "2022-09-13T10:02:18.440998",
     "status": "completed"
    },
    "tags": []
   },
   "outputs": [
    {
     "name": "stdout",
     "output_type": "stream",
     "text": [
      "This cannot work perfectly on Coursera!\n"
     ]
    },
    {
     "data": {
      "text/plain": [
       "\"\\n# This is the uploader widget\\ndef _upload():\\n\\n    _upload_widget = fileupload.FileUploadWidget()\\n\\n    def _cb(change):\\n        global file_contents\\n        decoded = io.StringIO(change['owner'].data.decode('utf-8'))\\n        filename = change['owner'].filename\\n        print('Uploaded `{}` ({:.2f} kB)'.format(\\n            filename, len(decoded.read()) / 2 **10))\\n        file_contents = decoded.getvalue()\\n\\n    _upload_widget.observe(_cb, names='data')\\n    display(_upload_widget)\\n\\n_upload()\\n\""
      ]
     },
     "execution_count": 104,
     "metadata": {},
     "output_type": "execute_result"
    }
   ],
   "source": [
    "print(\"This cannot work perfectly on Coursera!\")\n",
    "\n",
    "'''\n",
    "# This is the uploader widget\n",
    "def _upload():\n",
    "\n",
    "    _upload_widget = fileupload.FileUploadWidget()\n",
    "\n",
    "    def _cb(change):\n",
    "        global file_contents\n",
    "        decoded = io.StringIO(change['owner'].data.decode('utf-8'))\n",
    "        filename = change['owner'].filename\n",
    "        print('Uploaded `{}` ({:.2f} kB)'.format(\n",
    "            filename, len(decoded.read()) / 2 **10))\n",
    "        file_contents = decoded.getvalue()\n",
    "\n",
    "    _upload_widget.observe(_cb, names='data')\n",
    "    display(_upload_widget)\n",
    "\n",
    "_upload()\n",
    "'''"
   ]
  },
  {
   "cell_type": "markdown",
   "id": "622a21aa",
   "metadata": {
    "papermill": {
     "duration": 0.051995,
     "end_time": "2022-09-13T10:02:18.608095",
     "exception": false,
     "start_time": "2022-09-13T10:02:18.556100",
     "status": "completed"
    },
    "tags": []
   },
   "source": [
    "The uploader widget saved the contents of your uploaded file into a string object named *file_contents* that your word cloud script can process. This was a lot of preliminary work, but you are now ready to begin your script. "
   ]
  },
  {
   "cell_type": "markdown",
   "id": "17792d70",
   "metadata": {
    "papermill": {
     "duration": 0.051147,
     "end_time": "2022-09-13T10:02:18.710411",
     "exception": false,
     "start_time": "2022-09-13T10:02:18.659264",
     "status": "completed"
    },
    "tags": []
   },
   "source": [
    "Write a function in the cell below that iterates through the words in *file_contents*, removes punctuation, and counts the frequency of each word.  Oh, and be sure to make it ignore word case, words that do not contain all alphabets and boring words like \"and\" or \"the\".  Then use it in the `generate_from_frequencies` function to generate your very own word cloud!\n",
    "<br><br>\n",
    "**Hint:** Try storing the results of your iteration in a dictionary before passing them into wordcloud via the `generate_from_frequencies` function."
   ]
  },
  {
   "cell_type": "code",
   "execution_count": 105,
   "id": "dd09d696",
   "metadata": {
    "execution": {
     "iopub.execute_input": "2022-09-13T10:02:18.816566Z",
     "iopub.status.busy": "2022-09-13T10:02:18.816150Z",
     "iopub.status.idle": "2022-09-13T10:02:18.824218Z",
     "shell.execute_reply": "2022-09-13T10:02:18.822924Z"
    },
    "papermill": {
     "duration": 0.063663,
     "end_time": "2022-09-13T10:02:18.826426",
     "exception": false,
     "start_time": "2022-09-13T10:02:18.762763",
     "status": "completed"
    },
    "tags": []
   },
   "outputs": [
    {
     "name": "stdout",
     "output_type": "stream",
     "text": [
      "This cannot work perfectly on Coursera!\n"
     ]
    },
    {
     "data": {
      "text/plain": [
       "'\\ndef calculate_frequencies(file_contents):\\n    # Here is a list of punctuations and uninteresting words you can use to process your text\\n    punctuations = \"\"\"!()-[]{};:\\'\"\\\\,<>./?@#$%^&*_~\"\"\"\\n    uninteresting_words = [\"the\", \"a\", \"to\", \"if\", \"is\", \"it\", \"of\", \"and\", \"or\", \"an\", \"as\", \"i\", \"me\", \"my\",     \"we\", \"our\", \"ours\", \"you\", \"your\", \"yours\", \"he\", \"she\", \"him\", \"his\", \"her\", \"hers\", \"its\", \"they\", \"them\",     \"their\", \"what\", \"which\", \"who\", \"whom\", \"this\", \"that\", \"am\", \"are\", \"was\", \"were\", \"be\", \"been\", \"being\",     \"have\", \"has\", \"had\", \"do\", \"does\", \"did\", \"but\", \"at\", \"by\", \"with\", \"from\", \"here\", \"when\", \"where\", \"how\",     \"all\", \"any\", \"both\", \"each\", \"few\", \"more\", \"some\", \"such\", \"no\", \"nor\", \"too\", \"very\", \"can\", \"will\", \"just\"]\\n    \\n    # LEARNER CODE START HERE\\n    refined_text = \"\"\\n    frequency_count = {}\\n    \\n    #removing punctuation s and uninteresting words\\n    for char in file_contents:\\n        if char not in punctuations:\\n            refined_text += char\\n    \\n    #splitting the text into word list\\n    word_list = refined_text.split()\\n    \\n    #removing uninteresting words\\n    for word in word_list:\\n        if word.lower() not in uninteresting_words:\\n            if word in frequency_count:\\n                frequency_count[word] += 1\\n            else:\\n                frequency_count[word] = 1\\n    \\n    #wordcloud\\n    cloud = wordcloud.WordCloud()\\n    cloud.generate_from_frequencies(frequency_count)\\n    return cloud.to_array()\\n'"
      ]
     },
     "execution_count": 105,
     "metadata": {},
     "output_type": "execute_result"
    }
   ],
   "source": [
    "print(\"This cannot work perfectly on Coursera!\")\n",
    "\n",
    "'''\n",
    "def calculate_frequencies(file_contents):\n",
    "    # Here is a list of punctuations and uninteresting words you can use to process your text\n",
    "    punctuations = \"\"\"!()-[]{};:'\"\\,<>./?@#$%^&*_~\"\"\"\n",
    "    uninteresting_words = [\"the\", \"a\", \"to\", \"if\", \"is\", \"it\", \"of\", \"and\", \"or\", \"an\", \"as\", \"i\", \"me\", \"my\", \\\n",
    "    \"we\", \"our\", \"ours\", \"you\", \"your\", \"yours\", \"he\", \"she\", \"him\", \"his\", \"her\", \"hers\", \"its\", \"they\", \"them\", \\\n",
    "    \"their\", \"what\", \"which\", \"who\", \"whom\", \"this\", \"that\", \"am\", \"are\", \"was\", \"were\", \"be\", \"been\", \"being\", \\\n",
    "    \"have\", \"has\", \"had\", \"do\", \"does\", \"did\", \"but\", \"at\", \"by\", \"with\", \"from\", \"here\", \"when\", \"where\", \"how\", \\\n",
    "    \"all\", \"any\", \"both\", \"each\", \"few\", \"more\", \"some\", \"such\", \"no\", \"nor\", \"too\", \"very\", \"can\", \"will\", \"just\"]\n",
    "    \n",
    "    # LEARNER CODE START HERE\n",
    "    refined_text = \"\"\n",
    "    frequency_count = {}\n",
    "    \n",
    "    #removing punctuation s and uninteresting words\n",
    "    for char in file_contents:\n",
    "        if char not in punctuations:\n",
    "            refined_text += char\n",
    "    \n",
    "    #splitting the text into word list\n",
    "    word_list = refined_text.split()\n",
    "    \n",
    "    #removing uninteresting words\n",
    "    for word in word_list:\n",
    "        if word.lower() not in uninteresting_words:\n",
    "            if word in frequency_count:\n",
    "                frequency_count[word] += 1\n",
    "            else:\n",
    "                frequency_count[word] = 1\n",
    "    \n",
    "    #wordcloud\n",
    "    cloud = wordcloud.WordCloud()\n",
    "    cloud.generate_from_frequencies(frequency_count)\n",
    "    return cloud.to_array()\n",
    "'''"
   ]
  },
  {
   "cell_type": "markdown",
   "id": "83172ffa",
   "metadata": {
    "papermill": {
     "duration": 0.051752,
     "end_time": "2022-09-13T10:02:18.930974",
     "exception": false,
     "start_time": "2022-09-13T10:02:18.879222",
     "status": "completed"
    },
    "tags": []
   },
   "source": [
    "If you have done everything correctly, your word cloud image should appear after running the cell below.  Fingers crossed!"
   ]
  },
  {
   "cell_type": "code",
   "execution_count": 106,
   "id": "23f13391",
   "metadata": {
    "execution": {
     "iopub.execute_input": "2022-09-13T10:02:19.037908Z",
     "iopub.status.busy": "2022-09-13T10:02:19.037532Z",
     "iopub.status.idle": "2022-09-13T10:02:19.044462Z",
     "shell.execute_reply": "2022-09-13T10:02:19.043065Z"
    },
    "papermill": {
     "duration": 0.064164,
     "end_time": "2022-09-13T10:02:19.047668",
     "exception": false,
     "start_time": "2022-09-13T10:02:18.983504",
     "status": "completed"
    },
    "tags": []
   },
   "outputs": [
    {
     "name": "stdout",
     "output_type": "stream",
     "text": [
      "This cannot work perfectly on Coursera!\n"
     ]
    },
    {
     "data": {
      "text/plain": [
       "\"\\n# Display your wordcloud image\\nfile_contents = 'nurudeen.txt'\\nmyimage = calculate_frequencies(file_contents)\\nplt.imshow(myimage, interpolation = 'nearest')\\nplt.axis('off')\\nplt.show()\\n\""
      ]
     },
     "execution_count": 106,
     "metadata": {},
     "output_type": "execute_result"
    }
   ],
   "source": [
    "print(\"This cannot work perfectly on Coursera!\")\n",
    "\n",
    "'''\n",
    "# Display your wordcloud image\n",
    "file_contents = 'nurudeen.txt'\n",
    "myimage = calculate_frequencies(file_contents)\n",
    "plt.imshow(myimage, interpolation = 'nearest')\n",
    "plt.axis('off')\n",
    "plt.show()\n",
    "'''"
   ]
  },
  {
   "cell_type": "markdown",
   "id": "12cb1b78",
   "metadata": {
    "papermill": {
     "duration": 0.05288,
     "end_time": "2022-09-13T10:02:19.154280",
     "exception": false,
     "start_time": "2022-09-13T10:02:19.101400",
     "status": "completed"
    },
    "tags": []
   },
   "source": [
    "If your word cloud image did not appear, go back and rework your `calculate_frequencies` function until you get the desired output.  Definitely check that you passed your frequecy count dictionary into the `generate_from_frequencies` function of `wordcloud`. Once you have correctly displayed your word cloud image, you are all done with this project. Nice work!"
   ]
  },
  {
   "cell_type": "markdown",
   "id": "51d6ac8c",
   "metadata": {
    "papermill": {
     "duration": 0.053044,
     "end_time": "2022-09-13T10:02:19.260215",
     "exception": false,
     "start_time": "2022-09-13T10:02:19.207171",
     "status": "completed"
    },
    "tags": []
   },
   "source": [
    "<h1 align = \"center\">THE END!</h1>"
   ]
  }
 ],
 "metadata": {
  "kernelspec": {
   "display_name": "Python 3",
   "language": "python",
   "name": "python3"
  },
  "language_info": {
   "codemirror_mode": {
    "name": "ipython",
    "version": 3
   },
   "file_extension": ".py",
   "mimetype": "text/x-python",
   "name": "python",
   "nbconvert_exporter": "python",
   "pygments_lexer": "ipython3",
   "version": "3.7.12"
  },
  "papermill": {
   "default_parameters": {},
   "duration": 37.330498,
   "end_time": "2022-09-13T10:02:19.937155",
   "environment_variables": {},
   "exception": null,
   "input_path": "__notebook__.ipynb",
   "output_path": "__notebook__.ipynb",
   "parameters": {},
   "start_time": "2022-09-13T10:01:42.606657",
   "version": "2.3.4"
  }
 },
 "nbformat": 4,
 "nbformat_minor": 5
}
